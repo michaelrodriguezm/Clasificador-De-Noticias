{
  "cells": [
    {
      "cell_type": "code",
      "execution_count": 1,
      "metadata": {
        "id": "kQADwdCddIjv"
      },
      "outputs": [],
      "source": [
        "#importamos librerias necesarias para la manipulación\n",
        "import pandas as pd\n",
        "import numpy as np"
      ]
    },
    {
      "cell_type": "code",
      "execution_count": 2,
      "metadata": {
        "id": "jiRfdYelea0P",
        "colab": {
          "base_uri": "https://localhost:8080/"
        },
        "outputId": "d6ea09d1-ee6f-4c5e-8c51-def19b4e9f36"
      },
      "outputs": [
        {
          "output_type": "stream",
          "name": "stdout",
          "text": [
            "\u001b[?25l     \u001b[90m━━━━━━━━━━━━━━━━━━━━━━━━━━━━━━━━━━━━━━━━\u001b[0m \u001b[32m0.0/1.1 MB\u001b[0m \u001b[31m?\u001b[0m eta \u001b[36m-:--:--\u001b[0m\r\u001b[2K     \u001b[91m━━━━━\u001b[0m\u001b[90m╺\u001b[0m\u001b[90m━━━━━━━━━━━━━━━━━━━━━━━━━━━━━━━━━━\u001b[0m \u001b[32m0.1/1.1 MB\u001b[0m \u001b[31m4.1 MB/s\u001b[0m eta \u001b[36m0:00:01\u001b[0m\r\u001b[2K     \u001b[91m━━━━━━━━━━━━━━━━━\u001b[0m\u001b[91m╸\u001b[0m\u001b[90m━━━━━━━━━━━━━━━━━━━━━━\u001b[0m \u001b[32m0.5/1.1 MB\u001b[0m \u001b[31m6.8 MB/s\u001b[0m eta \u001b[36m0:00:01\u001b[0m\r\u001b[2K     \u001b[91m━━━━━━━━━━━━━━━━━━━━━━━━━━━━━━━━━\u001b[0m\u001b[90m╺\u001b[0m\u001b[90m━━━━━━\u001b[0m \u001b[32m0.9/1.1 MB\u001b[0m \u001b[31m8.5 MB/s\u001b[0m eta \u001b[36m0:00:01\u001b[0m\r\u001b[2K     \u001b[90m━━━━━━━━━━━━━━━━━━━━━━━━━━━━━━━━━━━━━━━━\u001b[0m \u001b[32m1.1/1.1 MB\u001b[0m \u001b[31m7.7 MB/s\u001b[0m eta \u001b[36m0:00:00\u001b[0m\n",
            "\u001b[?25h  Installing build dependencies ... \u001b[?25l\u001b[?25hdone\n",
            "  Getting requirements to build wheel ... \u001b[?25l\u001b[?25hdone\n",
            "  Preparing metadata (pyproject.toml) ... \u001b[?25l\u001b[?25hdone\n",
            "\u001b[2K     \u001b[90m━━━━━━━━━━━━━━━━━━━━━━━━━━━━━━━━━━━━━━━━\u001b[0m \u001b[32m3.1/3.1 MB\u001b[0m \u001b[31m20.5 MB/s\u001b[0m eta \u001b[36m0:00:00\u001b[0m\n",
            "\u001b[2K     \u001b[90m━━━━━━━━━━━━━━━━━━━━━━━━━━━━━━━━━━━━━━━━\u001b[0m \u001b[32m39.6/39.6 MB\u001b[0m \u001b[31m17.6 MB/s\u001b[0m eta \u001b[36m0:00:00\u001b[0m\n",
            "\u001b[2K     \u001b[90m━━━━━━━━━━━━━━━━━━━━━━━━━━━━━━━━━━━━━━━━\u001b[0m \u001b[32m682.2/682.2 kB\u001b[0m \u001b[31m58.8 MB/s\u001b[0m eta \u001b[36m0:00:00\u001b[0m\n",
            "\u001b[2K     \u001b[90m━━━━━━━━━━━━━━━━━━━━━━━━━━━━━━━━━━━━━━━━\u001b[0m \u001b[32m80.8/80.8 kB\u001b[0m \u001b[31m11.5 MB/s\u001b[0m eta \u001b[36m0:00:00\u001b[0m\n",
            "\u001b[2K     \u001b[90m━━━━━━━━━━━━━━━━━━━━━━━━━━━━━━━━━━━━━━━━\u001b[0m \u001b[32m49.3/49.3 kB\u001b[0m \u001b[31m7.6 MB/s\u001b[0m eta \u001b[36m0:00:00\u001b[0m\n",
            "\u001b[2K     \u001b[90m━━━━━━━━━━━━━━━━━━━━━━━━━━━━━━━━━━━━━━━━\u001b[0m \u001b[32m868.8/868.8 kB\u001b[0m \u001b[31m61.6 MB/s\u001b[0m eta \u001b[36m0:00:00\u001b[0m\n",
            "\u001b[2K     \u001b[90m━━━━━━━━━━━━━━━━━━━━━━━━━━━━━━━━━━━━━━━━\u001b[0m \u001b[32m98.1/98.1 kB\u001b[0m \u001b[31m15.0 MB/s\u001b[0m eta \u001b[36m0:00:00\u001b[0m\n",
            "\u001b[?25h  Installing build dependencies ... \u001b[?25l\u001b[?25hdone\n",
            "  Getting requirements to build wheel ... \u001b[?25l\u001b[?25hdone\n",
            "  Preparing metadata (pyproject.toml) ... \u001b[?25l\u001b[?25hdone\n",
            "\u001b[2K     \u001b[90m━━━━━━━━━━━━━━━━━━━━━━━━━━━━━━━━━━━━━━━━\u001b[0m \u001b[32m232.0/232.0 kB\u001b[0m \u001b[31m30.0 MB/s\u001b[0m eta \u001b[36m0:00:00\u001b[0m\n",
            "\u001b[2K     \u001b[90m━━━━━━━━━━━━━━━━━━━━━━━━━━━━━━━━━━━━━━━━\u001b[0m \u001b[32m897.5/897.5 kB\u001b[0m \u001b[31m75.8 MB/s\u001b[0m eta \u001b[36m0:00:00\u001b[0m\n",
            "\u001b[2K     \u001b[90m━━━━━━━━━━━━━━━━━━━━━━━━━━━━━━━━━━━━━━━━\u001b[0m \u001b[32m19.0/19.0 MB\u001b[0m \u001b[31m76.6 MB/s\u001b[0m eta \u001b[36m0:00:00\u001b[0m\n",
            "\u001b[2K     \u001b[90m━━━━━━━━━━━━━━━━━━━━━━━━━━━━━━━━━━━━━━━━\u001b[0m \u001b[32m92.5/92.5 MB\u001b[0m \u001b[31m9.1 MB/s\u001b[0m eta \u001b[36m0:00:00\u001b[0m\n",
            "\u001b[2K     \u001b[90m━━━━━━━━━━━━━━━━━━━━━━━━━━━━━━━━━━━━━━━━\u001b[0m \u001b[32m100.0/100.0 kB\u001b[0m \u001b[31m15.5 MB/s\u001b[0m eta \u001b[36m0:00:00\u001b[0m\n",
            "\u001b[2K     \u001b[90m━━━━━━━━━━━━━━━━━━━━━━━━━━━━━━━━━━━━━━━━\u001b[0m \u001b[32m159.9/159.9 kB\u001b[0m \u001b[31m22.0 MB/s\u001b[0m eta \u001b[36m0:00:00\u001b[0m\n",
            "\u001b[2K     \u001b[90m━━━━━━━━━━━━━━━━━━━━━━━━━━━━━━━━━━━━━━━━\u001b[0m \u001b[32m542.0/542.0 kB\u001b[0m \u001b[31m58.0 MB/s\u001b[0m eta \u001b[36m0:00:00\u001b[0m\n",
            "\u001b[2K     \u001b[90m━━━━━━━━━━━━━━━━━━━━━━━━━━━━━━━━━━━━━━━━\u001b[0m \u001b[32m143.8/143.8 kB\u001b[0m \u001b[31m21.5 MB/s\u001b[0m eta \u001b[36m0:00:00\u001b[0m\n",
            "\u001b[2K     \u001b[90m━━━━━━━━━━━━━━━━━━━━━━━━━━━━━━━━━━━━━━━━\u001b[0m \u001b[32m62.5/62.5 kB\u001b[0m \u001b[31m9.8 MB/s\u001b[0m eta \u001b[36m0:00:00\u001b[0m\n",
            "\u001b[2K     \u001b[90m━━━━━━━━━━━━━━━━━━━━━━━━━━━━━━━━━━━━━━━━\u001b[0m \u001b[32m117.7/117.7 kB\u001b[0m \u001b[31m16.8 MB/s\u001b[0m eta \u001b[36m0:00:00\u001b[0m\n",
            "\u001b[2K     \u001b[90m━━━━━━━━━━━━━━━━━━━━━━━━━━━━━━━━━━━━━━━━\u001b[0m \u001b[32m51.1/51.1 kB\u001b[0m \u001b[31m7.4 MB/s\u001b[0m eta \u001b[36m0:00:00\u001b[0m\n",
            "\u001b[2K     \u001b[90m━━━━━━━━━━━━━━━━━━━━━━━━━━━━━━━━━━━━━━━━\u001b[0m \u001b[32m21.3/21.3 MB\u001b[0m \u001b[31m74.4 MB/s\u001b[0m eta \u001b[36m0:00:00\u001b[0m\n",
            "\u001b[2K     \u001b[90m━━━━━━━━━━━━━━━━━━━━━━━━━━━━━━━━━━━━━━━━\u001b[0m \u001b[32m116.3/116.3 kB\u001b[0m \u001b[31m17.3 MB/s\u001b[0m eta \u001b[36m0:00:00\u001b[0m\n",
            "\u001b[2K     \u001b[90m━━━━━━━━━━━━━━━━━━━━━━━━━━━━━━━━━━━━━━━━\u001b[0m \u001b[32m194.1/194.1 kB\u001b[0m \u001b[31m26.1 MB/s\u001b[0m eta \u001b[36m0:00:00\u001b[0m\n",
            "\u001b[2K     \u001b[90m━━━━━━━━━━━━━━━━━━━━━━━━━━━━━━━━━━━━━━━━\u001b[0m \u001b[32m134.8/134.8 kB\u001b[0m \u001b[31m21.4 MB/s\u001b[0m eta \u001b[36m0:00:00\u001b[0m\n",
            "\u001b[2K     \u001b[90m━━━━━━━━━━━━━━━━━━━━━━━━━━━━━━━━━━━━━━━━\u001b[0m \u001b[32m58.4/58.4 kB\u001b[0m \u001b[31m9.1 MB/s\u001b[0m eta \u001b[36m0:00:00\u001b[0m\n",
            "\u001b[2K     \u001b[90m━━━━━━━━━━━━━━━━━━━━━━━━━━━━━━━━━━━━━━━━\u001b[0m \u001b[32m98.7/98.7 kB\u001b[0m \u001b[31m15.7 MB/s\u001b[0m eta \u001b[36m0:00:00\u001b[0m\n",
            "\u001b[?25h  Building wheel for ludwig (pyproject.toml) ... \u001b[?25l\u001b[?25hdone\n",
            "  Building wheel for gpustat (pyproject.toml) ... \u001b[?25l\u001b[?25hdone\n",
            "\u001b[2K     \u001b[90m━━━━━━━━━━━━━━━━━━━━━━━━━━━━━━━━━━━━━━━━\u001b[0m \u001b[32m292.8/292.8 kB\u001b[0m \u001b[31m5.7 MB/s\u001b[0m eta \u001b[36m0:00:00\u001b[0m\n",
            "\u001b[2K     \u001b[90m━━━━━━━━━━━━━━━━━━━━━━━━━━━━━━━━━━━━━━━━\u001b[0m \u001b[32m863.2/863.2 kB\u001b[0m \u001b[31m11.7 MB/s\u001b[0m eta \u001b[36m0:00:00\u001b[0m\n",
            "\u001b[?25h  Preparing metadata (setup.py) ... \u001b[?25l\u001b[?25hdone\n",
            "\u001b[2K     \u001b[90m━━━━━━━━━━━━━━━━━━━━━━━━━━━━━━━━━━━━━━━━\u001b[0m \u001b[32m283.1/283.1 kB\u001b[0m \u001b[31m12.2 MB/s\u001b[0m eta \u001b[36m0:00:00\u001b[0m\n",
            "\u001b[2K     \u001b[90m━━━━━━━━━━━━━━━━━━━━━━━━━━━━━━━━━━━━━━━━\u001b[0m \u001b[32m1.6/1.6 MB\u001b[0m \u001b[31m18.5 MB/s\u001b[0m eta \u001b[36m0:00:00\u001b[0m\n",
            "\u001b[2K     \u001b[90m━━━━━━━━━━━━━━━━━━━━━━━━━━━━━━━━━━━━━━━━\u001b[0m \u001b[32m3.0/3.0 MB\u001b[0m \u001b[31m28.1 MB/s\u001b[0m eta \u001b[36m0:00:00\u001b[0m\n",
            "\u001b[2K     \u001b[90m━━━━━━━━━━━━━━━━━━━━━━━━━━━━━━━━━━━━━━━━\u001b[0m \u001b[32m5.4/5.4 MB\u001b[0m \u001b[31m44.4 MB/s\u001b[0m eta \u001b[36m0:00:00\u001b[0m\n",
            "\u001b[?25h  Building wheel for ptitprince (setup.py) ... \u001b[?25l\u001b[?25hdone\n"
          ]
        }
      ],
      "source": [
        "# Prerequisite: Installs the latest version of Ludwig in the Colab environment\n",
        "#%pip uninstall -y tensorflow --quiet\n",
        "%pip install ludwig --quiet\n",
        "%pip install ludwig[viz] --quiet"
      ]
    },
    {
      "cell_type": "code",
      "execution_count": 3,
      "metadata": {
        "colab": {
          "base_uri": "https://localhost:8080/"
        },
        "id": "T9XbQ9FjfBxW",
        "outputId": "608562e5-0581-4ed5-d408-0e791a7c25ce"
      },
      "outputs": [
        {
          "output_type": "stream",
          "name": "stdout",
          "text": [
            "Mounted at /content/drive\n"
          ]
        }
      ],
      "source": [
        "#Cargamos base de datos en formato CSV\n",
        "#Cargamos base de datos en formato CSV\n",
        "from google.colab import drive\n",
        "drive.mount('/content/drive')"
      ]
    },
    {
      "cell_type": "code",
      "execution_count": 35,
      "metadata": {
        "id": "QZ7CmYx4fEsz"
      },
      "outputs": [],
      "source": [
        "df=pd.read_csv('/content/drive/MyDrive/negativa_positiva - Hoja 1.csv')"
      ]
    },
    {
      "cell_type": "code",
      "execution_count": 36,
      "metadata": {
        "colab": {
          "base_uri": "https://localhost:8080/",
          "height": 424
        },
        "id": "LzJ1xg5ifIBN",
        "outputId": "3e8523e3-159f-4da5-db54-e9f783929de3"
      },
      "outputs": [
        {
          "output_type": "execute_result",
          "data": {
            "text/plain": [
              "                                                TITULO  \\\n",
              "0    ¡Preocupante! Ocupación hotelera en Colombia s...   \n",
              "1    Dumek: “No puedo decir que a Cartagena la saqu...   \n",
              "2    Reportan baja de operaciones en 4 de las 10 ru...   \n",
              "3    BM advierte que pagos de la deuda privan de di...   \n",
              "4    La Cumbre del Clima podría promover la expansi...   \n",
              "..                                                 ...   \n",
              "410  Los costos están impulsando cambios en los háb...   \n",
              "411  La nueva aerolínea que solicitó operar en Colo...   \n",
              "412  Nuestra meta es llegar a todos los rincones tu...   \n",
              "413  Dan detalles del plan para reactivar la econom...   \n",
              "414  ¿Quiere alquilar su vivienda para uso vacacion...   \n",
              "\n",
              "                                          DESCRIPCION  CATEGORIA  DUMMY   \n",
              "0    De acuerdo con el Sistema de Información Hotel...  NEGATIVA      -1  \n",
              "1    Dumek Turbay, que resultó siendo el gran vence...  NEGATIVA      -1  \n",
              "2    De enero a septiembre de este año, cuatro de l...  NEGATIVA      -1  \n",
              "3    Brasil, Argentina, México, Colombia y Ecuador ...  NEGATIVA      -1  \n",
              "4    El documento final de la COP28 en Dubái da pie...  NEGATIVA      -1  \n",
              "..                                                 ...       ...     ...  \n",
              "410  El turismo en Colombia está en alza a nivel in...  POSITIVA       1  \n",
              "411  \\r\\nUna nueva aerolínea, ALMA, solicita operar...  POSITIVA       1  \n",
              "412  Civitatis, plataforma de actividades turística...  POSITIVA       1  \n",
              "413  El presidente Gustavo Petro anunció la prepara...  POSITIVA       1  \n",
              "414  El Gobierno está tomando medidas para regular ...  POSITIVA       1  \n",
              "\n",
              "[415 rows x 4 columns]"
            ],
            "text/html": [
              "\n",
              "  <div id=\"df-207412a4-d8bb-4797-8812-df5af2f04d2e\" class=\"colab-df-container\">\n",
              "    <div>\n",
              "<style scoped>\n",
              "    .dataframe tbody tr th:only-of-type {\n",
              "        vertical-align: middle;\n",
              "    }\n",
              "\n",
              "    .dataframe tbody tr th {\n",
              "        vertical-align: top;\n",
              "    }\n",
              "\n",
              "    .dataframe thead th {\n",
              "        text-align: right;\n",
              "    }\n",
              "</style>\n",
              "<table border=\"1\" class=\"dataframe\">\n",
              "  <thead>\n",
              "    <tr style=\"text-align: right;\">\n",
              "      <th></th>\n",
              "      <th>TITULO</th>\n",
              "      <th>DESCRIPCION</th>\n",
              "      <th>CATEGORIA</th>\n",
              "      <th>DUMMY</th>\n",
              "    </tr>\n",
              "  </thead>\n",
              "  <tbody>\n",
              "    <tr>\n",
              "      <th>0</th>\n",
              "      <td>¡Preocupante! Ocupación hotelera en Colombia s...</td>\n",
              "      <td>De acuerdo con el Sistema de Información Hotel...</td>\n",
              "      <td>NEGATIVA</td>\n",
              "      <td>-1</td>\n",
              "    </tr>\n",
              "    <tr>\n",
              "      <th>1</th>\n",
              "      <td>Dumek: “No puedo decir que a Cartagena la saqu...</td>\n",
              "      <td>Dumek Turbay, que resultó siendo el gran vence...</td>\n",
              "      <td>NEGATIVA</td>\n",
              "      <td>-1</td>\n",
              "    </tr>\n",
              "    <tr>\n",
              "      <th>2</th>\n",
              "      <td>Reportan baja de operaciones en 4 de las 10 ru...</td>\n",
              "      <td>De enero a septiembre de este año, cuatro de l...</td>\n",
              "      <td>NEGATIVA</td>\n",
              "      <td>-1</td>\n",
              "    </tr>\n",
              "    <tr>\n",
              "      <th>3</th>\n",
              "      <td>BM advierte que pagos de la deuda privan de di...</td>\n",
              "      <td>Brasil, Argentina, México, Colombia y Ecuador ...</td>\n",
              "      <td>NEGATIVA</td>\n",
              "      <td>-1</td>\n",
              "    </tr>\n",
              "    <tr>\n",
              "      <th>4</th>\n",
              "      <td>La Cumbre del Clima podría promover la expansi...</td>\n",
              "      <td>El documento final de la COP28 en Dubái da pie...</td>\n",
              "      <td>NEGATIVA</td>\n",
              "      <td>-1</td>\n",
              "    </tr>\n",
              "    <tr>\n",
              "      <th>...</th>\n",
              "      <td>...</td>\n",
              "      <td>...</td>\n",
              "      <td>...</td>\n",
              "      <td>...</td>\n",
              "    </tr>\n",
              "    <tr>\n",
              "      <th>410</th>\n",
              "      <td>Los costos están impulsando cambios en los háb...</td>\n",
              "      <td>El turismo en Colombia está en alza a nivel in...</td>\n",
              "      <td>POSITIVA</td>\n",
              "      <td>1</td>\n",
              "    </tr>\n",
              "    <tr>\n",
              "      <th>411</th>\n",
              "      <td>La nueva aerolínea que solicitó operar en Colo...</td>\n",
              "      <td>\\r\\nUna nueva aerolínea, ALMA, solicita operar...</td>\n",
              "      <td>POSITIVA</td>\n",
              "      <td>1</td>\n",
              "    </tr>\n",
              "    <tr>\n",
              "      <th>412</th>\n",
              "      <td>Nuestra meta es llegar a todos los rincones tu...</td>\n",
              "      <td>Civitatis, plataforma de actividades turística...</td>\n",
              "      <td>POSITIVA</td>\n",
              "      <td>1</td>\n",
              "    </tr>\n",
              "    <tr>\n",
              "      <th>413</th>\n",
              "      <td>Dan detalles del plan para reactivar la econom...</td>\n",
              "      <td>El presidente Gustavo Petro anunció la prepara...</td>\n",
              "      <td>POSITIVA</td>\n",
              "      <td>1</td>\n",
              "    </tr>\n",
              "    <tr>\n",
              "      <th>414</th>\n",
              "      <td>¿Quiere alquilar su vivienda para uso vacacion...</td>\n",
              "      <td>El Gobierno está tomando medidas para regular ...</td>\n",
              "      <td>POSITIVA</td>\n",
              "      <td>1</td>\n",
              "    </tr>\n",
              "  </tbody>\n",
              "</table>\n",
              "<p>415 rows × 4 columns</p>\n",
              "</div>\n",
              "    <div class=\"colab-df-buttons\">\n",
              "\n",
              "  <div class=\"colab-df-container\">\n",
              "    <button class=\"colab-df-convert\" onclick=\"convertToInteractive('df-207412a4-d8bb-4797-8812-df5af2f04d2e')\"\n",
              "            title=\"Convert this dataframe to an interactive table.\"\n",
              "            style=\"display:none;\">\n",
              "\n",
              "  <svg xmlns=\"http://www.w3.org/2000/svg\" height=\"24px\" viewBox=\"0 -960 960 960\">\n",
              "    <path d=\"M120-120v-720h720v720H120Zm60-500h600v-160H180v160Zm220 220h160v-160H400v160Zm0 220h160v-160H400v160ZM180-400h160v-160H180v160Zm440 0h160v-160H620v160ZM180-180h160v-160H180v160Zm440 0h160v-160H620v160Z\"/>\n",
              "  </svg>\n",
              "    </button>\n",
              "\n",
              "  <style>\n",
              "    .colab-df-container {\n",
              "      display:flex;\n",
              "      gap: 12px;\n",
              "    }\n",
              "\n",
              "    .colab-df-convert {\n",
              "      background-color: #E8F0FE;\n",
              "      border: none;\n",
              "      border-radius: 50%;\n",
              "      cursor: pointer;\n",
              "      display: none;\n",
              "      fill: #1967D2;\n",
              "      height: 32px;\n",
              "      padding: 0 0 0 0;\n",
              "      width: 32px;\n",
              "    }\n",
              "\n",
              "    .colab-df-convert:hover {\n",
              "      background-color: #E2EBFA;\n",
              "      box-shadow: 0px 1px 2px rgba(60, 64, 67, 0.3), 0px 1px 3px 1px rgba(60, 64, 67, 0.15);\n",
              "      fill: #174EA6;\n",
              "    }\n",
              "\n",
              "    .colab-df-buttons div {\n",
              "      margin-bottom: 4px;\n",
              "    }\n",
              "\n",
              "    [theme=dark] .colab-df-convert {\n",
              "      background-color: #3B4455;\n",
              "      fill: #D2E3FC;\n",
              "    }\n",
              "\n",
              "    [theme=dark] .colab-df-convert:hover {\n",
              "      background-color: #434B5C;\n",
              "      box-shadow: 0px 1px 3px 1px rgba(0, 0, 0, 0.15);\n",
              "      filter: drop-shadow(0px 1px 2px rgba(0, 0, 0, 0.3));\n",
              "      fill: #FFFFFF;\n",
              "    }\n",
              "  </style>\n",
              "\n",
              "    <script>\n",
              "      const buttonEl =\n",
              "        document.querySelector('#df-207412a4-d8bb-4797-8812-df5af2f04d2e button.colab-df-convert');\n",
              "      buttonEl.style.display =\n",
              "        google.colab.kernel.accessAllowed ? 'block' : 'none';\n",
              "\n",
              "      async function convertToInteractive(key) {\n",
              "        const element = document.querySelector('#df-207412a4-d8bb-4797-8812-df5af2f04d2e');\n",
              "        const dataTable =\n",
              "          await google.colab.kernel.invokeFunction('convertToInteractive',\n",
              "                                                    [key], {});\n",
              "        if (!dataTable) return;\n",
              "\n",
              "        const docLinkHtml = 'Like what you see? Visit the ' +\n",
              "          '<a target=\"_blank\" href=https://colab.research.google.com/notebooks/data_table.ipynb>data table notebook</a>'\n",
              "          + ' to learn more about interactive tables.';\n",
              "        element.innerHTML = '';\n",
              "        dataTable['output_type'] = 'display_data';\n",
              "        await google.colab.output.renderOutput(dataTable, element);\n",
              "        const docLink = document.createElement('div');\n",
              "        docLink.innerHTML = docLinkHtml;\n",
              "        element.appendChild(docLink);\n",
              "      }\n",
              "    </script>\n",
              "  </div>\n",
              "\n",
              "\n",
              "<div id=\"df-d143719f-986f-4e50-a0fd-18b9d47e9839\">\n",
              "  <button class=\"colab-df-quickchart\" onclick=\"quickchart('df-d143719f-986f-4e50-a0fd-18b9d47e9839')\"\n",
              "            title=\"Suggest charts\"\n",
              "            style=\"display:none;\">\n",
              "\n",
              "<svg xmlns=\"http://www.w3.org/2000/svg\" height=\"24px\"viewBox=\"0 0 24 24\"\n",
              "     width=\"24px\">\n",
              "    <g>\n",
              "        <path d=\"M19 3H5c-1.1 0-2 .9-2 2v14c0 1.1.9 2 2 2h14c1.1 0 2-.9 2-2V5c0-1.1-.9-2-2-2zM9 17H7v-7h2v7zm4 0h-2V7h2v10zm4 0h-2v-4h2v4z\"/>\n",
              "    </g>\n",
              "</svg>\n",
              "  </button>\n",
              "\n",
              "<style>\n",
              "  .colab-df-quickchart {\n",
              "      --bg-color: #E8F0FE;\n",
              "      --fill-color: #1967D2;\n",
              "      --hover-bg-color: #E2EBFA;\n",
              "      --hover-fill-color: #174EA6;\n",
              "      --disabled-fill-color: #AAA;\n",
              "      --disabled-bg-color: #DDD;\n",
              "  }\n",
              "\n",
              "  [theme=dark] .colab-df-quickchart {\n",
              "      --bg-color: #3B4455;\n",
              "      --fill-color: #D2E3FC;\n",
              "      --hover-bg-color: #434B5C;\n",
              "      --hover-fill-color: #FFFFFF;\n",
              "      --disabled-bg-color: #3B4455;\n",
              "      --disabled-fill-color: #666;\n",
              "  }\n",
              "\n",
              "  .colab-df-quickchart {\n",
              "    background-color: var(--bg-color);\n",
              "    border: none;\n",
              "    border-radius: 50%;\n",
              "    cursor: pointer;\n",
              "    display: none;\n",
              "    fill: var(--fill-color);\n",
              "    height: 32px;\n",
              "    padding: 0;\n",
              "    width: 32px;\n",
              "  }\n",
              "\n",
              "  .colab-df-quickchart:hover {\n",
              "    background-color: var(--hover-bg-color);\n",
              "    box-shadow: 0 1px 2px rgba(60, 64, 67, 0.3), 0 1px 3px 1px rgba(60, 64, 67, 0.15);\n",
              "    fill: var(--button-hover-fill-color);\n",
              "  }\n",
              "\n",
              "  .colab-df-quickchart-complete:disabled,\n",
              "  .colab-df-quickchart-complete:disabled:hover {\n",
              "    background-color: var(--disabled-bg-color);\n",
              "    fill: var(--disabled-fill-color);\n",
              "    box-shadow: none;\n",
              "  }\n",
              "\n",
              "  .colab-df-spinner {\n",
              "    border: 2px solid var(--fill-color);\n",
              "    border-color: transparent;\n",
              "    border-bottom-color: var(--fill-color);\n",
              "    animation:\n",
              "      spin 1s steps(1) infinite;\n",
              "  }\n",
              "\n",
              "  @keyframes spin {\n",
              "    0% {\n",
              "      border-color: transparent;\n",
              "      border-bottom-color: var(--fill-color);\n",
              "      border-left-color: var(--fill-color);\n",
              "    }\n",
              "    20% {\n",
              "      border-color: transparent;\n",
              "      border-left-color: var(--fill-color);\n",
              "      border-top-color: var(--fill-color);\n",
              "    }\n",
              "    30% {\n",
              "      border-color: transparent;\n",
              "      border-left-color: var(--fill-color);\n",
              "      border-top-color: var(--fill-color);\n",
              "      border-right-color: var(--fill-color);\n",
              "    }\n",
              "    40% {\n",
              "      border-color: transparent;\n",
              "      border-right-color: var(--fill-color);\n",
              "      border-top-color: var(--fill-color);\n",
              "    }\n",
              "    60% {\n",
              "      border-color: transparent;\n",
              "      border-right-color: var(--fill-color);\n",
              "    }\n",
              "    80% {\n",
              "      border-color: transparent;\n",
              "      border-right-color: var(--fill-color);\n",
              "      border-bottom-color: var(--fill-color);\n",
              "    }\n",
              "    90% {\n",
              "      border-color: transparent;\n",
              "      border-bottom-color: var(--fill-color);\n",
              "    }\n",
              "  }\n",
              "</style>\n",
              "\n",
              "  <script>\n",
              "    async function quickchart(key) {\n",
              "      const quickchartButtonEl =\n",
              "        document.querySelector('#' + key + ' button');\n",
              "      quickchartButtonEl.disabled = true;  // To prevent multiple clicks.\n",
              "      quickchartButtonEl.classList.add('colab-df-spinner');\n",
              "      try {\n",
              "        const charts = await google.colab.kernel.invokeFunction(\n",
              "            'suggestCharts', [key], {});\n",
              "      } catch (error) {\n",
              "        console.error('Error during call to suggestCharts:', error);\n",
              "      }\n",
              "      quickchartButtonEl.classList.remove('colab-df-spinner');\n",
              "      quickchartButtonEl.classList.add('colab-df-quickchart-complete');\n",
              "    }\n",
              "    (() => {\n",
              "      let quickchartButtonEl =\n",
              "        document.querySelector('#df-d143719f-986f-4e50-a0fd-18b9d47e9839 button');\n",
              "      quickchartButtonEl.style.display =\n",
              "        google.colab.kernel.accessAllowed ? 'block' : 'none';\n",
              "    })();\n",
              "  </script>\n",
              "</div>\n",
              "    </div>\n",
              "  </div>\n"
            ],
            "application/vnd.google.colaboratory.intrinsic+json": {
              "type": "dataframe",
              "variable_name": "df",
              "summary": "{\n  \"name\": \"df\",\n  \"rows\": 415,\n  \"fields\": [\n    {\n      \"column\": \"TITULO\",\n      \"properties\": {\n        \"dtype\": \"string\",\n        \"num_unique_values\": 407,\n        \"samples\": [\n          \"Decretan estado de calamidad p\\u00fablica en ciudad del oeste de Colombia\",\n          \"Las 12 mejores atracciones del mundo para hacer en 2024 seg\\u00fan Time Out\",\n          \"Cartagena oficializa su candidatura para el Consejo Ejecutivo de ONU Turismo 2024\"\n        ],\n        \"semantic_type\": \"\",\n        \"description\": \"\"\n      }\n    },\n    {\n      \"column\": \"DESCRIPCION \",\n      \"properties\": {\n        \"dtype\": \"string\",\n        \"num_unique_values\": 405,\n        \"samples\": [\n          \"De acuerdo con un video difundido en redes sociales, el \\u00e1rea de operaciones ser\\u00e1 el Valle del Cauca (suroccidente), Huila (sur), y Tolima y Quind\\u00edo, ambos ubicados en la regi\\u00f3n centro-oeste de la naci\\u00f3n.Difundi\\u00f3 asimismo el EMC que Marlon, jefe del Frente Jaime Mart\\u00ednez, ahora es el comandante del nuevo bloque. Su conformaci\\u00f3n, a\\u00f1adi\\u00f3, se realiza en solidaridad y respuesta a la agresi\\u00f3n militar contra el Bloque Occidental Comandante Jacobo Arenas. por lo cual puede afectar al turismo de la region ya que por miedo los turista dejaran de visitar la region\",\n          \"Tendencia en turismo: cada vez m\\u00e1s personas eligen compensar la huella de carbono de sus vacaciones En Argentina, la neutralidad de carbono en los viajes toma fuerza: desde agencias tur\\u00edsticas hasta casos individuales inspiradores como el de Silvia, quien neu\\u2026\",\n          \"Avianca ofrece tiquetes a precios muy econ\\u00f3micos para vuelos nacionales en Colombia, con ofertas disponibles hasta el 24 de abril de 2024. Los precios van desde $59.300 pesos colombianos, con destinos como Pereira, Medell\\u00edn, Monter\\u00eda, Barranquilla y Cartagena.\\r\\n\\r\\n\\r\\n\\r\\n\\r\\n\\r\\n\\r\"\n        ],\n        \"semantic_type\": \"\",\n        \"description\": \"\"\n      }\n    },\n    {\n      \"column\": \"CATEGORIA\",\n      \"properties\": {\n        \"dtype\": \"category\",\n        \"num_unique_values\": 2,\n        \"samples\": [\n          \"POSITIVA\",\n          \"NEGATIVA\"\n        ],\n        \"semantic_type\": \"\",\n        \"description\": \"\"\n      }\n    },\n    {\n      \"column\": \"DUMMY \",\n      \"properties\": {\n        \"dtype\": \"number\",\n        \"std\": 0,\n        \"min\": -1,\n        \"max\": 1,\n        \"num_unique_values\": 3,\n        \"samples\": [\n          -1,\n          1\n        ],\n        \"semantic_type\": \"\",\n        \"description\": \"\"\n      }\n    }\n  ]\n}"
            }
          },
          "metadata": {},
          "execution_count": 36
        }
      ],
      "source": [
        "df"
      ]
    },
    {
      "cell_type": "code",
      "execution_count": 37,
      "metadata": {
        "colab": {
          "base_uri": "https://localhost:8080/"
        },
        "id": "YXvXBn_XfJHN",
        "outputId": "3dcb9920-d936-4e5a-c2e7-511a3fa5f176"
      },
      "outputs": [
        {
          "output_type": "stream",
          "name": "stdout",
          "text": [
            "CATEGORIA\n",
            "POSITIVA    271\n",
            "NEGATIVA    144\n",
            "Name: count, dtype: int64\n"
          ]
        }
      ],
      "source": [
        "# Para contar cuántas veces aparece cada valor en la columna CATEGORIA\n",
        "conteo = df['CATEGORIA'].value_counts()\n",
        "\n",
        "print(conteo)"
      ]
    },
    {
      "cell_type": "code",
      "execution_count": 38,
      "metadata": {
        "id": "RIJWdbf7fMnF"
      },
      "outputs": [],
      "source": [
        "from sklearn.model_selection import train_test_split\n",
        "\n",
        "# Dividir el conjunto de datos en conjuntos de entrenamiento y prueba\n",
        "train_df, test_df = train_test_split(df, test_size=0.2, random_state=42)"
      ]
    },
    {
      "cell_type": "code",
      "execution_count": 39,
      "metadata": {
        "id": "lBmd7499fPi0"
      },
      "outputs": [],
      "source": [
        "# Guardar los conjuntos de datos\n",
        "train_df.to_csv('train_data.csv', index=False)\n",
        "test_df.to_csv('test_data.csv', index=False)"
      ]
    },
    {
      "cell_type": "code",
      "execution_count": 40,
      "metadata": {
        "colab": {
          "base_uri": "https://localhost:8080/"
        },
        "id": "eYfUs4kDfXsN",
        "outputId": "5d454fa3-3e89-4487-e79c-436fcb22d3a7"
      },
      "outputs": [
        {
          "name": "stdout",
          "output_type": "stream",
          "text": [
            "Token:··········\n"
          ]
        }
      ],
      "source": [
        "#Token Hugging face acceso\n",
        "import getpass\n",
        "#import locale; locale.setlocale(locale.LC_ALL, 'en_US.UTF-8')\n",
        "import logging\n",
        "import os\n",
        "\n",
        "#from ludwig.api import LudwigModel\n",
        "\n",
        "\n",
        "os.environ[\"HUGGING_FACE_HUB_TOKEN\"] = getpass.getpass(\"Token:\")\n",
        "assert os.environ[\"HUGGING_FACE_HUB_TOKEN\"]"
      ]
    },
    {
      "cell_type": "code",
      "source": [
        "from torchtext.transforms import SentencePieceTokenizer"
      ],
      "metadata": {
        "id": "lQ_28ugHx7Ei",
        "colab": {
          "base_uri": "https://localhost:8080/"
        },
        "outputId": "1a046f49-9076-47db-9ccc-6f7511f102e1"
      },
      "execution_count": 41,
      "outputs": [
        {
          "output_type": "stream",
          "name": "stderr",
          "text": [
            "/usr/local/lib/python3.10/dist-packages/torchtext/transforms.py:4: UserWarning: \n",
            "/!\\ IMPORTANT WARNING ABOUT TORCHTEXT STATUS /!\\ \n",
            "Torchtext is deprecated and the last released version will be 0.18 (this one). You can silence this warning by calling the following at the beginnign of your scripts: `import torchtext; torchtext.disable_torchtext_deprecation_warning()`\n",
            "  warnings.warn(torchtext._TORCHTEXT_DEPRECATION_MSG)\n",
            "/usr/local/lib/python3.10/dist-packages/torchtext/data/__init__.py:4: UserWarning: \n",
            "/!\\ IMPORTANT WARNING ABOUT TORCHTEXT STATUS /!\\ \n",
            "Torchtext is deprecated and the last released version will be 0.18 (this one). You can silence this warning by calling the following at the beginnign of your scripts: `import torchtext; torchtext.disable_torchtext_deprecation_warning()`\n",
            "  warnings.warn(torchtext._TORCHTEXT_DEPRECATION_MSG)\n",
            "/usr/local/lib/python3.10/dist-packages/torchtext/utils.py:4: UserWarning: \n",
            "/!\\ IMPORTANT WARNING ABOUT TORCHTEXT STATUS /!\\ \n",
            "Torchtext is deprecated and the last released version will be 0.18 (this one). You can silence this warning by calling the following at the beginnign of your scripts: `import torchtext; torchtext.disable_torchtext_deprecation_warning()`\n",
            "  warnings.warn(torchtext._TORCHTEXT_DEPRECATION_MSG)\n",
            "/usr/local/lib/python3.10/dist-packages/torchtext/vocab/__init__.py:4: UserWarning: \n",
            "/!\\ IMPORTANT WARNING ABOUT TORCHTEXT STATUS /!\\ \n",
            "Torchtext is deprecated and the last released version will be 0.18 (this one). You can silence this warning by calling the following at the beginnign of your scripts: `import torchtext; torchtext.disable_torchtext_deprecation_warning()`\n",
            "  warnings.warn(torchtext._TORCHTEXT_DEPRECATION_MSG)\n",
            "/usr/local/lib/python3.10/dist-packages/torchtext/functional.py:4: UserWarning: \n",
            "/!\\ IMPORTANT WARNING ABOUT TORCHTEXT STATUS /!\\ \n",
            "Torchtext is deprecated and the last released version will be 0.18 (this one). You can silence this warning by calling the following at the beginnign of your scripts: `import torchtext; torchtext.disable_torchtext_deprecation_warning()`\n",
            "  warnings.warn(torchtext._TORCHTEXT_DEPRECATION_MSG)\n"
          ]
        }
      ]
    },
    {
      "cell_type": "code",
      "execution_count": 42,
      "metadata": {
        "id": "lSFgnwPLfeku"
      },
      "outputs": [],
      "source": [
        "import logging\n",
        "from ludwig.api import LudwigModel\n",
        "\n",
        "# Configuración ajustada\n",
        "config = {\n",
        "    \"input_features\": [\n",
        "        {\n",
        "            \"name\": \"DESCRIPCION \",\n",
        "            \"type\": \"text\",\n",
        "            \"preprocessing\": {\"tokenizer\":\"hf_tokenizer\", \"cache_encoder_embeddings\": True},\n",
        "            \"encoder\": {\n",
        "                \"type\": \"auto_transformer\",\n",
        "                \"pretrained_model_name_or_path\": \"distilbert/distilbert-base-multilingual-cased\",\n",
        "                 \"trainable\": True,\n",
        "                \"regularizer\": {\n",
        "                    \"type\": \"l2\",\n",
        "                    \"weight\": 0.001  # Regularización L2 aplicada al encoder\n",
        "                }\n",
        "            }\n",
        "        },\n",
        "    ],\n",
        "    \"output_features\": [\n",
        "        {\n",
        "            \"name\": \"CATEGORIA\",\n",
        "            \"type\": \"binary\",\n",
        "            \"calibration\": True\n",
        "        }\n",
        "    ],\n",
        "    \"preprocessing\": {\n",
        "        \"oversample_minority\": 0.5\n",
        "    },\n",
        "    \"adapter\": {  # Corregido el espacio adicional en el nombre de la clave\n",
        "        \"type\": \"lora\",\n",
        "        \"r\": 8,\n",
        "        \"dropout\": 0.05,\n",
        "        \"target_modules\": None,  # Corregido de Null a None\n",
        "        \"use_rslora\": False,\n",
        "        \"use_dora\": False,\n",
        "        \"alpha\": 15,\n",
        "        \"pretrained_adapter_weights\": None,  # Corregido de Null a None\n",
        "        \"postprocessor\": {\n",
        "            \"merge_adapter_into_base_model\": False,\n",
        "            \"progressbar\": False,\n",
        "            \"bias_type\": \"none\"  # Corregido para que el valor sea una cadena\n",
        "        }\n",
        "    },\n",
        "    \"trainer\": {\n",
        "        \"epochs\": 40,\n",
        "        \"learning_rate\": 0.0001,\n",
        "        \"optimizer\": {\"type\": \"adamw\"},\n",
        "        \"batch_size\": 2,\n",
        "        \"early_stop\": 30,\n",
        "    }\n",
        "}"
      ]
    },
    {
      "cell_type": "code",
      "execution_count": 43,
      "metadata": {
        "id": "tZcJd42lfoHL"
      },
      "outputs": [],
      "source": [
        "# Crea una instancia del modelo Ludwig con la configuración\n",
        "model = LudwigModel(config, logging_level=logging.INFO)"
      ]
    },
    {
      "cell_type": "code",
      "execution_count": 44,
      "metadata": {
        "colab": {
          "base_uri": "https://localhost:8080/",
          "height": 1000,
          "referenced_widgets": [
            "2f99f3af29cb4bfc9eb14722cb232362",
            "cf6845f3c0be45b0b59033cbd2a61fa0",
            "a7bce36526ce45ea99e02efd0b56c998",
            "1db95647a51640489e438c9173185fd4",
            "3f0d025936d74b2ab1cf11b28b199543",
            "6f58ae16f30541768357dd25abb15977",
            "aa42c1aa411d419ea1c62fd168d307f2",
            "ff6e582e59d0437b8137fe6995140a91",
            "a69acd36a7f3412ba13da1ed403cf460",
            "e60877c9e56e4abe9b50fab03b342696",
            "d5386491dd0545fb9446fc0b69b4f061",
            "ded7f890c376425bbd2ece23389542a2",
            "9929a3950b4244838a5101313790777d",
            "3a8204f6a1214cd18fbc1b95d99990a5",
            "d87b8a0133634ff9be6557d87c1adce3",
            "2dfaf2bce02c4c2fb5eaa40588f65581",
            "5d9195be5fee4695b2545c63529b8738",
            "34166c45ea32418b987f9cd6e24db4e8",
            "a4095d60ec2349229584a186172ff923",
            "10c1be313d3240849bcad4b4bfb594da",
            "b2b7417c919c45f08353263b456df727",
            "0fff7a09ac0e430583d037378e551cdc",
            "487e8ed2a990458f95debbafee11d705",
            "59f004e77528491bac168aa41a0f4dbd",
            "26b8e4ac5a944844bd57a2e380c655bb",
            "f280df79be6c483e8257ddae17601c45",
            "d711f7c5354248bf8bdb896b7a7b3a04",
            "e547422bee4e4b4fba812880c626a369",
            "555bb9f1628d42c186543eedef29e2c9",
            "3375ae4049a94a7ea9701252fa558778",
            "e4e9ffaaaa8245c1aa1f2ac596076c0f",
            "50897a57192e448e86aafed73a6401b0",
            "17eb5d0e0cca4b73ba136f6e38ef0321",
            "ac48062e737345aca4c8a7e331e32d1a",
            "d0963dd05900422ab399afffbb13a18c",
            "3f0323f9f5be42c6ac9d85ad5218e1bb",
            "86eb985cf2b74a6e817494cd1bb2af74",
            "93d4b386cd4546d595ad584bb67ab015",
            "37a8a70e400d4da8b132cb4585804645",
            "9c8625eb58f84a16a8d5fab10fbeff37",
            "59ace9114c8c4caf9a616546ff9c88bf",
            "7458a543fc954790a3a47d178dcf7a13",
            "0910c073956945a881786454e8b688cb",
            "3cf1fac5fc074ace82a4c3c37e5e2833",
            "ffcd8e13c17b48b5970c645c341167c5",
            "1c173f15d9a24ecc886aa47ae58b2b2e",
            "85024726e380423cbe91f9984aca64ec",
            "7c19a15b22f046e79a995c3159119c34",
            "3ada0bc367294d4d92e58c62cb834a1d",
            "ab675100360147d58084b823b37e0423",
            "f71bdea4eb9a4a5cb32477d63d80bf7b",
            "bc86407b093e4939a9fb4ea84ce2dec6",
            "43455302292d452ca5767930e3a71f8c",
            "89c46e3195724e3ca16f9493d15866ab",
            "03dd6af65eda44c8af2de2d0be347c8d"
          ]
        },
        "id": "gR8iT1AzfqhV",
        "outputId": "419ec558-5629-476a-fe09-e7702aaf9883"
      },
      "outputs": [
        {
          "output_type": "stream",
          "name": "stderr",
          "text": [
            "INFO:ludwig.utils.print_utils:\n",
            "INFO:ludwig.utils.print_utils:╒════════════════════════╕\n",
            "INFO:ludwig.utils.print_utils:│ EXPERIMENT DESCRIPTION │\n",
            "INFO:ludwig.utils.print_utils:╘════════════════════════╛\n",
            "INFO:ludwig.utils.print_utils:\n",
            "INFO:ludwig.api:╒══════════════════╤═════════════════════════════════════════════════════════════════════════════════════════╕\n",
            "│ Experiment name  │ api_experiment                                                                          │\n",
            "├──────────────────┼─────────────────────────────────────────────────────────────────────────────────────────┤\n",
            "│ Model name       │ run                                                                                     │\n",
            "├──────────────────┼─────────────────────────────────────────────────────────────────────────────────────────┤\n",
            "│ Output directory │ /content/results/api_experiment_run                                                     │\n",
            "├──────────────────┼─────────────────────────────────────────────────────────────────────────────────────────┤\n",
            "│ ludwig_version   │ '0.10.3'                                                                                │\n",
            "├──────────────────┼─────────────────────────────────────────────────────────────────────────────────────────┤\n",
            "│ command          │ ('/usr/local/lib/python3.10/dist-packages/colab_kernel_launcher.py -f '                 │\n",
            "│                  │  '/root/.local/share/jupyter/runtime/kernel-842099be-e849-4450-a0b3-85cce0003211.json') │\n",
            "├──────────────────┼─────────────────────────────────────────────────────────────────────────────────────────┤\n",
            "│ random_seed      │ 42                                                                                      │\n",
            "├──────────────────┼─────────────────────────────────────────────────────────────────────────────────────────┤\n",
            "│ data_format      │ \"<class 'pandas.core.frame.DataFrame'>\"                                                 │\n",
            "├──────────────────┼─────────────────────────────────────────────────────────────────────────────────────────┤\n",
            "│ torch_version    │ '2.3.0+cu121'                                                                           │\n",
            "├──────────────────┼─────────────────────────────────────────────────────────────────────────────────────────┤\n",
            "│ compute          │ {   'arch_list': [   'sm_50',                                                           │\n",
            "│                  │                      'sm_60',                                                           │\n",
            "│                  │                      'sm_70',                                                           │\n",
            "│                  │                      'sm_75',                                                           │\n",
            "│                  │                      'sm_80',                                                           │\n",
            "│                  │                      'sm_86',                                                           │\n",
            "│                  │                      'sm_90'],                                                          │\n",
            "│                  │     'devices': {   0: {   'device_capability': (7, 5),                                  │\n",
            "│                  │                           'device_properties': \"_CudaDeviceProperties(name='Tesla \"     │\n",
            "│                  │                                                \"T4', major=7, minor=5, \"                │\n",
            "│                  │                                                'total_memory=15102MB, '                 │\n",
            "│                  │                                                'multi_processor_count=40)',             │\n",
            "│                  │                           'gpu_type': 'Tesla T4'}},                                     │\n",
            "│                  │     'gencode_flags': '-gencode compute=compute_50,code=sm_50 -gencode '                 │\n",
            "│                  │                      'compute=compute_60,code=sm_60 -gencode '                          │\n",
            "│                  │                      'compute=compute_70,code=sm_70 -gencode '                          │\n",
            "│                  │                      'compute=compute_75,code=sm_75 -gencode '                          │\n",
            "│                  │                      'compute=compute_80,code=sm_80 -gencode '                          │\n",
            "│                  │                      'compute=compute_86,code=sm_86 -gencode '                          │\n",
            "│                  │                      'compute=compute_90,code=sm_90',                                   │\n",
            "│                  │     'gpus_per_node': 1,                                                                 │\n",
            "│                  │     'num_nodes': 1}                                                                     │\n",
            "╘══════════════════╧═════════════════════════════════════════════════════════════════════════════════════════╛\n",
            "INFO:ludwig.utils.print_utils:\n",
            "INFO:ludwig.utils.print_utils:╒═══════════════╕\n",
            "INFO:ludwig.utils.print_utils:│ LUDWIG CONFIG │\n",
            "INFO:ludwig.utils.print_utils:╘═══════════════╛\n",
            "INFO:ludwig.utils.print_utils:\n",
            "INFO:ludwig.api:User-specified config (with upgrades):\n",
            "\n",
            "INFO:ludwig.api:{   'adapter': {   'alpha': 15,\n",
            "                   'dropout': 0.05,\n",
            "                   'postprocessor': {   'bias_type': 'none',\n",
            "                                        'merge_adapter_into_base_model': False,\n",
            "                                        'progressbar': False},\n",
            "                   'pretrained_adapter_weights': None,\n",
            "                   'r': 8,\n",
            "                   'target_modules': None,\n",
            "                   'type': 'lora',\n",
            "                   'use_dora': False,\n",
            "                   'use_rslora': False},\n",
            "    'input_features': [   {   'encoder': {   'pretrained_model_name_or_path': 'distilbert/distilbert-base-multilingual-cased',\n",
            "                                             'regularizer': {   'type': 'l2',\n",
            "                                                                'weight': 0.001},\n",
            "                                             'trainable': True,\n",
            "                                             'type': 'auto_transformer'},\n",
            "                              'name': 'DESCRIPCION ',\n",
            "                              'preprocessing': {   'cache_encoder_embeddings': True,\n",
            "                                                   'tokenizer': 'hf_tokenizer'},\n",
            "                              'type': 'text'}],\n",
            "    'ludwig_version': '0.10.3',\n",
            "    'output_features': [   {   'calibration': True,\n",
            "                               'name': 'CATEGORIA',\n",
            "                               'type': 'binary'}],\n",
            "    'preprocessing': {'oversample_minority': 0.5},\n",
            "    'trainer': {   'batch_size': 2,\n",
            "                   'early_stop': 30,\n",
            "                   'epochs': 40,\n",
            "                   'learning_rate': 0.0001,\n",
            "                   'optimizer': {'type': 'adamw'}}}\n",
            "INFO:ludwig.api:\n",
            "Full config saved to:\n",
            "/content/results/api_experiment_run/api_experiment/model/model_hyperparameters.json\n",
            "INFO:ludwig.utils.print_utils:\n",
            "INFO:ludwig.utils.print_utils:╒═══════════════╕\n",
            "INFO:ludwig.utils.print_utils:│ PREPROCESSING │\n",
            "INFO:ludwig.utils.print_utils:╘═══════════════╛\n",
            "INFO:ludwig.utils.print_utils:\n",
            "INFO:ludwig.data.preprocessing:No cached dataset found at /content/91c18460205211efb4590242ac1c000c.training.hdf5. Preprocessing the dataset.\n",
            "INFO:ludwig.data.preprocessing:Using full dataframe\n",
            "INFO:ludwig.data.preprocessing:Building dataset (it may take a while)\n",
            "/usr/local/lib/python3.10/dist-packages/huggingface_hub/utils/_token.py:89: UserWarning: \n",
            "The secret `HF_TOKEN` does not exist in your Colab secrets.\n",
            "To authenticate with the Hugging Face Hub, create a token in your settings tab (https://huggingface.co/settings/tokens), set it as secret in your Google Colab and restart your session.\n",
            "You will be able to reuse this secret in all of your notebooks.\n",
            "Please note that authentication is recommended but still optional to access public models or datasets.\n",
            "  warnings.warn(\n"
          ]
        },
        {
          "output_type": "display_data",
          "data": {
            "text/plain": [
              "tokenizer_config.json:   0%|          | 0.00/49.0 [00:00<?, ?B/s]"
            ],
            "application/vnd.jupyter.widget-view+json": {
              "version_major": 2,
              "version_minor": 0,
              "model_id": "2f99f3af29cb4bfc9eb14722cb232362"
            }
          },
          "metadata": {}
        },
        {
          "output_type": "stream",
          "name": "stderr",
          "text": [
            "/usr/local/lib/python3.10/dist-packages/huggingface_hub/file_download.py:1132: FutureWarning: `resume_download` is deprecated and will be removed in version 1.0.0. Downloads always resume when possible. If you want to force a new download, use `force_download=True`.\n",
            "  warnings.warn(\n"
          ]
        },
        {
          "output_type": "display_data",
          "data": {
            "text/plain": [
              "config.json:   0%|          | 0.00/466 [00:00<?, ?B/s]"
            ],
            "application/vnd.jupyter.widget-view+json": {
              "version_major": 2,
              "version_minor": 0,
              "model_id": "ded7f890c376425bbd2ece23389542a2"
            }
          },
          "metadata": {}
        },
        {
          "output_type": "display_data",
          "data": {
            "text/plain": [
              "vocab.txt:   0%|          | 0.00/996k [00:00<?, ?B/s]"
            ],
            "application/vnd.jupyter.widget-view+json": {
              "version_major": 2,
              "version_minor": 0,
              "model_id": "487e8ed2a990458f95debbafee11d705"
            }
          },
          "metadata": {}
        },
        {
          "output_type": "display_data",
          "data": {
            "text/plain": [
              "tokenizer.json:   0%|          | 0.00/1.96M [00:00<?, ?B/s]"
            ],
            "application/vnd.jupyter.widget-view+json": {
              "version_major": 2,
              "version_minor": 0,
              "model_id": "ac48062e737345aca4c8a7e331e32d1a"
            }
          },
          "metadata": {}
        },
        {
          "output_type": "stream",
          "name": "stderr",
          "text": [
            "INFO:ludwig.utils.tokenizers:Loaded TorchText implementation of distilbert/distilbert-base-multilingual-cased tokenizer\n",
            "INFO:ludwig.features.text_feature:Max length of feature 'DESCRIPCION ': 295 (without start and stop symbols)\n",
            "WARNING:ludwig.features.text_feature:The max sequence length of the data, 295, is longer than the max sequence length set in the config, 256. Note that this will truncate all examples to max_sequence_length=256.\n",
            "INFO:ludwig.features.text_feature:Max sequence length is 256 for feature 'DESCRIPCION '\n",
            "WARNING:ludwig.features.binary_feature:Binary feature CATEGORIA has at least 1 unconventional boolean value: Cannot automatically map value 'POSITIVA' to a boolean and no `preprocessing.fallback_true_label` specified. We will now interpret NEGATIVA as 1 and the other values as 0. If this is incorrect, please use the category feature type or manually specify the true value with `preprocessing.fallback_true_label`.\n",
            "INFO:ludwig.utils.tokenizers:Loaded TorchText implementation of distilbert/distilbert-base-multilingual-cased tokenizer\n",
            "INFO:ludwig.data.preprocessing:Building dataset: DONE\n",
            "INFO:ludwig.data.cache.manager:Writing preprocessed training set cache to /content/91c18460205211efb4590242ac1c000c.training.hdf5\n",
            "INFO:ludwig.data.cache.manager:Writing preprocessed validation set cache to /content/91c18460205211efb4590242ac1c000c.validation.hdf5\n",
            "INFO:ludwig.data.cache.manager:Writing preprocessed test set cache to /content/91c18460205211efb4590242ac1c000c.test.hdf5\n",
            "INFO:ludwig.data.cache.manager:Writing train set metadata to /content/91c18460205211efb4590242ac1c000c.meta.json\n",
            "INFO:ludwig.api:\n",
            "Dataset Statistics\n",
            "INFO:ludwig.api:╒════════════╤═══════════════╤════════════════════╕\n",
            "│ Dataset    │   Size (Rows) │ Size (In Memory)   │\n",
            "╞════════════╪═══════════════╪════════════════════╡\n",
            "│ Training   │           231 │ 27.42 Kb           │\n",
            "├────────────┼───────────────┼────────────────────┤\n",
            "│ Validation │            33 │ 4.02 Kb            │\n",
            "├────────────┼───────────────┼────────────────────┤\n",
            "│ Test       │            66 │ 7.92 Kb            │\n",
            "╘════════════╧═══════════════╧════════════════════╛\n",
            "INFO:ludwig.utils.print_utils:\n",
            "INFO:ludwig.utils.print_utils:╒═══════╕\n",
            "INFO:ludwig.utils.print_utils:│ MODEL │\n",
            "INFO:ludwig.utils.print_utils:╘═══════╛\n",
            "INFO:ludwig.utils.print_utils:\n",
            "INFO:ludwig.api:Warnings and other logs:\n"
          ]
        },
        {
          "output_type": "display_data",
          "data": {
            "text/plain": [
              "model.safetensors:   0%|          | 0.00/542M [00:00<?, ?B/s]"
            ],
            "application/vnd.jupyter.widget-view+json": {
              "version_major": 2,
              "version_minor": 0,
              "model_id": "ffcd8e13c17b48b5970c645c341167c5"
            }
          },
          "metadata": {}
        },
        {
          "output_type": "stream",
          "name": "stderr",
          "text": [
            "INFO:ludwig.trainers.trainer:Tuning batch size...\n",
            "INFO:ludwig.utils.batch_size_tuner:Tuning batch size...\n",
            "INFO:ludwig.utils.batch_size_tuner:Exploring batch_size=1\n",
            "INFO:ludwig.utils.batch_size_tuner:Throughput at batch_size=1: 82.13496 samples/s\n",
            "INFO:ludwig.utils.batch_size_tuner:Exploring batch_size=2\n",
            "INFO:ludwig.utils.batch_size_tuner:Throughput at batch_size=2: 91.61470 samples/s\n",
            "INFO:ludwig.utils.batch_size_tuner:Exploring batch_size=4\n",
            "INFO:ludwig.utils.batch_size_tuner:Throughput at batch_size=4: 110.65962 samples/s\n",
            "INFO:ludwig.utils.batch_size_tuner:Exploring batch_size=8\n",
            "INFO:ludwig.utils.batch_size_tuner:Throughput at batch_size=8: 138.27642 samples/s\n",
            "INFO:ludwig.utils.batch_size_tuner:Exploring batch_size=16\n",
            "INFO:ludwig.utils.batch_size_tuner:Throughput at batch_size=16: 145.00494 samples/s\n",
            "INFO:ludwig.utils.batch_size_tuner:Exploring batch_size=32\n",
            "INFO:ludwig.utils.batch_size_tuner:Throughput at batch_size=32: 140.68207 samples/s\n",
            "INFO:ludwig.utils.batch_size_tuner:Throughput decrease at batch_size=32\n",
            "INFO:ludwig.utils.batch_size_tuner:Selected batch_size=16\n",
            "INFO:ludwig.utils.print_utils:\n",
            "INFO:ludwig.utils.print_utils:╒══════════╕\n",
            "INFO:ludwig.utils.print_utils:│ TRAINING │\n",
            "INFO:ludwig.utils.print_utils:╘══════════╛\n",
            "INFO:ludwig.utils.print_utils:\n",
            "INFO:ludwig.trainers.trainer:Creating fresh model training run.\n",
            "INFO:ludwig.trainers.trainer:Training for 4640 step(s), approximately 40 epoch(s).\n",
            "INFO:ludwig.trainers.trainer:Early stopping policy: 30 round(s) of evaluation, or 3480 step(s), approximately 30 epoch(s).\n",
            "\n",
            "INFO:ludwig.trainers.trainer:Starting with step 0, epoch: 0\n"
          ]
        },
        {
          "output_type": "stream",
          "name": "stdout",
          "text": [
            "Training:   2%|▏         | 115/4640 [00:11<07:20, 10.28it/s, loss=0]"
          ]
        },
        {
          "output_type": "stream",
          "name": "stderr",
          "text": [
            "INFO:ludwig.data.batcher.random_access:Last batch in epoch only has 1 sample and will be dropped.\n",
            "INFO:ludwig.data.batcher.random_access:Last batch in epoch only has 1 sample and will be dropped.\n",
            "INFO:ludwig.data.batcher.random_access:Last batch in epoch only has 1 sample and will be dropped.\n"
          ]
        },
        {
          "output_type": "stream",
          "name": "stdout",
          "text": [
            "\rTraining:   2%|▏         | 115/4640 [00:23<07:20, 10.28it/s, loss=37.1]"
          ]
        },
        {
          "output_type": "stream",
          "name": "stderr",
          "text": [
            "INFO:ludwig.trainers.trainer:\n",
            "Running evaluation for step: 116, epoch: 1\n"
          ]
        },
        {
          "output_type": "stream",
          "name": "stdout",
          "text": [
            "Evaluation valid: 100%|██████████| 3/3 [00:00<00:00, 12.87it/s]\n",
            "Evaluation test : 100%|██████████| 5/5 [00:00<00:00, 10.75it/s]"
          ]
        },
        {
          "output_type": "stream",
          "name": "stderr",
          "text": [
            "INFO:ludwig.trainers.trainer:Evaluation took 0.9267s\n",
            "\n",
            "INFO:ludwig.utils.metrics_printed_table:╒═══════════════╤═════════╤══════════════╤═════════╕\n",
            "│               │   train │   validation │    test │\n",
            "╞═══════════════╪═════════╪══════════════╪═════════╡\n",
            "│ accuracy      │  0.5000 │       0.6970 │  0.7121 │\n",
            "├───────────────┼─────────┼──────────────┼─────────┤\n",
            "│ loss          │ 37.1335 │      17.7340 │ 27.2879 │\n",
            "├───────────────┼─────────┼──────────────┼─────────┤\n",
            "│ precision     │  0.0000 │       0.0000 │  0.0000 │\n",
            "├───────────────┼─────────┼──────────────┼─────────┤\n",
            "│ recall        │  0.0000 │       0.0000 │  0.0000 │\n",
            "├───────────────┼─────────┼──────────────┼─────────┤\n",
            "│ roc_auc       │  1.0000 │       0.6283 │  0.7581 │\n",
            "├───────────────┼─────────┼──────────────┼─────────┤\n",
            "│ specificity   │  1.0000 │       1.0000 │  1.0000 │\n",
            "├───────────────┼─────────┼──────────────┼─────────┤\n",
            "│ combined_loss │ 37.1335 │      17.7340 │ 27.2879 │\n",
            "╘═══════════════╧═════════╧══════════════╧═════════╛\n",
            "INFO:ludwig.trainers.trainer:Evaluation validation metric: 'CATEGORIA' 'roc_auc' improved.\n",
            "INFO:ludwig.trainers.trainer:'CATEGORIA' 'roc_auc' increased by inf.\n",
            "INFO:ludwig.trainers.trainer:New best model saved.\n",
            "\n"
          ]
        },
        {
          "output_type": "stream",
          "name": "stdout",
          "text": [
            "\n",
            "Training:   5%|▍         | 229/4640 [01:37<07:03, 10.41it/s, loss=51.8]"
          ]
        },
        {
          "output_type": "stream",
          "name": "stderr",
          "text": [
            "INFO:ludwig.data.batcher.random_access:Last batch in epoch only has 1 sample and will be dropped.\n",
            "INFO:ludwig.data.batcher.random_access:Last batch in epoch only has 1 sample and will be dropped.\n",
            "INFO:ludwig.data.batcher.random_access:Last batch in epoch only has 1 sample and will be dropped.\n"
          ]
        },
        {
          "output_type": "stream",
          "name": "stdout",
          "text": [
            "Training:   5%|▌         | 232/4640 [01:53<2:31:33,  2.06s/it, loss=30.4]"
          ]
        },
        {
          "output_type": "stream",
          "name": "stderr",
          "text": [
            "INFO:ludwig.trainers.trainer:\n",
            "Running evaluation for step: 232, epoch: 2\n"
          ]
        },
        {
          "output_type": "stream",
          "name": "stdout",
          "text": [
            "Evaluation valid: 100%|██████████| 3/3 [00:00<00:00, 12.58it/s]\n",
            "Evaluation test : 100%|██████████| 5/5 [00:00<00:00, 10.62it/s]"
          ]
        },
        {
          "output_type": "stream",
          "name": "stderr",
          "text": [
            "INFO:ludwig.trainers.trainer:Evaluation took 0.7569s\n",
            "\n",
            "INFO:ludwig.utils.metrics_printed_table:╒═══════════════╤═════════╤══════════════╤═════════╕\n",
            "│               │   train │   validation │    test │\n",
            "╞═══════════════╪═════════╪══════════════╪═════════╡\n",
            "│ accuracy      │  0.5000 │       0.5152 │  0.4242 │\n",
            "├───────────────┼─────────┼──────────────┼─────────┤\n",
            "│ loss          │ 19.3715 │      42.4330 │ 68.2395 │\n",
            "├───────────────┼─────────┼──────────────┼─────────┤\n",
            "│ precision     │  1.0000 │       0.3636 │  0.3208 │\n",
            "├───────────────┼─────────┼──────────────┼─────────┤\n",
            "│ recall        │  0.3333 │       0.8000 │  0.8947 │\n",
            "├───────────────┼─────────┼──────────────┼─────────┤\n",
            "│ roc_auc       │  0.3333 │       0.5783 │  0.5868 │\n",
            "├───────────────┼─────────┼──────────────┼─────────┤\n",
            "│ specificity   │  1.0000 │       0.3913 │  0.2340 │\n",
            "├───────────────┼─────────┼──────────────┼─────────┤\n",
            "│ combined_loss │ 19.3715 │      42.4330 │ 68.2395 │\n",
            "╘═══════════════╧═════════╧══════════════╧═════════╛\n",
            "INFO:ludwig.trainers.trainer:Last improvement of CATEGORIA validation roc_auc happened 116 step(s) ago.\n",
            "\n"
          ]
        },
        {
          "output_type": "stream",
          "name": "stdout",
          "text": [
            "\n",
            "Training:   7%|▋         | 344/4640 [02:45<06:59, 10.24it/s, loss=0]   "
          ]
        },
        {
          "output_type": "stream",
          "name": "stderr",
          "text": [
            "INFO:ludwig.data.batcher.random_access:Last batch in epoch only has 1 sample and will be dropped.\n",
            "INFO:ludwig.data.batcher.random_access:Last batch in epoch only has 1 sample and will be dropped.\n",
            "INFO:ludwig.data.batcher.random_access:Last batch in epoch only has 1 sample and will be dropped.\n"
          ]
        },
        {
          "output_type": "stream",
          "name": "stdout",
          "text": [
            "Training:   8%|▊         | 348/4640 [03:18<4:00:13,  3.36s/it, loss=20.2]"
          ]
        },
        {
          "output_type": "stream",
          "name": "stderr",
          "text": [
            "INFO:ludwig.trainers.trainer:\n",
            "Running evaluation for step: 348, epoch: 3\n"
          ]
        },
        {
          "output_type": "stream",
          "name": "stdout",
          "text": [
            "Evaluation valid: 100%|██████████| 3/3 [00:00<00:00, 13.17it/s]\n",
            "Evaluation test : 100%|██████████| 5/5 [00:00<00:00, 10.69it/s]"
          ]
        },
        {
          "output_type": "stream",
          "name": "stderr",
          "text": [
            "INFO:ludwig.trainers.trainer:Evaluation took 0.7283s\n",
            "\n",
            "INFO:ludwig.utils.metrics_printed_table:╒═══════════════╤═════════╤══════════════╤════════╕\n",
            "│               │   train │   validation │   test │\n",
            "╞═══════════════╪═════════╪══════════════╪════════╡\n",
            "│ accuracy      │  0.8333 │       0.6970 │ 0.7121 │\n",
            "├───────────────┼─────────┼──────────────┼────────┤\n",
            "│ loss          │  6.7486 │       6.3385 │ 9.4127 │\n",
            "├───────────────┼─────────┼──────────────┼────────┤\n",
            "│ precision     │  0.0000 │       0.0000 │ 0.0000 │\n",
            "├───────────────┼─────────┼──────────────┼────────┤\n",
            "│ recall        │  0.0000 │       0.0000 │ 0.0000 │\n",
            "├───────────────┼─────────┼──────────────┼────────┤\n",
            "│ roc_auc       │  0.4000 │       0.7043 │ 0.7816 │\n",
            "├───────────────┼─────────┼──────────────┼────────┤\n",
            "│ specificity   │  1.0000 │       1.0000 │ 1.0000 │\n",
            "├───────────────┼─────────┼──────────────┼────────┤\n",
            "│ combined_loss │  6.7486 │       6.3385 │ 9.4127 │\n",
            "╘═══════════════╧═════════╧══════════════╧════════╛\n",
            "INFO:ludwig.trainers.trainer:Evaluation validation metric: 'CATEGORIA' 'roc_auc' improved.\n",
            "INFO:ludwig.trainers.trainer:'CATEGORIA' 'roc_auc' increased by 0.076.\n",
            "INFO:ludwig.trainers.trainer:New best model saved.\n",
            "\n"
          ]
        },
        {
          "output_type": "stream",
          "name": "stdout",
          "text": [
            "\n",
            "Training:  10%|▉         | 460/4640 [04:12<06:45, 10.32it/s, loss=0]"
          ]
        },
        {
          "output_type": "stream",
          "name": "stderr",
          "text": [
            "INFO:ludwig.data.batcher.random_access:Last batch in epoch only has 1 sample and will be dropped.\n",
            "INFO:ludwig.data.batcher.random_access:Last batch in epoch only has 1 sample and will be dropped.\n",
            "INFO:ludwig.data.batcher.random_access:Last batch in epoch only has 1 sample and will be dropped.\n"
          ]
        },
        {
          "output_type": "stream",
          "name": "stdout",
          "text": [
            "Training:  10%|█         | 464/4640 [04:37<2:29:58,  2.15s/it, loss=0]"
          ]
        },
        {
          "output_type": "stream",
          "name": "stderr",
          "text": [
            "INFO:ludwig.trainers.trainer:\n",
            "Running evaluation for step: 464, epoch: 4\n"
          ]
        },
        {
          "output_type": "stream",
          "name": "stdout",
          "text": [
            "Evaluation valid: 100%|██████████| 3/3 [00:00<00:00, 12.41it/s]\n",
            "Evaluation test : 100%|██████████| 5/5 [00:00<00:00, 10.56it/s]"
          ]
        },
        {
          "output_type": "stream",
          "name": "stderr",
          "text": [
            "INFO:ludwig.trainers.trainer:Evaluation took 0.7684s\n",
            "\n",
            "INFO:ludwig.utils.metrics_printed_table:╒═══════════════╤═════════╤══════════════╤═════════╕\n",
            "│               │   train │   validation │    test │\n",
            "╞═══════════════╪═════════╪══════════════╪═════════╡\n",
            "│ accuracy      │  0.8750 │       0.6970 │  0.7121 │\n",
            "├───────────────┼─────────┼──────────────┼─────────┤\n",
            "│ loss          │ 10.3288 │      12.0539 │ 16.8684 │\n",
            "├───────────────┼─────────┼──────────────┼─────────┤\n",
            "│ precision     │  0.0000 │       0.0000 │  0.0000 │\n",
            "├───────────────┼─────────┼──────────────┼─────────┤\n",
            "│ recall        │  0.0000 │       0.0000 │  0.0000 │\n",
            "├───────────────┼─────────┼──────────────┼─────────┤\n",
            "│ roc_auc       │  0.1429 │       0.6543 │  0.7268 │\n",
            "├───────────────┼─────────┼──────────────┼─────────┤\n",
            "│ specificity   │  1.0000 │       1.0000 │  1.0000 │\n",
            "├───────────────┼─────────┼──────────────┼─────────┤\n",
            "│ combined_loss │ 10.3288 │      12.0539 │ 16.8684 │\n",
            "╘═══════════════╧═════════╧══════════════╧═════════╛\n",
            "INFO:ludwig.trainers.trainer:Last improvement of CATEGORIA validation roc_auc happened 116 step(s) ago.\n",
            "\n"
          ]
        },
        {
          "output_type": "stream",
          "name": "stdout",
          "text": [
            "\n",
            "Training:  12%|█▏        | 574/4640 [05:16<06:33, 10.34it/s, loss=1.37e-13]"
          ]
        },
        {
          "output_type": "stream",
          "name": "stderr",
          "text": [
            "INFO:ludwig.data.batcher.random_access:Last batch in epoch only has 1 sample and will be dropped.\n",
            "INFO:ludwig.data.batcher.random_access:Last batch in epoch only has 1 sample and will be dropped.\n",
            "INFO:ludwig.data.batcher.random_access:Last batch in epoch only has 1 sample and will be dropped.\n"
          ]
        },
        {
          "output_type": "stream",
          "name": "stdout",
          "text": [
            "Training:  12%|█▎        | 580/4640 [05:27<47:37,  1.42it/s, loss=10.6]  "
          ]
        },
        {
          "output_type": "stream",
          "name": "stderr",
          "text": [
            "INFO:ludwig.trainers.trainer:\n",
            "Running evaluation for step: 580, epoch: 5\n"
          ]
        },
        {
          "output_type": "stream",
          "name": "stdout",
          "text": [
            "Evaluation valid: 100%|██████████| 3/3 [00:00<00:00, 12.24it/s]\n",
            "Evaluation test : 100%|██████████| 5/5 [00:00<00:00, 10.52it/s]"
          ]
        },
        {
          "output_type": "stream",
          "name": "stderr",
          "text": [
            "INFO:ludwig.trainers.trainer:Evaluation took 0.7704s\n",
            "\n",
            "INFO:ludwig.utils.metrics_printed_table:╒═══════════════╤═════════╤══════════════╤════════╕\n",
            "│               │   train │   validation │   test │\n",
            "╞═══════════════╪═════════╪══════════════╪════════╡\n",
            "│ accuracy      │  0.4000 │       0.6970 │ 0.7121 │\n",
            "├───────────────┼─────────┼──────────────┼────────┤\n",
            "│ loss          │  5.9704 │       5.1836 │ 4.7953 │\n",
            "├───────────────┼─────────┼──────────────┼────────┤\n",
            "│ precision     │  0.0000 │       0.0000 │ 0.0000 │\n",
            "├───────────────┼─────────┼──────────────┼────────┤\n",
            "│ recall        │  0.0000 │       0.0000 │ 0.0000 │\n",
            "├───────────────┼─────────┼──────────────┼────────┤\n",
            "│ roc_auc       │  0.5833 │       0.7152 │ 0.8343 │\n",
            "├───────────────┼─────────┼──────────────┼────────┤\n",
            "│ specificity   │  0.6667 │       1.0000 │ 1.0000 │\n",
            "├───────────────┼─────────┼──────────────┼────────┤\n",
            "│ combined_loss │  5.9704 │       5.1836 │ 4.7953 │\n",
            "╘═══════════════╧═════════╧══════════════╧════════╛\n",
            "INFO:ludwig.trainers.trainer:Evaluation validation metric: 'CATEGORIA' 'roc_auc' improved.\n",
            "INFO:ludwig.trainers.trainer:'CATEGORIA' 'roc_auc' increased by 0.011.\n",
            "INFO:ludwig.trainers.trainer:New best model saved.\n",
            "\n"
          ]
        },
        {
          "output_type": "stream",
          "name": "stdout",
          "text": [
            "\n",
            "Training:  15%|█▍        | 689/4640 [06:23<06:26, 10.24it/s, loss=6.31]  "
          ]
        },
        {
          "output_type": "stream",
          "name": "stderr",
          "text": [
            "INFO:ludwig.data.batcher.random_access:Last batch in epoch only has 1 sample and will be dropped.\n",
            "INFO:ludwig.data.batcher.random_access:Last batch in epoch only has 1 sample and will be dropped.\n",
            "INFO:ludwig.data.batcher.random_access:Last batch in epoch only has 1 sample and will be dropped.\n"
          ]
        },
        {
          "output_type": "stream",
          "name": "stdout",
          "text": [
            "Training:  15%|█▌        | 696/4640 [06:53<1:32:19,  1.40s/it, loss=4.77e-7]"
          ]
        },
        {
          "output_type": "stream",
          "name": "stderr",
          "text": [
            "INFO:ludwig.trainers.trainer:\n",
            "Running evaluation for step: 696, epoch: 6\n"
          ]
        },
        {
          "output_type": "stream",
          "name": "stdout",
          "text": [
            "Evaluation valid: 100%|██████████| 3/3 [00:00<00:00, 13.04it/s]\n",
            "Evaluation test : 100%|██████████| 5/5 [00:00<00:00, 10.55it/s]"
          ]
        },
        {
          "output_type": "stream",
          "name": "stderr",
          "text": [
            "INFO:ludwig.trainers.trainer:Evaluation took 0.7562s\n",
            "\n",
            "INFO:ludwig.utils.metrics_printed_table:╒═══════════════╤═════════╤══════════════╤════════╕\n",
            "│               │   train │   validation │   test │\n",
            "╞═══════════════╪═════════╪══════════════╪════════╡\n",
            "│ accuracy      │  0.5000 │       0.6970 │ 0.7121 │\n",
            "├───────────────┼─────────┼──────────────┼────────┤\n",
            "│ loss          │  5.1067 │       3.7060 │ 5.7834 │\n",
            "├───────────────┼─────────┼──────────────┼────────┤\n",
            "│ precision     │  0.3333 │       0.0000 │ 0.0000 │\n",
            "├───────────────┼─────────┼──────────────┼────────┤\n",
            "│ recall        │  0.5000 │       0.0000 │ 0.0000 │\n",
            "├───────────────┼─────────┼──────────────┼────────┤\n",
            "│ roc_auc       │  0.5938 │       0.1696 │ 0.1489 │\n",
            "├───────────────┼─────────┼──────────────┼────────┤\n",
            "│ specificity   │  0.5000 │       1.0000 │ 1.0000 │\n",
            "├───────────────┼─────────┼──────────────┼────────┤\n",
            "│ combined_loss │  5.1067 │       3.7060 │ 5.7834 │\n",
            "╘═══════════════╧═════════╧══════════════╧════════╛\n",
            "INFO:ludwig.trainers.trainer:Last improvement of CATEGORIA validation roc_auc happened 116 step(s) ago.\n",
            "\n"
          ]
        },
        {
          "output_type": "stream",
          "name": "stdout",
          "text": [
            "\n",
            "Training:  17%|█▋        | 805/4640 [07:29<06:28,  9.86it/s, loss=7.88]"
          ]
        },
        {
          "output_type": "stream",
          "name": "stderr",
          "text": [
            "INFO:ludwig.data.batcher.random_access:Last batch in epoch only has 1 sample and will be dropped.\n",
            "INFO:ludwig.data.batcher.random_access:Last batch in epoch only has 1 sample and will be dropped.\n",
            "INFO:ludwig.data.batcher.random_access:Last batch in epoch only has 1 sample and will be dropped.\n"
          ]
        },
        {
          "output_type": "stream",
          "name": "stdout",
          "text": [
            "Training:  17%|█▋        | 811/4640 [07:53<1:19:47,  1.25s/it, loss=0]   "
          ]
        },
        {
          "output_type": "stream",
          "name": "stderr",
          "text": [
            "INFO:ludwig.trainers.trainer:\n",
            "Running evaluation for step: 812, epoch: 7\n"
          ]
        },
        {
          "output_type": "stream",
          "name": "stdout",
          "text": [
            "Evaluation valid: 100%|██████████| 3/3 [00:00<00:00, 12.63it/s]\n",
            "Evaluation test : 100%|██████████| 5/5 [00:00<00:00, 10.72it/s]"
          ]
        },
        {
          "output_type": "stream",
          "name": "stderr",
          "text": [
            "INFO:ludwig.trainers.trainer:Evaluation took 0.7433s\n",
            "\n",
            "INFO:ludwig.utils.metrics_printed_table:╒═══════════════╤═════════╤══════════════╤════════╕\n",
            "│               │   train │   validation │   test │\n",
            "╞═══════════════╪═════════╪══════════════╪════════╡\n",
            "│ accuracy      │  0.7143 │       0.7879 │ 0.8030 │\n",
            "├───────────────┼─────────┼──────────────┼────────┤\n",
            "│ loss          │ 11.6451 │       0.4711 │ 0.4816 │\n",
            "├───────────────┼─────────┼──────────────┼────────┤\n",
            "│ precision     │  0.0000 │       0.7143 │ 0.7143 │\n",
            "├───────────────┼─────────┼──────────────┼────────┤\n",
            "│ recall        │  0.0000 │       0.5000 │ 0.5263 │\n",
            "├───────────────┼─────────┼──────────────┼────────┤\n",
            "│ roc_auc       │  0.6000 │       0.8217 │ 0.8645 │\n",
            "├───────────────┼─────────┼──────────────┼────────┤\n",
            "│ specificity   │  1.0000 │       0.9130 │ 0.9149 │\n",
            "├───────────────┼─────────┼──────────────┼────────┤\n",
            "│ combined_loss │ 11.6451 │       0.4711 │ 0.4816 │\n",
            "╘═══════════════╧═════════╧══════════════╧════════╛\n",
            "INFO:ludwig.trainers.trainer:Evaluation validation metric: 'CATEGORIA' 'roc_auc' improved.\n",
            "INFO:ludwig.trainers.trainer:'CATEGORIA' 'roc_auc' increased by 0.107.\n",
            "INFO:ludwig.trainers.trainer:New best model saved.\n",
            "\n"
          ]
        },
        {
          "output_type": "stream",
          "name": "stdout",
          "text": [
            "\n",
            "Training:  20%|█▉        | 920/4640 [08:51<05:57, 10.41it/s, loss=0]"
          ]
        },
        {
          "output_type": "stream",
          "name": "stderr",
          "text": [
            "INFO:ludwig.data.batcher.random_access:Last batch in epoch only has 1 sample and will be dropped.\n",
            "INFO:ludwig.data.batcher.random_access:Last batch in epoch only has 1 sample and will be dropped.\n",
            "INFO:ludwig.data.batcher.random_access:Last batch in epoch only has 1 sample and will be dropped.\n"
          ]
        },
        {
          "output_type": "stream",
          "name": "stdout",
          "text": [
            "Training:  20%|██        | 928/4640 [09:16<42:56,  1.44it/s, loss=0.0262]  "
          ]
        },
        {
          "output_type": "stream",
          "name": "stderr",
          "text": [
            "INFO:ludwig.trainers.trainer:\n",
            "Running evaluation for step: 928, epoch: 8\n"
          ]
        },
        {
          "output_type": "stream",
          "name": "stdout",
          "text": [
            "Evaluation valid: 100%|██████████| 3/3 [00:00<00:00, 12.85it/s]\n",
            "Evaluation test : 100%|██████████| 5/5 [00:00<00:00, 10.86it/s]"
          ]
        },
        {
          "output_type": "stream",
          "name": "stderr",
          "text": [
            "INFO:ludwig.trainers.trainer:Evaluation took 0.7301s\n",
            "\n",
            "INFO:ludwig.utils.metrics_printed_table:╒═══════════════╤═════════╤══════════════╤════════╕\n",
            "│               │   train │   validation │   test │\n",
            "╞═══════════════╪═════════╪══════════════╪════════╡\n",
            "│ accuracy      │  0.8750 │       0.8182 │ 0.7727 │\n",
            "├───────────────┼─────────┼──────────────┼────────┤\n",
            "│ loss          │  4.1081 │       1.2167 │ 1.5979 │\n",
            "├───────────────┼─────────┼──────────────┼────────┤\n",
            "│ precision     │  1.0000 │       0.6667 │ 0.5667 │\n",
            "├───────────────┼─────────┼──────────────┼────────┤\n",
            "│ recall        │  0.5000 │       0.8000 │ 0.8947 │\n",
            "├───────────────┼─────────┼──────────────┼────────┤\n",
            "│ roc_auc       │  1.0000 │       0.8522 │ 0.8729 │\n",
            "├───────────────┼─────────┼──────────────┼────────┤\n",
            "│ specificity   │  1.0000 │       0.8261 │ 0.7234 │\n",
            "├───────────────┼─────────┼──────────────┼────────┤\n",
            "│ combined_loss │  4.1081 │       1.2167 │ 1.5979 │\n",
            "╘═══════════════╧═════════╧══════════════╧════════╛\n",
            "INFO:ludwig.trainers.trainer:Evaluation validation metric: 'CATEGORIA' 'roc_auc' improved.\n",
            "INFO:ludwig.trainers.trainer:'CATEGORIA' 'roc_auc' increased by 0.03.\n",
            "INFO:ludwig.trainers.trainer:New best model saved.\n",
            "\n"
          ]
        },
        {
          "output_type": "stream",
          "name": "stdout",
          "text": [
            "\n",
            "Training:  22%|██▏       | 1035/4640 [10:08<05:51, 10.27it/s, loss=0]"
          ]
        },
        {
          "output_type": "stream",
          "name": "stderr",
          "text": [
            "INFO:ludwig.data.batcher.random_access:Last batch in epoch only has 1 sample and will be dropped.\n",
            "INFO:ludwig.data.batcher.random_access:Last batch in epoch only has 1 sample and will be dropped.\n",
            "INFO:ludwig.data.batcher.random_access:Last batch in epoch only has 1 sample and will be dropped.\n"
          ]
        },
        {
          "output_type": "stream",
          "name": "stdout",
          "text": [
            "Training:  22%|██▎       | 1044/4640 [10:35<44:17,  1.35it/s, loss=0]"
          ]
        },
        {
          "output_type": "stream",
          "name": "stderr",
          "text": [
            "INFO:ludwig.trainers.trainer:\n",
            "Running evaluation for step: 1044, epoch: 9\n"
          ]
        },
        {
          "output_type": "stream",
          "name": "stdout",
          "text": [
            "Evaluation valid: 100%|██████████| 3/3 [00:00<00:00, 13.00it/s]\n",
            "Evaluation test : 100%|██████████| 5/5 [00:00<00:00, 10.74it/s]"
          ]
        },
        {
          "output_type": "stream",
          "name": "stderr",
          "text": [
            "INFO:ludwig.trainers.trainer:Evaluation took 0.7338s\n",
            "\n",
            "INFO:ludwig.utils.metrics_printed_table:╒═══════════════╤═════════╤══════════════╤═════════╕\n",
            "│               │   train │   validation │    test │\n",
            "╞═══════════════╪═════════╪══════════════╪═════════╡\n",
            "│ accuracy      │  0.8333 │       0.7879 │  0.7879 │\n",
            "├───────────────┼─────────┼──────────────┼─────────┤\n",
            "│ loss          │  1.8728 │      17.7332 │ 24.6472 │\n",
            "├───────────────┼─────────┼──────────────┼─────────┤\n",
            "│ precision     │  0.6000 │       1.0000 │  1.0000 │\n",
            "├───────────────┼─────────┼──────────────┼─────────┤\n",
            "│ recall        │  0.7500 │       0.3000 │  0.2632 │\n",
            "├───────────────┼─────────┼──────────────┼─────────┤\n",
            "│ roc_auc       │  0.9375 │       0.7000 │  0.7032 │\n",
            "├───────────────┼─────────┼──────────────┼─────────┤\n",
            "│ specificity   │  0.8571 │       1.0000 │  1.0000 │\n",
            "├───────────────┼─────────┼──────────────┼─────────┤\n",
            "│ combined_loss │  1.8728 │      17.7332 │ 24.6472 │\n",
            "╘═══════════════╧═════════╧══════════════╧═════════╛\n",
            "INFO:ludwig.trainers.trainer:Last improvement of CATEGORIA validation roc_auc happened 116 step(s) ago.\n",
            "\n"
          ]
        },
        {
          "output_type": "stream",
          "name": "stdout",
          "text": [
            "\n",
            "Training:  25%|██▍       | 1150/4640 [11:13<05:38, 10.31it/s, loss=0]"
          ]
        },
        {
          "output_type": "stream",
          "name": "stderr",
          "text": [
            "INFO:ludwig.data.batcher.random_access:Last batch in epoch only has 1 sample and will be dropped.\n",
            "INFO:ludwig.data.batcher.random_access:Last batch in epoch only has 1 sample and will be dropped.\n",
            "INFO:ludwig.data.batcher.random_access:Last batch in epoch only has 1 sample and will be dropped.\n"
          ]
        },
        {
          "output_type": "stream",
          "name": "stdout",
          "text": [
            "Training:  25%|██▍       | 1159/4640 [11:31<27:02,  2.14it/s, loss=0]   "
          ]
        },
        {
          "output_type": "stream",
          "name": "stderr",
          "text": [
            "INFO:ludwig.trainers.trainer:\n",
            "Running evaluation for step: 1160, epoch: 10\n"
          ]
        },
        {
          "output_type": "stream",
          "name": "stdout",
          "text": [
            "Evaluation valid: 100%|██████████| 3/3 [00:00<00:00, 12.90it/s]\n",
            "Evaluation test : 100%|██████████| 5/5 [00:00<00:00, 10.71it/s]"
          ]
        },
        {
          "output_type": "stream",
          "name": "stderr",
          "text": [
            "INFO:ludwig.trainers.trainer:Evaluation took 0.7340s\n",
            "\n",
            "INFO:ludwig.utils.metrics_printed_table:╒═══════════════╤═════════╤══════════════╤════════╕\n",
            "│               │   train │   validation │   test │\n",
            "╞═══════════════╪═════════╪══════════════╪════════╡\n",
            "│ accuracy      │  0.9000 │       0.8182 │ 0.8939 │\n",
            "├───────────────┼─────────┼──────────────┼────────┤\n",
            "│ loss          │  0.7019 │       3.0223 │ 1.0363 │\n",
            "├───────────────┼─────────┼──────────────┼────────┤\n",
            "│ precision     │  1.0000 │       0.6667 │ 0.8000 │\n",
            "├───────────────┼─────────┼──────────────┼────────┤\n",
            "│ recall        │  0.5000 │       0.8000 │ 0.8421 │\n",
            "├───────────────┼─────────┼──────────────┼────────┤\n",
            "│ roc_auc       │  1.0000 │       0.8609 │ 0.9087 │\n",
            "├───────────────┼─────────┼──────────────┼────────┤\n",
            "│ specificity   │  1.0000 │       0.8261 │ 0.9149 │\n",
            "├───────────────┼─────────┼──────────────┼────────┤\n",
            "│ combined_loss │  0.7019 │       3.0223 │ 1.0363 │\n",
            "╘═══════════════╧═════════╧══════════════╧════════╛\n",
            "INFO:ludwig.trainers.trainer:Evaluation validation metric: 'CATEGORIA' 'roc_auc' improved.\n",
            "INFO:ludwig.trainers.trainer:'CATEGORIA' 'roc_auc' increased by 0.009.\n",
            "INFO:ludwig.trainers.trainer:New best model saved.\n",
            "\n"
          ]
        },
        {
          "output_type": "stream",
          "name": "stdout",
          "text": [
            "\n",
            "Training:  27%|██▋       | 1265/4640 [12:25<05:45,  9.76it/s, loss=0]"
          ]
        },
        {
          "output_type": "stream",
          "name": "stderr",
          "text": [
            "INFO:ludwig.data.batcher.random_access:Last batch in epoch only has 1 sample and will be dropped.\n",
            "INFO:ludwig.data.batcher.random_access:Last batch in epoch only has 1 sample and will be dropped.\n",
            "INFO:ludwig.data.batcher.random_access:Last batch in epoch only has 1 sample and will be dropped.\n"
          ]
        },
        {
          "output_type": "stream",
          "name": "stdout",
          "text": [
            "Training:  28%|██▊       | 1276/4640 [12:58<41:27,  1.35it/s, loss=0]  "
          ]
        },
        {
          "output_type": "stream",
          "name": "stderr",
          "text": [
            "INFO:ludwig.trainers.trainer:\n",
            "Running evaluation for step: 1276, epoch: 11\n"
          ]
        },
        {
          "output_type": "stream",
          "name": "stdout",
          "text": [
            "Evaluation valid: 100%|██████████| 3/3 [00:00<00:00, 12.97it/s]\n",
            "Evaluation test : 100%|██████████| 5/5 [00:00<00:00, 10.81it/s]"
          ]
        },
        {
          "output_type": "stream",
          "name": "stderr",
          "text": [
            "INFO:ludwig.trainers.trainer:Evaluation took 0.7299s\n",
            "\n",
            "INFO:ludwig.utils.metrics_printed_table:╒═══════════════╤═════════╤══════════════╤════════╕\n",
            "│               │   train │   validation │   test │\n",
            "╞═══════════════╪═════════╪══════════════╪════════╡\n",
            "│ accuracy      │  1.0000 │       0.7576 │ 0.8939 │\n",
            "├───────────────┼─────────┼──────────────┼────────┤\n",
            "│ loss          │  0.0000 │      18.6688 │ 6.2574 │\n",
            "├───────────────┼─────────┼──────────────┼────────┤\n",
            "│ precision     │  1.0000 │       0.6250 │ 0.8750 │\n",
            "├───────────────┼─────────┼──────────────┼────────┤\n",
            "│ recall        │  1.0000 │       0.5000 │ 0.7368 │\n",
            "├───────────────┼─────────┼──────────────┼────────┤\n",
            "│ roc_auc       │  1.0000 │       0.8630 │ 0.8970 │\n",
            "├───────────────┼─────────┼──────────────┼────────┤\n",
            "│ specificity   │  1.0000 │       0.8696 │ 0.9574 │\n",
            "├───────────────┼─────────┼──────────────┼────────┤\n",
            "│ combined_loss │  0.0000 │      18.6688 │ 6.2574 │\n",
            "╘═══════════════╧═════════╧══════════════╧════════╛\n",
            "INFO:ludwig.trainers.trainer:Evaluation validation metric: 'CATEGORIA' 'roc_auc' improved.\n",
            "INFO:ludwig.trainers.trainer:'CATEGORIA' 'roc_auc' increased by 0.002.\n",
            "INFO:ludwig.trainers.trainer:New best model saved.\n",
            "\n"
          ]
        },
        {
          "output_type": "stream",
          "name": "stdout",
          "text": [
            "\n",
            "Training:  30%|██▉       | 1380/4640 [13:37<05:11, 10.47it/s, loss=7.87e-14]"
          ]
        },
        {
          "output_type": "stream",
          "name": "stderr",
          "text": [
            "INFO:ludwig.data.batcher.random_access:Last batch in epoch only has 1 sample and will be dropped.\n",
            "INFO:ludwig.data.batcher.random_access:Last batch in epoch only has 1 sample and will be dropped.\n",
            "INFO:ludwig.data.batcher.random_access:Last batch in epoch only has 1 sample and will be dropped.\n"
          ]
        },
        {
          "output_type": "stream",
          "name": "stdout",
          "text": [
            "Training:  30%|███       | 1392/4640 [13:57<11:22,  4.76it/s, loss=8.88e-13]"
          ]
        },
        {
          "output_type": "stream",
          "name": "stderr",
          "text": [
            "INFO:ludwig.trainers.trainer:\n",
            "Running evaluation for step: 1392, epoch: 12\n"
          ]
        },
        {
          "output_type": "stream",
          "name": "stdout",
          "text": [
            "Evaluation valid: 100%|██████████| 3/3 [00:00<00:00, 12.55it/s]\n",
            "Evaluation test : 100%|██████████| 5/5 [00:00<00:00, 10.56it/s]"
          ]
        },
        {
          "output_type": "stream",
          "name": "stderr",
          "text": [
            "INFO:ludwig.trainers.trainer:Evaluation took 0.7699s\n",
            "\n",
            "INFO:ludwig.utils.metrics_printed_table:╒═══════════════╤═════════╤══════════════╤════════╕\n",
            "│               │   train │   validation │   test │\n",
            "╞═══════════════╪═════════╪══════════════╪════════╡\n",
            "│ accuracy      │  1.0000 │       0.8182 │ 0.8939 │\n",
            "├───────────────┼─────────┼──────────────┼────────┤\n",
            "│ loss          │  0.0000 │      11.0372 │ 7.7709 │\n",
            "├───────────────┼─────────┼──────────────┼────────┤\n",
            "│ precision     │  1.0000 │       0.7500 │ 0.8750 │\n",
            "├───────────────┼─────────┼──────────────┼────────┤\n",
            "│ recall        │  1.0000 │       0.6000 │ 0.7368 │\n",
            "├───────────────┼─────────┼──────────────┼────────┤\n",
            "│ roc_auc       │  1.0000 │       0.7435 │ 0.8690 │\n",
            "├───────────────┼─────────┼──────────────┼────────┤\n",
            "│ specificity   │  1.0000 │       0.9130 │ 0.9574 │\n",
            "├───────────────┼─────────┼──────────────┼────────┤\n",
            "│ combined_loss │  0.0000 │      11.0372 │ 7.7709 │\n",
            "╘═══════════════╧═════════╧══════════════╧════════╛\n",
            "INFO:ludwig.trainers.trainer:Last improvement of CATEGORIA validation roc_auc happened 116 step(s) ago.\n",
            "\n"
          ]
        },
        {
          "output_type": "stream",
          "name": "stdout",
          "text": [
            "\n",
            "Training:  32%|███▏      | 1495/4640 [14:36<05:03, 10.35it/s, loss=0]"
          ]
        },
        {
          "output_type": "stream",
          "name": "stderr",
          "text": [
            "INFO:ludwig.data.batcher.random_access:Last batch in epoch only has 1 sample and will be dropped.\n",
            "INFO:ludwig.data.batcher.random_access:Last batch in epoch only has 1 sample and will be dropped.\n",
            "INFO:ludwig.data.batcher.random_access:Last batch in epoch only has 1 sample and will be dropped.\n"
          ]
        },
        {
          "output_type": "stream",
          "name": "stdout",
          "text": [
            "Training:  32%|███▏      | 1507/4640 [14:44<09:18,  5.61it/s, loss=0]   "
          ]
        },
        {
          "output_type": "stream",
          "name": "stderr",
          "text": [
            "INFO:ludwig.trainers.trainer:\n",
            "Running evaluation for step: 1508, epoch: 13\n"
          ]
        },
        {
          "output_type": "stream",
          "name": "stdout",
          "text": [
            "Evaluation valid: 100%|██████████| 3/3 [00:00<00:00, 12.18it/s]\n",
            "Evaluation test : 100%|██████████| 5/5 [00:00<00:00, 10.36it/s]"
          ]
        },
        {
          "output_type": "stream",
          "name": "stderr",
          "text": [
            "INFO:ludwig.trainers.trainer:Evaluation took 0.7773s\n",
            "\n",
            "INFO:ludwig.utils.metrics_printed_table:╒═══════════════╤═════════╤══════════════╤════════╕\n",
            "│               │   train │   validation │   test │\n",
            "╞═══════════════╪═════════╪══════════════╪════════╡\n",
            "│ accuracy      │  1.0000 │       0.7576 │ 0.8939 │\n",
            "├───────────────┼─────────┼──────────────┼────────┤\n",
            "│ loss          │  0.0000 │      11.1509 │ 6.4175 │\n",
            "├───────────────┼─────────┼──────────────┼────────┤\n",
            "│ precision     │  1.0000 │       0.6250 │ 0.8333 │\n",
            "├───────────────┼─────────┼──────────────┼────────┤\n",
            "│ recall        │  1.0000 │       0.5000 │ 0.7895 │\n",
            "├───────────────┼─────────┼──────────────┼────────┤\n",
            "│ roc_auc       │  1.0000 │       0.8413 │ 0.9104 │\n",
            "├───────────────┼─────────┼──────────────┼────────┤\n",
            "│ specificity   │  1.0000 │       0.8696 │ 0.9362 │\n",
            "├───────────────┼─────────┼──────────────┼────────┤\n",
            "│ combined_loss │  0.0000 │      11.1509 │ 6.4175 │\n",
            "╘═══════════════╧═════════╧══════════════╧════════╛\n",
            "INFO:ludwig.trainers.trainer:Last improvement of CATEGORIA validation roc_auc happened 232 step(s) ago.\n",
            "\n"
          ]
        },
        {
          "output_type": "stream",
          "name": "stdout",
          "text": [
            "\n",
            "Training:  35%|███▍      | 1609/4640 [15:23<04:49, 10.47it/s, loss=0]"
          ]
        },
        {
          "output_type": "stream",
          "name": "stderr",
          "text": [
            "INFO:ludwig.data.batcher.random_access:Last batch in epoch only has 1 sample and will be dropped.\n",
            "INFO:ludwig.data.batcher.random_access:Last batch in epoch only has 1 sample and will be dropped.\n",
            "INFO:ludwig.data.batcher.random_access:Last batch in epoch only has 1 sample and will be dropped.\n"
          ]
        },
        {
          "output_type": "stream",
          "name": "stdout",
          "text": [
            "Training:  35%|███▌      | 1624/4640 [15:35<09:50,  5.11it/s, loss=0]"
          ]
        },
        {
          "output_type": "stream",
          "name": "stderr",
          "text": [
            "INFO:ludwig.trainers.trainer:\n",
            "Running evaluation for step: 1624, epoch: 14\n"
          ]
        },
        {
          "output_type": "stream",
          "name": "stdout",
          "text": [
            "Evaluation valid: 100%|██████████| 3/3 [00:00<00:00, 12.88it/s]\n",
            "Evaluation test : 100%|██████████| 5/5 [00:00<00:00, 10.74it/s]"
          ]
        },
        {
          "output_type": "stream",
          "name": "stderr",
          "text": [
            "INFO:ludwig.trainers.trainer:Evaluation took 0.7345s\n",
            "\n",
            "INFO:ludwig.utils.metrics_printed_table:╒═══════════════╤═════════╤══════════════╤════════╕\n",
            "│               │   train │   validation │   test │\n",
            "╞═══════════════╪═════════╪══════════════╪════════╡\n",
            "│ accuracy      │  1.0000 │       0.7879 │ 0.8939 │\n",
            "├───────────────┼─────────┼──────────────┼────────┤\n",
            "│ loss          │  0.0012 │      39.7233 │ 5.9572 │\n",
            "├───────────────┼─────────┼──────────────┼────────┤\n",
            "│ precision     │  1.0000 │       0.6154 │ 0.8000 │\n",
            "├───────────────┼─────────┼──────────────┼────────┤\n",
            "│ recall        │  1.0000 │       0.8000 │ 0.8421 │\n",
            "├───────────────┼─────────┼──────────────┼────────┤\n",
            "│ roc_auc       │  1.0000 │       0.8696 │ 0.9194 │\n",
            "├───────────────┼─────────┼──────────────┼────────┤\n",
            "│ specificity   │  1.0000 │       0.7826 │ 0.9149 │\n",
            "├───────────────┼─────────┼──────────────┼────────┤\n",
            "│ combined_loss │  0.0012 │      39.7233 │ 5.9572 │\n",
            "╘═══════════════╧═════════╧══════════════╧════════╛\n",
            "INFO:ludwig.trainers.trainer:Evaluation validation metric: 'CATEGORIA' 'roc_auc' improved.\n",
            "INFO:ludwig.trainers.trainer:'CATEGORIA' 'roc_auc' increased by 0.007.\n",
            "INFO:ludwig.trainers.trainer:New best model saved.\n",
            "\n"
          ]
        },
        {
          "output_type": "stream",
          "name": "stdout",
          "text": [
            "\n",
            "Training:  37%|███▋      | 1725/4640 [16:40<04:42, 10.30it/s, loss=0]"
          ]
        },
        {
          "output_type": "stream",
          "name": "stderr",
          "text": [
            "INFO:ludwig.data.batcher.random_access:Last batch in epoch only has 1 sample and will be dropped.\n",
            "INFO:ludwig.data.batcher.random_access:Last batch in epoch only has 1 sample and will be dropped.\n",
            "INFO:ludwig.data.batcher.random_access:Last batch in epoch only has 1 sample and will be dropped.\n"
          ]
        },
        {
          "output_type": "stream",
          "name": "stdout",
          "text": [
            "Training:  38%|███▊      | 1740/4640 [17:03<07:53,  6.12it/s, loss=1.4e-45]"
          ]
        },
        {
          "output_type": "stream",
          "name": "stderr",
          "text": [
            "INFO:ludwig.trainers.trainer:\n",
            "Running evaluation for step: 1740, epoch: 15\n"
          ]
        },
        {
          "output_type": "stream",
          "name": "stdout",
          "text": [
            "Evaluation valid: 100%|██████████| 3/3 [00:00<00:00, 12.47it/s]\n",
            "Evaluation test : 100%|██████████| 5/5 [00:00<00:00, 10.60it/s]"
          ]
        },
        {
          "output_type": "stream",
          "name": "stderr",
          "text": [
            "INFO:ludwig.trainers.trainer:Evaluation took 0.7772s\n",
            "\n",
            "INFO:ludwig.utils.metrics_printed_table:╒═══════════════╤═════════╤══════════════╤═════════╕\n",
            "│               │   train │   validation │    test │\n",
            "╞═══════════════╪═════════╪══════════════╪═════════╡\n",
            "│ accuracy      │  0.9000 │       0.7879 │  0.8030 │\n",
            "├───────────────┼─────────┼──────────────┼─────────┤\n",
            "│ loss          │  3.0123 │      52.6926 │ 11.0583 │\n",
            "├───────────────┼─────────┼──────────────┼─────────┤\n",
            "│ precision     │  1.0000 │       0.6000 │  0.6071 │\n",
            "├───────────────┼─────────┼──────────────┼─────────┤\n",
            "│ recall        │  0.5000 │       0.9000 │  0.8947 │\n",
            "├───────────────┼─────────┼──────────────┼─────────┤\n",
            "│ roc_auc       │  0.9583 │       0.8717 │  0.8180 │\n",
            "├───────────────┼─────────┼──────────────┼─────────┤\n",
            "│ specificity   │  1.0000 │       0.7391 │  0.7660 │\n",
            "├───────────────┼─────────┼──────────────┼─────────┤\n",
            "│ combined_loss │  3.0123 │      52.6926 │ 11.0583 │\n",
            "╘═══════════════╧═════════╧══════════════╧═════════╛\n",
            "INFO:ludwig.trainers.trainer:Evaluation validation metric: 'CATEGORIA' 'roc_auc' improved.\n",
            "INFO:ludwig.trainers.trainer:'CATEGORIA' 'roc_auc' increased by 0.002.\n",
            "INFO:ludwig.trainers.trainer:New best model saved.\n",
            "\n"
          ]
        },
        {
          "output_type": "stream",
          "name": "stdout",
          "text": [
            "\n",
            "Training:  40%|███▉      | 1840/4640 [18:21<04:52,  9.58it/s, loss=0]"
          ]
        },
        {
          "output_type": "stream",
          "name": "stderr",
          "text": [
            "INFO:ludwig.data.batcher.random_access:Last batch in epoch only has 1 sample and will be dropped.\n",
            "INFO:ludwig.data.batcher.random_access:Last batch in epoch only has 1 sample and will be dropped.\n",
            "INFO:ludwig.data.batcher.random_access:Last batch in epoch only has 1 sample and will be dropped.\n"
          ]
        },
        {
          "output_type": "stream",
          "name": "stdout",
          "text": [
            "Training:  40%|████      | 1856/4640 [18:46<11:26,  4.05it/s, loss=0]"
          ]
        },
        {
          "output_type": "stream",
          "name": "stderr",
          "text": [
            "INFO:ludwig.trainers.trainer:\n",
            "Running evaluation for step: 1856, epoch: 16\n"
          ]
        },
        {
          "output_type": "stream",
          "name": "stdout",
          "text": [
            "Evaluation valid: 100%|██████████| 3/3 [00:00<00:00, 12.61it/s]\n",
            "Evaluation test : 100%|██████████| 5/5 [00:00<00:00, 10.58it/s]"
          ]
        },
        {
          "output_type": "stream",
          "name": "stderr",
          "text": [
            "INFO:ludwig.trainers.trainer:Evaluation took 0.7531s\n",
            "\n",
            "INFO:ludwig.utils.metrics_printed_table:╒═══════════════╤═════════╤══════════════╤═════════╕\n",
            "│               │   train │   validation │    test │\n",
            "╞═══════════════╪═════════╪══════════════╪═════════╡\n",
            "│ accuracy      │  0.9688 │       0.7879 │  0.8636 │\n",
            "├───────────────┼─────────┼──────────────┼─────────┤\n",
            "│ loss          │  3.7635 │      19.4943 │ 15.7321 │\n",
            "├───────────────┼─────────┼──────────────┼─────────┤\n",
            "│ precision     │  0.8750 │       0.6667 │  0.8571 │\n",
            "├───────────────┼─────────┼──────────────┼─────────┤\n",
            "│ recall        │  1.0000 │       0.6000 │  0.6316 │\n",
            "├───────────────┼─────────┼──────────────┼─────────┤\n",
            "│ roc_auc       │  0.9800 │       0.7348 │  0.8264 │\n",
            "├───────────────┼─────────┼──────────────┼─────────┤\n",
            "│ specificity   │  0.9600 │       0.8696 │  0.9574 │\n",
            "├───────────────┼─────────┼──────────────┼─────────┤\n",
            "│ combined_loss │  3.7635 │      19.4943 │ 15.7321 │\n",
            "╘═══════════════╧═════════╧══════════════╧═════════╛\n",
            "INFO:ludwig.trainers.trainer:Last improvement of CATEGORIA validation roc_auc happened 116 step(s) ago.\n",
            "\n"
          ]
        },
        {
          "output_type": "stream",
          "name": "stdout",
          "text": [
            "\n",
            "Training:  42%|████▏     | 1955/4640 [19:21<04:26, 10.07it/s, loss=0]"
          ]
        },
        {
          "output_type": "stream",
          "name": "stderr",
          "text": [
            "INFO:ludwig.data.batcher.random_access:Last batch in epoch only has 1 sample and will be dropped.\n",
            "INFO:ludwig.data.batcher.random_access:Last batch in epoch only has 1 sample and will be dropped.\n",
            "INFO:ludwig.data.batcher.random_access:Last batch in epoch only has 1 sample and will be dropped.\n"
          ]
        },
        {
          "output_type": "stream",
          "name": "stdout",
          "text": [
            "Training:  42%|████▎     | 1972/4640 [19:49<06:04,  7.31it/s, loss=0]"
          ]
        },
        {
          "output_type": "stream",
          "name": "stderr",
          "text": [
            "INFO:ludwig.trainers.trainer:\n",
            "Running evaluation for step: 1972, epoch: 17\n"
          ]
        },
        {
          "output_type": "stream",
          "name": "stdout",
          "text": [
            "Evaluation valid: 100%|██████████| 3/3 [00:00<00:00, 12.09it/s]\n",
            "Evaluation test : 100%|██████████| 5/5 [00:00<00:00, 10.57it/s]"
          ]
        },
        {
          "output_type": "stream",
          "name": "stderr",
          "text": [
            "INFO:ludwig.trainers.trainer:Evaluation took 0.7660s\n",
            "\n",
            "INFO:ludwig.utils.metrics_printed_table:╒═══════════════╤═════════╤══════════════╤════════╕\n",
            "│               │   train │   validation │   test │\n",
            "╞═══════════════╪═════════╪══════════════╪════════╡\n",
            "│ accuracy      │  1.0000 │       0.8485 │ 0.8939 │\n",
            "├───────────────┼─────────┼──────────────┼────────┤\n",
            "│ loss          │  0.0000 │      12.8749 │ 9.1725 │\n",
            "├───────────────┼─────────┼──────────────┼────────┤\n",
            "│ precision     │  1.0000 │       0.6923 │ 0.8000 │\n",
            "├───────────────┼─────────┼──────────────┼────────┤\n",
            "│ recall        │  1.0000 │       0.9000 │ 0.8421 │\n",
            "├───────────────┼─────────┼──────────────┼────────┤\n",
            "│ roc_auc       │  1.0000 │       0.9000 │ 0.9362 │\n",
            "├───────────────┼─────────┼──────────────┼────────┤\n",
            "│ specificity   │  1.0000 │       0.8261 │ 0.9149 │\n",
            "├───────────────┼─────────┼──────────────┼────────┤\n",
            "│ combined_loss │  0.0000 │      12.8749 │ 9.1725 │\n",
            "╘═══════════════╧═════════╧══════════════╧════════╛\n",
            "INFO:ludwig.trainers.trainer:Evaluation validation metric: 'CATEGORIA' 'roc_auc' improved.\n",
            "INFO:ludwig.trainers.trainer:'CATEGORIA' 'roc_auc' increased by 0.028.\n",
            "INFO:ludwig.trainers.trainer:New best model saved.\n",
            "\n"
          ]
        },
        {
          "output_type": "stream",
          "name": "stdout",
          "text": [
            "\n",
            "Training:  45%|████▍     | 2069/4640 [20:36<04:14, 10.10it/s, loss=0]"
          ]
        },
        {
          "output_type": "stream",
          "name": "stderr",
          "text": [
            "INFO:ludwig.data.batcher.random_access:Last batch in epoch only has 1 sample and will be dropped.\n",
            "INFO:ludwig.data.batcher.random_access:Last batch in epoch only has 1 sample and will be dropped.\n",
            "INFO:ludwig.data.batcher.random_access:Last batch in epoch only has 1 sample and will be dropped.\n"
          ]
        },
        {
          "output_type": "stream",
          "name": "stdout",
          "text": [
            "Training:  45%|████▌     | 2088/4640 [20:58<07:45,  5.48it/s, loss=0]"
          ]
        },
        {
          "output_type": "stream",
          "name": "stderr",
          "text": [
            "INFO:ludwig.trainers.trainer:\n",
            "Running evaluation for step: 2088, epoch: 18\n"
          ]
        },
        {
          "output_type": "stream",
          "name": "stdout",
          "text": [
            "Evaluation valid: 100%|██████████| 3/3 [00:00<00:00, 12.70it/s]\n",
            "Evaluation test : 100%|██████████| 5/5 [00:00<00:00, 10.78it/s]"
          ]
        },
        {
          "output_type": "stream",
          "name": "stderr",
          "text": [
            "INFO:ludwig.trainers.trainer:Evaluation took 0.7368s\n",
            "\n",
            "INFO:ludwig.utils.metrics_printed_table:╒═══════════════╤═════════╤══════════════╤════════╕\n",
            "│               │   train │   validation │   test │\n",
            "╞═══════════════╪═════════╪══════════════╪════════╡\n",
            "│ accuracy      │  0.9722 │       0.8182 │ 0.8788 │\n",
            "├───────────────┼─────────┼──────────────┼────────┤\n",
            "│ loss          │  0.8406 │       6.6624 │ 6.0786 │\n",
            "├───────────────┼─────────┼──────────────┼────────┤\n",
            "│ precision     │  0.9333 │       0.6667 │ 0.7619 │\n",
            "├───────────────┼─────────┼──────────────┼────────┤\n",
            "│ recall        │  1.0000 │       0.8000 │ 0.8421 │\n",
            "├───────────────┼─────────┼──────────────┼────────┤\n",
            "│ roc_auc       │  0.9708 │       0.8043 │ 0.8858 │\n",
            "├───────────────┼─────────┼──────────────┼────────┤\n",
            "│ specificity   │  0.9545 │       0.8261 │ 0.8936 │\n",
            "├───────────────┼─────────┼──────────────┼────────┤\n",
            "│ combined_loss │  0.8406 │       6.6624 │ 6.0786 │\n",
            "╘═══════════════╧═════════╧══════════════╧════════╛\n",
            "INFO:ludwig.trainers.trainer:Last improvement of CATEGORIA validation roc_auc happened 116 step(s) ago.\n",
            "\n"
          ]
        },
        {
          "output_type": "stream",
          "name": "stdout",
          "text": [
            "\n",
            "Training:  47%|████▋     | 2184/4640 [21:21<04:09,  9.85it/s, loss=4.25e-18]"
          ]
        },
        {
          "output_type": "stream",
          "name": "stderr",
          "text": [
            "INFO:ludwig.data.batcher.random_access:Last batch in epoch only has 1 sample and will be dropped.\n",
            "INFO:ludwig.data.batcher.random_access:Last batch in epoch only has 1 sample and will be dropped.\n",
            "INFO:ludwig.data.batcher.random_access:Last batch in epoch only has 1 sample and will be dropped.\n"
          ]
        },
        {
          "output_type": "stream",
          "name": "stdout",
          "text": [
            "Training:  47%|████▋     | 2203/4640 [21:47<08:12,  4.95it/s, loss=4.77e-7]"
          ]
        },
        {
          "output_type": "stream",
          "name": "stderr",
          "text": [
            "INFO:ludwig.trainers.trainer:\n",
            "Running evaluation for step: 2204, epoch: 19\n"
          ]
        },
        {
          "output_type": "stream",
          "name": "stdout",
          "text": [
            "Evaluation valid: 100%|██████████| 3/3 [00:00<00:00, 13.00it/s]\n",
            "Evaluation test : 100%|██████████| 5/5 [00:00<00:00, 10.81it/s]"
          ]
        },
        {
          "output_type": "stream",
          "name": "stderr",
          "text": [
            "INFO:ludwig.trainers.trainer:Evaluation took 0.7306s\n",
            "\n",
            "INFO:ludwig.utils.metrics_printed_table:╒═══════════════╤═════════╤══════════════╤════════╕\n",
            "│               │   train │   validation │   test │\n",
            "╞═══════════════╪═════════╪══════════════╪════════╡\n",
            "│ accuracy      │  0.9737 │       0.8182 │ 0.8485 │\n",
            "├───────────────┼─────────┼──────────────┼────────┤\n",
            "│ loss          │  2.1074 │      11.0648 │ 8.0432 │\n",
            "├───────────────┼─────────┼──────────────┼────────┤\n",
            "│ precision     │  1.0000 │       0.6429 │ 0.6800 │\n",
            "├───────────────┼─────────┼──────────────┼────────┤\n",
            "│ recall        │  0.9091 │       0.9000 │ 0.8947 │\n",
            "├───────────────┼─────────┼──────────────┼────────┤\n",
            "│ roc_auc       │  0.9327 │       0.9109 │ 0.9059 │\n",
            "├───────────────┼─────────┼──────────────┼────────┤\n",
            "│ specificity   │  1.0000 │       0.7826 │ 0.8298 │\n",
            "├───────────────┼─────────┼──────────────┼────────┤\n",
            "│ combined_loss │  2.1074 │      11.0648 │ 8.0432 │\n",
            "╘═══════════════╧═════════╧══════════════╧════════╛\n",
            "INFO:ludwig.trainers.trainer:Evaluation validation metric: 'CATEGORIA' 'roc_auc' improved.\n",
            "INFO:ludwig.trainers.trainer:'CATEGORIA' 'roc_auc' increased by 0.011.\n",
            "INFO:ludwig.trainers.trainer:New best model saved.\n",
            "\n"
          ]
        },
        {
          "output_type": "stream",
          "name": "stdout",
          "text": [
            "\n",
            "Training:  50%|████▉     | 2299/4640 [22:36<03:54,  9.97it/s, loss=0]"
          ]
        },
        {
          "output_type": "stream",
          "name": "stderr",
          "text": [
            "INFO:ludwig.data.batcher.random_access:Last batch in epoch only has 1 sample and will be dropped.\n",
            "INFO:ludwig.data.batcher.random_access:Last batch in epoch only has 1 sample and will be dropped.\n",
            "INFO:ludwig.data.batcher.random_access:Last batch in epoch only has 1 sample and will be dropped.\n"
          ]
        },
        {
          "output_type": "stream",
          "name": "stdout",
          "text": [
            "Training:  50%|████▉     | 2319/4640 [22:59<06:17,  6.15it/s, loss=0]"
          ]
        },
        {
          "output_type": "stream",
          "name": "stderr",
          "text": [
            "INFO:ludwig.trainers.trainer:\n",
            "Running evaluation for step: 2320, epoch: 20\n"
          ]
        },
        {
          "output_type": "stream",
          "name": "stdout",
          "text": [
            "Evaluation valid: 100%|██████████| 3/3 [00:00<00:00, 12.92it/s]\n",
            "Evaluation test : 100%|██████████| 5/5 [00:00<00:00, 10.72it/s]"
          ]
        },
        {
          "output_type": "stream",
          "name": "stderr",
          "text": [
            "INFO:ludwig.trainers.trainer:Evaluation took 0.7396s\n",
            "\n",
            "INFO:ludwig.utils.metrics_printed_table:╒═══════════════╤═════════╤══════════════╤════════╕\n",
            "│               │   train │   validation │   test │\n",
            "╞═══════════════╪═════════╪══════════════╪════════╡\n",
            "│ accuracy      │  1.0000 │       0.7879 │ 0.8636 │\n",
            "├───────────────┼─────────┼──────────────┼────────┤\n",
            "│ loss          │  0.0000 │      11.2511 │ 4.4477 │\n",
            "├───────────────┼─────────┼──────────────┼────────┤\n",
            "│ precision     │  1.0000 │       0.6667 │ 0.8125 │\n",
            "├───────────────┼─────────┼──────────────┼────────┤\n",
            "│ recall        │  1.0000 │       0.6000 │ 0.6842 │\n",
            "├───────────────┼─────────┼──────────────┼────────┤\n",
            "│ roc_auc       │  1.0000 │       0.8913 │ 0.9043 │\n",
            "├───────────────┼─────────┼──────────────┼────────┤\n",
            "│ specificity   │  1.0000 │       0.8696 │ 0.9362 │\n",
            "├───────────────┼─────────┼──────────────┼────────┤\n",
            "│ combined_loss │  0.0000 │      11.2511 │ 4.4477 │\n",
            "╘═══════════════╧═════════╧══════════════╧════════╛\n",
            "INFO:ludwig.trainers.trainer:Last improvement of CATEGORIA validation roc_auc happened 116 step(s) ago.\n",
            "\n"
          ]
        },
        {
          "output_type": "stream",
          "name": "stdout",
          "text": [
            "\n",
            "Training:  52%|█████▏    | 2415/4640 [23:37<03:52,  9.56it/s, loss=1.78e-13]"
          ]
        },
        {
          "output_type": "stream",
          "name": "stderr",
          "text": [
            "INFO:ludwig.data.batcher.random_access:Last batch in epoch only has 1 sample and will be dropped.\n",
            "INFO:ludwig.data.batcher.random_access:Last batch in epoch only has 1 sample and will be dropped.\n",
            "INFO:ludwig.data.batcher.random_access:Last batch in epoch only has 1 sample and will be dropped.\n"
          ]
        },
        {
          "output_type": "stream",
          "name": "stdout",
          "text": [
            "Training:  52%|█████▏    | 2435/4640 [23:59<05:47,  6.35it/s, loss=0]       "
          ]
        },
        {
          "output_type": "stream",
          "name": "stderr",
          "text": [
            "INFO:ludwig.trainers.trainer:\n",
            "Running evaluation for step: 2436, epoch: 21\n"
          ]
        },
        {
          "output_type": "stream",
          "name": "stdout",
          "text": [
            "Evaluation valid: 100%|██████████| 3/3 [00:00<00:00, 13.00it/s]\n",
            "Evaluation test : 100%|██████████| 5/5 [00:00<00:00, 10.88it/s]"
          ]
        },
        {
          "output_type": "stream",
          "name": "stderr",
          "text": [
            "INFO:ludwig.trainers.trainer:Evaluation took 0.7312s\n",
            "\n",
            "INFO:ludwig.utils.metrics_printed_table:╒═══════════════╤═════════╤══════════════╤════════╕\n",
            "│               │   train │   validation │   test │\n",
            "╞═══════════════╪═════════╪══════════════╪════════╡\n",
            "│ accuracy      │  1.0000 │       0.7879 │ 0.8939 │\n",
            "├───────────────┼─────────┼──────────────┼────────┤\n",
            "│ loss          │  0.0000 │      11.4377 │ 8.5504 │\n",
            "├───────────────┼─────────┼──────────────┼────────┤\n",
            "│ precision     │  1.0000 │       0.6667 │ 0.9286 │\n",
            "├───────────────┼─────────┼──────────────┼────────┤\n",
            "│ recall        │  1.0000 │       0.6000 │ 0.6842 │\n",
            "├───────────────┼─────────┼──────────────┼────────┤\n",
            "│ roc_auc       │  1.0000 │       0.7348 │ 0.8247 │\n",
            "├───────────────┼─────────┼──────────────┼────────┤\n",
            "│ specificity   │  1.0000 │       0.8696 │ 0.9787 │\n",
            "├───────────────┼─────────┼──────────────┼────────┤\n",
            "│ combined_loss │  0.0000 │      11.4377 │ 8.5504 │\n",
            "╘═══════════════╧═════════╧══════════════╧════════╛\n",
            "INFO:ludwig.trainers.trainer:Last improvement of CATEGORIA validation roc_auc happened 232 step(s) ago.\n",
            "\n"
          ]
        },
        {
          "output_type": "stream",
          "name": "stdout",
          "text": [
            "\n",
            "Training:  55%|█████▍    | 2529/4640 [24:29<03:22, 10.43it/s, loss=0]"
          ]
        },
        {
          "output_type": "stream",
          "name": "stderr",
          "text": [
            "INFO:ludwig.data.batcher.random_access:Last batch in epoch only has 1 sample and will be dropped.\n",
            "INFO:ludwig.data.batcher.random_access:Last batch in epoch only has 1 sample and will be dropped.\n",
            "INFO:ludwig.data.batcher.random_access:Last batch in epoch only has 1 sample and will be dropped.\n"
          ]
        },
        {
          "output_type": "stream",
          "name": "stdout",
          "text": [
            "Training:  55%|█████▍    | 2551/4640 [24:50<04:46,  7.29it/s, loss=3.62]"
          ]
        },
        {
          "output_type": "stream",
          "name": "stderr",
          "text": [
            "INFO:ludwig.trainers.trainer:\n",
            "Running evaluation for step: 2552, epoch: 22\n"
          ]
        },
        {
          "output_type": "stream",
          "name": "stdout",
          "text": [
            "Evaluation valid: 100%|██████████| 3/3 [00:00<00:00, 13.02it/s]\n",
            "Evaluation test : 100%|██████████| 5/5 [00:00<00:00, 10.44it/s]"
          ]
        },
        {
          "output_type": "stream",
          "name": "stderr",
          "text": [
            "INFO:ludwig.trainers.trainer:Evaluation took 0.7470s\n",
            "\n",
            "INFO:ludwig.utils.metrics_printed_table:╒═══════════════╤═════════╤══════════════╤════════╕\n",
            "│               │   train │   validation │   test │\n",
            "╞═══════════════╪═════════╪══════════════╪════════╡\n",
            "│ accuracy      │  0.9318 │       0.8182 │ 0.8788 │\n",
            "├───────────────┼─────────┼──────────────┼────────┤\n",
            "│ loss          │ 10.5438 │       8.6874 │ 4.6022 │\n",
            "├───────────────┼─────────┼──────────────┼────────┤\n",
            "│ precision     │  0.8750 │       0.7500 │ 0.9231 │\n",
            "├───────────────┼─────────┼──────────────┼────────┤\n",
            "│ recall        │  0.9333 │       0.6000 │ 0.6316 │\n",
            "├───────────────┼─────────┼──────────────┼────────┤\n",
            "│ roc_auc       │  0.9448 │       0.7739 │ 0.7884 │\n",
            "├───────────────┼─────────┼──────────────┼────────┤\n",
            "│ specificity   │  0.9310 │       0.9130 │ 0.9787 │\n",
            "├───────────────┼─────────┼──────────────┼────────┤\n",
            "│ combined_loss │ 10.5438 │       8.6874 │ 4.6022 │\n",
            "╘═══════════════╧═════════╧══════════════╧════════╛\n",
            "INFO:ludwig.trainers.trainer:Last improvement of CATEGORIA validation roc_auc happened 348 step(s) ago.\n",
            "\n"
          ]
        },
        {
          "output_type": "stream",
          "name": "stdout",
          "text": [
            "\n",
            "Training:  57%|█████▋    | 2644/4640 [25:10<03:24,  9.75it/s, loss=0]       "
          ]
        },
        {
          "output_type": "stream",
          "name": "stderr",
          "text": [
            "INFO:ludwig.data.batcher.random_access:Last batch in epoch only has 1 sample and will be dropped.\n",
            "INFO:ludwig.data.batcher.random_access:Last batch in epoch only has 1 sample and will be dropped.\n",
            "INFO:ludwig.data.batcher.random_access:Last batch in epoch only has 1 sample and will be dropped.\n"
          ]
        },
        {
          "output_type": "stream",
          "name": "stdout",
          "text": [
            "Training:  57%|█████▊    | 2668/4640 [25:30<04:21,  7.55it/s, loss=0]"
          ]
        },
        {
          "output_type": "stream",
          "name": "stderr",
          "text": [
            "INFO:ludwig.trainers.trainer:\n",
            "Running evaluation for step: 2668, epoch: 23\n"
          ]
        },
        {
          "output_type": "stream",
          "name": "stdout",
          "text": [
            "Evaluation valid: 100%|██████████| 3/3 [00:00<00:00, 12.89it/s]\n",
            "Evaluation test : 100%|██████████| 5/5 [00:00<00:00, 10.78it/s]"
          ]
        },
        {
          "output_type": "stream",
          "name": "stderr",
          "text": [
            "INFO:ludwig.trainers.trainer:Evaluation took 0.7316s\n",
            "\n",
            "INFO:ludwig.utils.metrics_printed_table:╒═══════════════╤═════════╤══════════════╤═════════╕\n",
            "│               │   train │   validation │    test │\n",
            "╞═══════════════╪═════════╪══════════════╪═════════╡\n",
            "│ accuracy      │  0.9783 │       0.7576 │  0.8636 │\n",
            "├───────────────┼─────────┼──────────────┼─────────┤\n",
            "│ loss          │  1.0630 │      87.7020 │ 37.5175 │\n",
            "├───────────────┼─────────┼──────────────┼─────────┤\n",
            "│ precision     │  1.0000 │       0.5714 │  0.7083 │\n",
            "├───────────────┼─────────┼──────────────┼─────────┤\n",
            "│ recall        │  0.9524 │       0.8000 │  0.8947 │\n",
            "├───────────────┼─────────┼──────────────┼─────────┤\n",
            "│ roc_auc       │  0.9867 │       0.7522 │  0.8662 │\n",
            "├───────────────┼─────────┼──────────────┼─────────┤\n",
            "│ specificity   │  1.0000 │       0.7391 │  0.8511 │\n",
            "├───────────────┼─────────┼──────────────┼─────────┤\n",
            "│ combined_loss │  1.0630 │      87.7020 │ 37.5175 │\n",
            "╘═══════════════╧═════════╧══════════════╧═════════╛\n",
            "INFO:ludwig.trainers.trainer:Last improvement of CATEGORIA validation roc_auc happened 464 step(s) ago.\n",
            "\n"
          ]
        },
        {
          "output_type": "stream",
          "name": "stdout",
          "text": [
            "\n",
            "Training:  59%|█████▉    | 2760/4640 [26:14<03:18,  9.45it/s, loss=21]"
          ]
        },
        {
          "output_type": "stream",
          "name": "stderr",
          "text": [
            "INFO:ludwig.data.batcher.random_access:Last batch in epoch only has 1 sample and will be dropped.\n",
            "INFO:ludwig.data.batcher.random_access:Last batch in epoch only has 1 sample and will be dropped.\n",
            "INFO:ludwig.data.batcher.random_access:Last batch in epoch only has 1 sample and will be dropped.\n"
          ]
        },
        {
          "output_type": "stream",
          "name": "stdout",
          "text": [
            "Training:  60%|██████    | 2784/4640 [26:37<03:37,  8.54it/s, loss=2.63]"
          ]
        },
        {
          "output_type": "stream",
          "name": "stderr",
          "text": [
            "INFO:ludwig.trainers.trainer:\n",
            "Running evaluation for step: 2784, epoch: 24\n"
          ]
        },
        {
          "output_type": "stream",
          "name": "stdout",
          "text": [
            "Evaluation valid: 100%|██████████| 3/3 [00:00<00:00, 12.87it/s]\n",
            "Evaluation test : 100%|██████████| 5/5 [00:00<00:00, 10.84it/s]"
          ]
        },
        {
          "output_type": "stream",
          "name": "stderr",
          "text": [
            "INFO:ludwig.trainers.trainer:Evaluation took 0.7280s\n",
            "\n",
            "INFO:ludwig.utils.metrics_printed_table:╒═══════════════╤═════════╤══════════════╤════════╕\n",
            "│               │   train │   validation │   test │\n",
            "╞═══════════════╪═════════╪══════════════╪════════╡\n",
            "│ accuracy      │  0.6458 │       0.8182 │ 0.8788 │\n",
            "├───────────────┼─────────┼──────────────┼────────┤\n",
            "│ loss          │ 11.8365 │      10.9836 │ 8.2184 │\n",
            "├───────────────┼─────────┼──────────────┼────────┤\n",
            "│ precision     │  0.4444 │       0.8333 │ 1.0000 │\n",
            "├───────────────┼─────────┼──────────────┼────────┤\n",
            "│ recall        │  0.5333 │       0.5000 │ 0.5789 │\n",
            "├───────────────┼─────────┼──────────────┼────────┤\n",
            "│ roc_auc       │  0.6889 │       0.7043 │ 0.8354 │\n",
            "├───────────────┼─────────┼──────────────┼────────┤\n",
            "│ specificity   │  0.6970 │       0.9565 │ 1.0000 │\n",
            "├───────────────┼─────────┼──────────────┼────────┤\n",
            "│ combined_loss │ 11.8365 │      10.9836 │ 8.2184 │\n",
            "╘═══════════════╧═════════╧══════════════╧════════╛\n",
            "INFO:ludwig.trainers.trainer:Last improvement of CATEGORIA validation roc_auc happened 580 step(s) ago.\n",
            "\n"
          ]
        },
        {
          "output_type": "stream",
          "name": "stdout",
          "text": [
            "\n",
            "Training:  62%|██████▏   | 2874/4640 [27:19<02:49, 10.43it/s, loss=7.34e-27]"
          ]
        },
        {
          "output_type": "stream",
          "name": "stderr",
          "text": [
            "INFO:ludwig.data.batcher.random_access:Last batch in epoch only has 1 sample and will be dropped.\n",
            "INFO:ludwig.data.batcher.random_access:Last batch in epoch only has 1 sample and will be dropped.\n",
            "INFO:ludwig.data.batcher.random_access:Last batch in epoch only has 1 sample and will be dropped.\n"
          ]
        },
        {
          "output_type": "stream",
          "name": "stdout",
          "text": [
            "Training:  62%|██████▎   | 2900/4640 [27:43<03:17,  8.81it/s, loss=1.47e-25]"
          ]
        },
        {
          "output_type": "stream",
          "name": "stderr",
          "text": [
            "INFO:ludwig.trainers.trainer:\n",
            "Running evaluation for step: 2900, epoch: 25\n"
          ]
        },
        {
          "output_type": "stream",
          "name": "stdout",
          "text": [
            "Evaluation valid: 100%|██████████| 3/3 [00:00<00:00, 12.04it/s]\n",
            "Evaluation test : 100%|██████████| 5/5 [00:00<00:00, 10.29it/s]"
          ]
        },
        {
          "output_type": "stream",
          "name": "stderr",
          "text": [
            "INFO:ludwig.trainers.trainer:Evaluation took 0.7901s\n",
            "\n",
            "INFO:ludwig.utils.metrics_printed_table:╒═══════════════╤═════════╤══════════════╤═════════╕\n",
            "│               │   train │   validation │    test │\n",
            "╞═══════════════╪═════════╪══════════════╪═════════╡\n",
            "│ accuracy      │  1.0000 │       0.8182 │  0.8788 │\n",
            "├───────────────┼─────────┼──────────────┼─────────┤\n",
            "│ loss          │  0.0000 │      25.6809 │ 21.8623 │\n",
            "├───────────────┼─────────┼──────────────┼─────────┤\n",
            "│ precision     │  1.0000 │       0.7500 │  0.9231 │\n",
            "├───────────────┼─────────┼──────────────┼─────────┤\n",
            "│ recall        │  1.0000 │       0.6000 │  0.6316 │\n",
            "├───────────────┼─────────┼──────────────┼─────────┤\n",
            "│ roc_auc       │  1.0000 │       0.7565 │  0.8309 │\n",
            "├───────────────┼─────────┼──────────────┼─────────┤\n",
            "│ specificity   │  1.0000 │       0.9130 │  0.9787 │\n",
            "├───────────────┼─────────┼──────────────┼─────────┤\n",
            "│ combined_loss │  0.0000 │      25.6809 │ 21.8623 │\n",
            "╘═══════════════╧═════════╧══════════════╧═════════╛\n",
            "INFO:ludwig.trainers.trainer:Last improvement of CATEGORIA validation roc_auc happened 696 step(s) ago.\n",
            "\n"
          ]
        },
        {
          "output_type": "stream",
          "name": "stdout",
          "text": [
            "\n",
            "Training:  64%|██████▍   | 2990/4640 [28:10<02:39, 10.35it/s, loss=0]"
          ]
        },
        {
          "output_type": "stream",
          "name": "stderr",
          "text": [
            "INFO:ludwig.data.batcher.random_access:Last batch in epoch only has 1 sample and will be dropped.\n",
            "INFO:ludwig.data.batcher.random_access:Last batch in epoch only has 1 sample and will be dropped.\n",
            "INFO:ludwig.data.batcher.random_access:Last batch in epoch only has 1 sample and will be dropped.\n"
          ]
        },
        {
          "output_type": "stream",
          "name": "stdout",
          "text": [
            "Training:  65%|██████▍   | 3015/4640 [28:34<03:14,  8.36it/s, loss=0]"
          ]
        },
        {
          "output_type": "stream",
          "name": "stderr",
          "text": [
            "INFO:ludwig.trainers.trainer:\n",
            "Running evaluation for step: 3016, epoch: 26\n"
          ]
        },
        {
          "output_type": "stream",
          "name": "stdout",
          "text": [
            "Evaluation valid: 100%|██████████| 3/3 [00:00<00:00, 12.92it/s]\n",
            "Evaluation test : 100%|██████████| 5/5 [00:00<00:00, 10.78it/s]"
          ]
        },
        {
          "output_type": "stream",
          "name": "stderr",
          "text": [
            "INFO:ludwig.trainers.trainer:Evaluation took 0.7467s\n",
            "\n",
            "INFO:ludwig.utils.metrics_printed_table:╒═══════════════╤═════════╤══════════════╤════════╕\n",
            "│               │   train │   validation │   test │\n",
            "╞═══════════════╪═════════╪══════════════╪════════╡\n",
            "│ accuracy      │  1.0000 │       0.8182 │ 0.9091 │\n",
            "├───────────────┼─────────┼──────────────┼────────┤\n",
            "│ loss          │  0.0000 │      15.5743 │ 8.8902 │\n",
            "├───────────────┼─────────┼──────────────┼────────┤\n",
            "│ precision     │  1.0000 │       0.6429 │ 0.8095 │\n",
            "├───────────────┼─────────┼──────────────┼────────┤\n",
            "│ recall        │  1.0000 │       0.9000 │ 0.8947 │\n",
            "├───────────────┼─────────┼──────────────┼────────┤\n",
            "│ roc_auc       │  1.0000 │       0.8413 │ 0.9037 │\n",
            "├───────────────┼─────────┼──────────────┼────────┤\n",
            "│ specificity   │  1.0000 │       0.7826 │ 0.9149 │\n",
            "├───────────────┼─────────┼──────────────┼────────┤\n",
            "│ combined_loss │  0.0000 │      15.5743 │ 8.8902 │\n",
            "╘═══════════════╧═════════╧══════════════╧════════╛\n",
            "INFO:ludwig.trainers.trainer:Last improvement of CATEGORIA validation roc_auc happened 812 step(s) ago.\n",
            "\n"
          ]
        },
        {
          "output_type": "stream",
          "name": "stdout",
          "text": [
            "\n",
            "Training:  67%|██████▋   | 3104/4640 [29:08<02:27, 10.40it/s, loss=0]"
          ]
        },
        {
          "output_type": "stream",
          "name": "stderr",
          "text": [
            "INFO:ludwig.data.batcher.random_access:Last batch in epoch only has 1 sample and will be dropped.\n",
            "INFO:ludwig.data.batcher.random_access:Last batch in epoch only has 1 sample and will be dropped.\n",
            "INFO:ludwig.data.batcher.random_access:Last batch in epoch only has 1 sample and will be dropped.\n"
          ]
        },
        {
          "output_type": "stream",
          "name": "stdout",
          "text": [
            "Training:  68%|██████▊   | 3132/4640 [29:27<02:51,  8.80it/s, loss=1.2e-42]"
          ]
        },
        {
          "output_type": "stream",
          "name": "stderr",
          "text": [
            "INFO:ludwig.trainers.trainer:\n",
            "Running evaluation for step: 3132, epoch: 27\n"
          ]
        },
        {
          "output_type": "stream",
          "name": "stdout",
          "text": [
            "Evaluation valid: 100%|██████████| 3/3 [00:00<00:00, 12.36it/s]\n",
            "Evaluation test : 100%|██████████| 5/5 [00:00<00:00, 10.70it/s]"
          ]
        },
        {
          "output_type": "stream",
          "name": "stderr",
          "text": [
            "INFO:ludwig.trainers.trainer:Evaluation took 0.7549s\n",
            "\n",
            "INFO:ludwig.utils.metrics_printed_table:╒═══════════════╤═════════╤══════════════╤════════╕\n",
            "│               │   train │   validation │   test │\n",
            "╞═══════════════╪═════════╪══════════════╪════════╡\n",
            "│ accuracy      │  0.8519 │       0.7576 │ 0.8788 │\n",
            "├───────────────┼─────────┼──────────────┼────────┤\n",
            "│ loss          │  3.9425 │      16.2310 │ 9.5508 │\n",
            "├───────────────┼─────────┼──────────────┼────────┤\n",
            "│ precision     │  0.7143 │       0.6250 │ 0.8667 │\n",
            "├───────────────┼─────────┼──────────────┼────────┤\n",
            "│ recall        │  0.7143 │       0.5000 │ 0.6842 │\n",
            "├───────────────┼─────────┼──────────────┼────────┤\n",
            "│ roc_auc       │  0.9054 │       0.6848 │ 0.8460 │\n",
            "├───────────────┼─────────┼──────────────┼────────┤\n",
            "│ specificity   │  0.9000 │       0.8696 │ 0.9574 │\n",
            "├───────────────┼─────────┼──────────────┼────────┤\n",
            "│ combined_loss │  3.9425 │      16.2310 │ 9.5508 │\n",
            "╘═══════════════╧═════════╧══════════════╧════════╛\n",
            "INFO:ludwig.trainers.trainer:Last improvement of CATEGORIA validation roc_auc happened 928 step(s) ago.\n",
            "\n"
          ]
        },
        {
          "output_type": "stream",
          "name": "stdout",
          "text": [
            "\n",
            "Training:  69%|██████▉   | 3220/4640 [29:55<02:18, 10.25it/s, loss=0]"
          ]
        },
        {
          "output_type": "stream",
          "name": "stderr",
          "text": [
            "INFO:ludwig.data.batcher.random_access:Last batch in epoch only has 1 sample and will be dropped.\n",
            "INFO:ludwig.data.batcher.random_access:Last batch in epoch only has 1 sample and will be dropped.\n",
            "INFO:ludwig.data.batcher.random_access:Last batch in epoch only has 1 sample and will be dropped.\n"
          ]
        },
        {
          "output_type": "stream",
          "name": "stdout",
          "text": [
            "Training:  70%|███████   | 3248/4640 [30:09<02:25,  9.55it/s, loss=6.49e-42]"
          ]
        },
        {
          "output_type": "stream",
          "name": "stderr",
          "text": [
            "INFO:ludwig.trainers.trainer:\n",
            "Running evaluation for step: 3248, epoch: 28\n"
          ]
        },
        {
          "output_type": "stream",
          "name": "stdout",
          "text": [
            "Evaluation valid: 100%|██████████| 3/3 [00:00<00:00, 12.62it/s]\n",
            "Evaluation test : 100%|██████████| 5/5 [00:00<00:00, 10.73it/s]"
          ]
        },
        {
          "output_type": "stream",
          "name": "stderr",
          "text": [
            "INFO:ludwig.trainers.trainer:Evaluation took 0.7426s\n",
            "\n",
            "INFO:ludwig.utils.metrics_printed_table:╒═══════════════╤═════════╤══════════════╤════════╕\n",
            "│               │   train │   validation │   test │\n",
            "╞═══════════════╪═════════╪══════════════╪════════╡\n",
            "│ accuracy      │  1.0000 │       0.7576 │ 0.9091 │\n",
            "├───────────────┼─────────┼──────────────┼────────┤\n",
            "│ loss          │  0.0000 │      11.1853 │ 4.7472 │\n",
            "├───────────────┼─────────┼──────────────┼────────┤\n",
            "│ precision     │  1.0000 │       0.6250 │ 0.8824 │\n",
            "├───────────────┼─────────┼──────────────┼────────┤\n",
            "│ recall        │  1.0000 │       0.5000 │ 0.7895 │\n",
            "├───────────────┼─────────┼──────────────┼────────┤\n",
            "│ roc_auc       │  1.0000 │       0.8804 │ 0.9216 │\n",
            "├───────────────┼─────────┼──────────────┼────────┤\n",
            "│ specificity   │  1.0000 │       0.8696 │ 0.9574 │\n",
            "├───────────────┼─────────┼──────────────┼────────┤\n",
            "│ combined_loss │  0.0000 │      11.1853 │ 4.7472 │\n",
            "╘═══════════════╧═════════╧══════════════╧════════╛\n",
            "INFO:ludwig.trainers.trainer:Last improvement of CATEGORIA validation roc_auc happened 1044 step(s) ago.\n",
            "\n"
          ]
        },
        {
          "output_type": "stream",
          "name": "stdout",
          "text": [
            "\n",
            "Training:  72%|███████▏  | 3335/4640 [30:49<02:17,  9.52it/s, loss=0]"
          ]
        },
        {
          "output_type": "stream",
          "name": "stderr",
          "text": [
            "INFO:ludwig.data.batcher.random_access:Last batch in epoch only has 1 sample and will be dropped.\n",
            "INFO:ludwig.data.batcher.random_access:Last batch in epoch only has 1 sample and will be dropped.\n",
            "INFO:ludwig.data.batcher.random_access:Last batch in epoch only has 1 sample and will be dropped.\n"
          ]
        },
        {
          "output_type": "stream",
          "name": "stdout",
          "text": [
            "Training:  72%|███████▎  | 3364/4640 [31:11<02:20,  9.10it/s, loss=0]"
          ]
        },
        {
          "output_type": "stream",
          "name": "stderr",
          "text": [
            "INFO:ludwig.trainers.trainer:\n",
            "Running evaluation for step: 3364, epoch: 29\n"
          ]
        },
        {
          "output_type": "stream",
          "name": "stdout",
          "text": [
            "Evaluation valid: 100%|██████████| 3/3 [00:00<00:00, 12.91it/s]\n",
            "Evaluation test : 100%|██████████| 5/5 [00:00<00:00, 10.80it/s]"
          ]
        },
        {
          "output_type": "stream",
          "name": "stderr",
          "text": [
            "INFO:ludwig.trainers.trainer:Evaluation took 0.7291s\n",
            "\n",
            "INFO:ludwig.utils.metrics_printed_table:╒═══════════════╤═════════╤══════════════╤════════╕\n",
            "│               │   train │   validation │   test │\n",
            "╞═══════════════╪═════════╪══════════════╪════════╡\n",
            "│ accuracy      │  0.7586 │       0.7879 │ 0.8788 │\n",
            "├───────────────┼─────────┼──────────────┼────────┤\n",
            "│ loss          │  7.9816 │       7.4972 │ 4.8523 │\n",
            "├───────────────┼─────────┼──────────────┼────────┤\n",
            "│ precision     │  0.5263 │       0.7143 │ 0.8667 │\n",
            "├───────────────┼─────────┼──────────────┼────────┤\n",
            "│ recall        │  0.6667 │       0.5000 │ 0.6842 │\n",
            "├───────────────┼─────────┼──────────────┼────────┤\n",
            "│ roc_auc       │  0.7194 │       0.8913 │ 0.9474 │\n",
            "├───────────────┼─────────┼──────────────┼────────┤\n",
            "│ specificity   │  0.7907 │       0.9130 │ 0.9574 │\n",
            "├───────────────┼─────────┼──────────────┼────────┤\n",
            "│ combined_loss │  7.9816 │       7.4972 │ 4.8523 │\n",
            "╘═══════════════╧═════════╧══════════════╧════════╛\n",
            "INFO:ludwig.trainers.trainer:Last improvement of CATEGORIA validation roc_auc happened 1160 step(s) ago.\n",
            "\n"
          ]
        },
        {
          "output_type": "stream",
          "name": "stdout",
          "text": [
            "\n",
            "Training:  74%|███████▍  | 3450/4640 [31:39<01:53, 10.51it/s, loss=2.8e-45]"
          ]
        },
        {
          "output_type": "stream",
          "name": "stderr",
          "text": [
            "INFO:ludwig.data.batcher.random_access:Last batch in epoch only has 1 sample and will be dropped.\n",
            "INFO:ludwig.data.batcher.random_access:Last batch in epoch only has 1 sample and will be dropped.\n",
            "INFO:ludwig.data.batcher.random_access:Last batch in epoch only has 1 sample and will be dropped.\n"
          ]
        },
        {
          "output_type": "stream",
          "name": "stdout",
          "text": [
            "Training:  75%|███████▍  | 3479/4640 [31:59<02:01,  9.52it/s, loss=0.0982]"
          ]
        },
        {
          "output_type": "stream",
          "name": "stderr",
          "text": [
            "INFO:ludwig.trainers.trainer:\n",
            "Running evaluation for step: 3480, epoch: 30\n"
          ]
        },
        {
          "output_type": "stream",
          "name": "stdout",
          "text": [
            "Evaluation valid: 100%|██████████| 3/3 [00:00<00:00, 12.69it/s]\n",
            "Evaluation test : 100%|██████████| 5/5 [00:00<00:00, 10.80it/s]"
          ]
        },
        {
          "output_type": "stream",
          "name": "stderr",
          "text": [
            "INFO:ludwig.trainers.trainer:Evaluation took 0.7381s\n",
            "\n",
            "INFO:ludwig.utils.metrics_printed_table:╒═══════════════╤═════════╤══════════════╤════════╕\n",
            "│               │   train │   validation │   test │\n",
            "╞═══════════════╪═════════╪══════════════╪════════╡\n",
            "│ accuracy      │  0.8333 │       0.7576 │ 0.6970 │\n",
            "├───────────────┼─────────┼──────────────┼────────┤\n",
            "│ loss          │  4.8507 │       8.0916 │ 5.6118 │\n",
            "├───────────────┼─────────┼──────────────┼────────┤\n",
            "│ precision     │  0.7143 │       0.5556 │ 0.4865 │\n",
            "├───────────────┼─────────┼──────────────┼────────┤\n",
            "│ recall        │  0.7895 │       1.0000 │ 0.9474 │\n",
            "├───────────────┼─────────┼──────────────┼────────┤\n",
            "│ roc_auc       │  0.9127 │       0.8478 │ 0.8477 │\n",
            "├───────────────┼─────────┼──────────────┼────────┤\n",
            "│ specificity   │  0.8537 │       0.6522 │ 0.5957 │\n",
            "├───────────────┼─────────┼──────────────┼────────┤\n",
            "│ combined_loss │  4.8507 │       8.0916 │ 5.6118 │\n",
            "╘═══════════════╧═════════╧══════════════╧════════╛\n",
            "INFO:ludwig.trainers.trainer:Last improvement of CATEGORIA validation roc_auc happened 1276 step(s) ago.\n",
            "\n"
          ]
        },
        {
          "output_type": "stream",
          "name": "stdout",
          "text": [
            "\n",
            "Training:  77%|███████▋  | 3564/4640 [32:20<01:48,  9.94it/s, loss=9.37e-23]"
          ]
        },
        {
          "output_type": "stream",
          "name": "stderr",
          "text": [
            "INFO:ludwig.data.batcher.random_access:Last batch in epoch only has 1 sample and will be dropped.\n",
            "INFO:ludwig.data.batcher.random_access:Last batch in epoch only has 1 sample and will be dropped.\n",
            "INFO:ludwig.data.batcher.random_access:Last batch in epoch only has 1 sample and will be dropped.\n"
          ]
        },
        {
          "output_type": "stream",
          "name": "stdout",
          "text": [
            "Training:  77%|███████▋  | 3595/4640 [32:44<01:52,  9.30it/s, loss=1.53e-12]"
          ]
        },
        {
          "output_type": "stream",
          "name": "stderr",
          "text": [
            "INFO:ludwig.trainers.trainer:\n",
            "Running evaluation for step: 3596, epoch: 31\n"
          ]
        },
        {
          "output_type": "stream",
          "name": "stdout",
          "text": [
            "Evaluation valid: 100%|██████████| 3/3 [00:00<00:00, 13.18it/s]\n",
            "Evaluation test : 100%|██████████| 5/5 [00:00<00:00, 10.77it/s]"
          ]
        },
        {
          "output_type": "stream",
          "name": "stderr",
          "text": [
            "INFO:ludwig.trainers.trainer:Evaluation took 0.7261s\n",
            "\n",
            "INFO:ludwig.utils.metrics_printed_table:╒═══════════════╤═════════╤══════════════╤════════╕\n",
            "│               │   train │   validation │   test │\n",
            "╞═══════════════╪═════════╪══════════════╪════════╡\n",
            "│ accuracy      │  0.9839 │       0.8182 │ 0.8636 │\n",
            "├───────────────┼─────────┼──────────────┼────────┤\n",
            "│ loss          │  1.4251 │       7.6243 │ 6.8825 │\n",
            "├───────────────┼─────────┼──────────────┼────────┤\n",
            "│ precision     │  0.9444 │       0.6667 │ 0.7273 │\n",
            "├───────────────┼─────────┼──────────────┼────────┤\n",
            "│ recall        │  1.0000 │       0.8000 │ 0.8421 │\n",
            "├───────────────┼─────────┼──────────────┼────────┤\n",
            "│ roc_auc       │  0.9869 │       0.8130 │ 0.8572 │\n",
            "├───────────────┼─────────┼──────────────┼────────┤\n",
            "│ specificity   │  0.9778 │       0.8261 │ 0.8723 │\n",
            "├───────────────┼─────────┼──────────────┼────────┤\n",
            "│ combined_loss │  1.4251 │       7.6243 │ 6.8825 │\n",
            "╘═══════════════╧═════════╧══════════════╧════════╛\n",
            "INFO:ludwig.trainers.trainer:Last improvement of CATEGORIA validation roc_auc happened 1392 step(s) ago.\n",
            "\n"
          ]
        },
        {
          "output_type": "stream",
          "name": "stdout",
          "text": [
            "\n",
            "Training:  79%|███████▉  | 3680/4640 [33:23<01:42,  9.37it/s, loss=0]"
          ]
        },
        {
          "output_type": "stream",
          "name": "stderr",
          "text": [
            "INFO:ludwig.data.batcher.random_access:Last batch in epoch only has 1 sample and will be dropped.\n",
            "INFO:ludwig.data.batcher.random_access:Last batch in epoch only has 1 sample and will be dropped.\n",
            "INFO:ludwig.data.batcher.random_access:Last batch in epoch only has 1 sample and will be dropped.\n"
          ]
        },
        {
          "output_type": "stream",
          "name": "stdout",
          "text": [
            "Training:  80%|███████▉  | 3711/4640 [33:39<01:36,  9.62it/s, loss=61]  "
          ]
        },
        {
          "output_type": "stream",
          "name": "stderr",
          "text": [
            "INFO:ludwig.trainers.trainer:\n",
            "Running evaluation for step: 3712, epoch: 32\n"
          ]
        },
        {
          "output_type": "stream",
          "name": "stdout",
          "text": [
            "Evaluation valid: 100%|██████████| 3/3 [00:00<00:00, 12.37it/s]\n",
            "Evaluation test : 100%|██████████| 5/5 [00:00<00:00, 10.28it/s]"
          ]
        },
        {
          "output_type": "stream",
          "name": "stderr",
          "text": [
            "INFO:ludwig.trainers.trainer:Evaluation took 0.7705s\n",
            "\n",
            "INFO:ludwig.utils.metrics_printed_table:╒═══════════════╤═════════╤══════════════╤════════╕\n",
            "│               │   train │   validation │   test │\n",
            "╞═══════════════╪═════════╪══════════════╪════════╡\n",
            "│ accuracy      │  0.8750 │       0.8485 │ 0.8939 │\n",
            "├───────────────┼─────────┼──────────────┼────────┤\n",
            "│ loss          │  5.0608 │      10.5747 │ 7.9450 │\n",
            "├───────────────┼─────────┼──────────────┼────────┤\n",
            "│ precision     │  0.7143 │       0.6923 │ 0.8000 │\n",
            "├───────────────┼─────────┼──────────────┼────────┤\n",
            "│ recall        │  0.7143 │       0.9000 │ 0.8421 │\n",
            "├───────────────┼─────────┼──────────────┼────────┤\n",
            "│ roc_auc       │  0.9521 │       0.9000 │ 0.9250 │\n",
            "├───────────────┼─────────┼──────────────┼────────┤\n",
            "│ specificity   │  0.9200 │       0.8261 │ 0.9149 │\n",
            "├───────────────┼─────────┼──────────────┼────────┤\n",
            "│ combined_loss │  5.0608 │      10.5747 │ 7.9450 │\n",
            "╘═══════════════╧═════════╧══════════════╧════════╛\n",
            "INFO:ludwig.trainers.trainer:Last improvement of CATEGORIA validation roc_auc happened 1508 step(s) ago.\n",
            "\n"
          ]
        },
        {
          "output_type": "stream",
          "name": "stdout",
          "text": [
            "\n",
            "Training:  82%|████████▏ | 3795/4640 [34:04<01:21, 10.35it/s, loss=0]"
          ]
        },
        {
          "output_type": "stream",
          "name": "stderr",
          "text": [
            "INFO:ludwig.data.batcher.random_access:Last batch in epoch only has 1 sample and will be dropped.\n",
            "INFO:ludwig.data.batcher.random_access:Last batch in epoch only has 1 sample and will be dropped.\n",
            "INFO:ludwig.data.batcher.random_access:Last batch in epoch only has 1 sample and will be dropped.\n"
          ]
        },
        {
          "output_type": "stream",
          "name": "stdout",
          "text": [
            "Training:  82%|████████▎ | 3828/4640 [34:27<01:25,  9.50it/s, loss=4.04e-30]"
          ]
        },
        {
          "output_type": "stream",
          "name": "stderr",
          "text": [
            "INFO:ludwig.trainers.trainer:\n",
            "Running evaluation for step: 3828, epoch: 33\n"
          ]
        },
        {
          "output_type": "stream",
          "name": "stdout",
          "text": [
            "Evaluation valid: 100%|██████████| 3/3 [00:00<00:00, 12.49it/s]\n",
            "Evaluation test : 100%|██████████| 5/5 [00:00<00:00, 10.67it/s]"
          ]
        },
        {
          "output_type": "stream",
          "name": "stderr",
          "text": [
            "INFO:ludwig.trainers.trainer:Evaluation took 0.7621s\n",
            "\n",
            "INFO:ludwig.utils.metrics_printed_table:╒═══════════════╤═════════╤══════════════╤════════╕\n",
            "│               │   train │   validation │   test │\n",
            "╞═══════════════╪═════════╪══════════════╪════════╡\n",
            "│ accuracy      │  0.9848 │       0.8182 │ 0.8939 │\n",
            "├───────────────┼─────────┼──────────────┼────────┤\n",
            "│ loss          │  1.9905 │       7.6833 │ 5.3349 │\n",
            "├───────────────┼─────────┼──────────────┼────────┤\n",
            "│ precision     │  0.9583 │       0.6667 │ 0.8000 │\n",
            "├───────────────┼─────────┼──────────────┼────────┤\n",
            "│ recall        │  1.0000 │       0.8000 │ 0.8421 │\n",
            "├───────────────┼─────────┼──────────────┼────────┤\n",
            "│ roc_auc       │  0.9884 │       0.8957 │ 0.9395 │\n",
            "├───────────────┼─────────┼──────────────┼────────┤\n",
            "│ specificity   │  0.9767 │       0.8261 │ 0.9149 │\n",
            "├───────────────┼─────────┼──────────────┼────────┤\n",
            "│ combined_loss │  1.9905 │       7.6833 │ 5.3349 │\n",
            "╘═══════════════╧═════════╧══════════════╧════════╛\n",
            "INFO:ludwig.trainers.trainer:Last improvement of CATEGORIA validation roc_auc happened 1624 step(s) ago.\n",
            "\n"
          ]
        },
        {
          "output_type": "stream",
          "name": "stdout",
          "text": [
            "\n",
            "Training:  84%|████████▍ | 3910/4640 [35:05<01:11, 10.25it/s, loss=5.04e-29]"
          ]
        },
        {
          "output_type": "stream",
          "name": "stderr",
          "text": [
            "INFO:ludwig.data.batcher.random_access:Last batch in epoch only has 1 sample and will be dropped.\n",
            "INFO:ludwig.data.batcher.random_access:Last batch in epoch only has 1 sample and will be dropped.\n",
            "INFO:ludwig.data.batcher.random_access:Last batch in epoch only has 1 sample and will be dropped.\n"
          ]
        },
        {
          "output_type": "stream",
          "name": "stdout",
          "text": [
            "Training:  85%|████████▌ | 3944/4640 [35:20<01:11,  9.76it/s, loss=1.06e-28]"
          ]
        },
        {
          "output_type": "stream",
          "name": "stderr",
          "text": [
            "INFO:ludwig.trainers.trainer:\n",
            "Running evaluation for step: 3944, epoch: 34\n"
          ]
        },
        {
          "output_type": "stream",
          "name": "stdout",
          "text": [
            "Evaluation valid: 100%|██████████| 3/3 [00:00<00:00, 12.48it/s]\n",
            "Evaluation test : 100%|██████████| 5/5 [00:00<00:00, 10.53it/s]"
          ]
        },
        {
          "output_type": "stream",
          "name": "stderr",
          "text": [
            "INFO:ludwig.trainers.trainer:Evaluation took 0.7534s\n",
            "\n",
            "INFO:ludwig.utils.metrics_printed_table:╒═══════════════╤═════════╤══════════════╤════════╕\n",
            "│               │   train │   validation │   test │\n",
            "╞═══════════════╪═════════╪══════════════╪════════╡\n",
            "│ accuracy      │  1.0000 │       0.7879 │ 0.8939 │\n",
            "├───────────────┼─────────┼──────────────┼────────┤\n",
            "│ loss          │  0.0000 │      10.0838 │ 6.0275 │\n",
            "├───────────────┼─────────┼──────────────┼────────┤\n",
            "│ precision     │  1.0000 │       0.6667 │ 0.8333 │\n",
            "├───────────────┼─────────┼──────────────┼────────┤\n",
            "│ recall        │  1.0000 │       0.6000 │ 0.7895 │\n",
            "├───────────────┼─────────┼──────────────┼────────┤\n",
            "│ roc_auc       │  1.0000 │       0.8696 │ 0.9457 │\n",
            "├───────────────┼─────────┼──────────────┼────────┤\n",
            "│ specificity   │  1.0000 │       0.8696 │ 0.9362 │\n",
            "├───────────────┼─────────┼──────────────┼────────┤\n",
            "│ combined_loss │  0.0000 │      10.0838 │ 6.0275 │\n",
            "╘═══════════════╧═════════╧══════════════╧════════╛\n",
            "INFO:ludwig.trainers.trainer:Last improvement of CATEGORIA validation roc_auc happened 1740 step(s) ago.\n",
            "\n"
          ]
        },
        {
          "output_type": "stream",
          "name": "stdout",
          "text": [
            "\n",
            "Training:  87%|████████▋ | 4024/4640 [35:42<00:59, 10.34it/s, loss=0]       "
          ]
        },
        {
          "output_type": "stream",
          "name": "stderr",
          "text": [
            "INFO:ludwig.data.batcher.random_access:Last batch in epoch only has 1 sample and will be dropped.\n",
            "INFO:ludwig.data.batcher.random_access:Last batch in epoch only has 1 sample and will be dropped.\n",
            "INFO:ludwig.data.batcher.random_access:Last batch in epoch only has 1 sample and will be dropped.\n"
          ]
        },
        {
          "output_type": "stream",
          "name": "stdout",
          "text": [
            "Training:  88%|████████▊ | 4060/4640 [36:08<00:58,  9.84it/s, loss=0]"
          ]
        },
        {
          "output_type": "stream",
          "name": "stderr",
          "text": [
            "INFO:ludwig.trainers.trainer:\n",
            "Running evaluation for step: 4060, epoch: 35\n"
          ]
        },
        {
          "output_type": "stream",
          "name": "stdout",
          "text": [
            "Evaluation valid: 100%|██████████| 3/3 [00:00<00:00, 12.89it/s]\n",
            "Evaluation test : 100%|██████████| 5/5 [00:00<00:00, 10.85it/s]"
          ]
        },
        {
          "output_type": "stream",
          "name": "stderr",
          "text": [
            "INFO:ludwig.trainers.trainer:Evaluation took 0.7366s\n",
            "\n",
            "INFO:ludwig.utils.metrics_printed_table:╒═══════════════╤═════════╤══════════════╤═════════╕\n",
            "│               │   train │   validation │    test │\n",
            "╞═══════════════╪═════════╪══════════════╪═════════╡\n",
            "│ accuracy      │  1.0000 │       0.8182 │  0.8636 │\n",
            "├───────────────┼─────────┼──────────────┼─────────┤\n",
            "│ loss          │  0.0000 │      13.2116 │ 11.4897 │\n",
            "├───────────────┼─────────┼──────────────┼─────────┤\n",
            "│ precision     │  1.0000 │       0.6667 │  0.7083 │\n",
            "├───────────────┼─────────┼──────────────┼─────────┤\n",
            "│ recall        │  1.0000 │       0.8000 │  0.8947 │\n",
            "├───────────────┼─────────┼──────────────┼─────────┤\n",
            "│ roc_auc       │  1.0000 │       0.8130 │  0.8729 │\n",
            "├───────────────┼─────────┼──────────────┼─────────┤\n",
            "│ specificity   │  1.0000 │       0.8261 │  0.8511 │\n",
            "├───────────────┼─────────┼──────────────┼─────────┤\n",
            "│ combined_loss │  0.0000 │      13.2116 │ 11.4897 │\n",
            "╘═══════════════╧═════════╧══════════════╧═════════╛\n",
            "INFO:ludwig.trainers.trainer:Last improvement of CATEGORIA validation roc_auc happened 1856 step(s) ago.\n",
            "\n"
          ]
        },
        {
          "output_type": "stream",
          "name": "stdout",
          "text": [
            "\n",
            "Training:  89%|████████▉ | 4140/4640 [36:32<00:50,  9.87it/s, loss=0]"
          ]
        },
        {
          "output_type": "stream",
          "name": "stderr",
          "text": [
            "INFO:ludwig.data.batcher.random_access:Last batch in epoch only has 1 sample and will be dropped.\n",
            "INFO:ludwig.data.batcher.random_access:Last batch in epoch only has 1 sample and will be dropped.\n",
            "INFO:ludwig.data.batcher.random_access:Last batch in epoch only has 1 sample and will be dropped.\n"
          ]
        },
        {
          "output_type": "stream",
          "name": "stdout",
          "text": [
            "Training:  90%|█████████ | 4176/4640 [37:00<00:48,  9.66it/s, loss=0]"
          ]
        },
        {
          "output_type": "stream",
          "name": "stderr",
          "text": [
            "INFO:ludwig.trainers.trainer:\n",
            "Running evaluation for step: 4176, epoch: 36\n"
          ]
        },
        {
          "output_type": "stream",
          "name": "stdout",
          "text": [
            "Evaluation valid: 100%|██████████| 3/3 [00:00<00:00, 12.58it/s]\n",
            "Evaluation test : 100%|██████████| 5/5 [00:00<00:00, 10.71it/s]"
          ]
        },
        {
          "output_type": "stream",
          "name": "stderr",
          "text": [
            "INFO:ludwig.trainers.trainer:Evaluation took 0.7489s\n",
            "\n",
            "INFO:ludwig.utils.metrics_printed_table:╒═══════════════╤═════════╤══════════════╤════════╕\n",
            "│               │   train │   validation │   test │\n",
            "╞═══════════════╪═════════╪══════════════╪════════╡\n",
            "│ accuracy      │  0.9722 │       0.8182 │ 0.8636 │\n",
            "├───────────────┼─────────┼──────────────┼────────┤\n",
            "│ loss          │  1.1378 │       8.9649 │ 6.3995 │\n",
            "├───────────────┼─────────┼──────────────┼────────┤\n",
            "│ precision     │  0.9310 │       0.6667 │ 0.7083 │\n",
            "├───────────────┼─────────┼──────────────┼────────┤\n",
            "│ recall        │  1.0000 │       0.8000 │ 0.8947 │\n",
            "├───────────────┼─────────┼──────────────┼────────┤\n",
            "│ roc_auc       │  0.9704 │       0.8130 │ 0.8729 │\n",
            "├───────────────┼─────────┼──────────────┼────────┤\n",
            "│ specificity   │  0.9556 │       0.8261 │ 0.8511 │\n",
            "├───────────────┼─────────┼──────────────┼────────┤\n",
            "│ combined_loss │  1.1378 │       8.9649 │ 6.3995 │\n",
            "╘═══════════════╧═════════╧══════════════╧════════╛\n",
            "INFO:ludwig.trainers.trainer:Last improvement of CATEGORIA validation roc_auc happened 1972 step(s) ago.\n",
            "\n"
          ]
        },
        {
          "output_type": "stream",
          "name": "stdout",
          "text": [
            "\n",
            "Training:  92%|█████████▏| 4254/4640 [37:38<00:37, 10.20it/s, loss=0]"
          ]
        },
        {
          "output_type": "stream",
          "name": "stderr",
          "text": [
            "INFO:ludwig.data.batcher.random_access:Last batch in epoch only has 1 sample and will be dropped.\n",
            "INFO:ludwig.data.batcher.random_access:Last batch in epoch only has 1 sample and will be dropped.\n",
            "INFO:ludwig.data.batcher.random_access:Last batch in epoch only has 1 sample and will be dropped.\n"
          ]
        },
        {
          "output_type": "stream",
          "name": "stdout",
          "text": [
            "Training:  92%|█████████▎| 4292/4640 [37:59<00:35,  9.68it/s, loss=0]"
          ]
        },
        {
          "output_type": "stream",
          "name": "stderr",
          "text": [
            "INFO:ludwig.trainers.trainer:\n",
            "Running evaluation for step: 4292, epoch: 37\n"
          ]
        },
        {
          "output_type": "stream",
          "name": "stdout",
          "text": [
            "Evaluation valid: 100%|██████████| 3/3 [00:00<00:00, 12.76it/s]\n",
            "Evaluation test : 100%|██████████| 5/5 [00:00<00:00, 10.61it/s]"
          ]
        },
        {
          "output_type": "stream",
          "name": "stderr",
          "text": [
            "INFO:ludwig.trainers.trainer:Evaluation took 0.7571s\n",
            "\n",
            "INFO:ludwig.utils.metrics_printed_table:╒═══════════════╤═════════╤══════════════╤═════════╕\n",
            "│               │   train │   validation │    test │\n",
            "╞═══════════════╪═════════╪══════════════╪═════════╡\n",
            "│ accuracy      │  1.0000 │       0.8182 │  0.8788 │\n",
            "├───────────────┼─────────┼──────────────┼─────────┤\n",
            "│ loss          │  0.0000 │      15.2810 │ 13.1589 │\n",
            "├───────────────┼─────────┼──────────────┼─────────┤\n",
            "│ precision     │  1.0000 │       0.6667 │  0.7391 │\n",
            "├───────────────┼─────────┼──────────────┼─────────┤\n",
            "│ recall        │  1.0000 │       0.8000 │  0.8947 │\n",
            "├───────────────┼─────────┼──────────────┼─────────┤\n",
            "│ roc_auc       │  1.0000 │       0.8348 │  0.9261 │\n",
            "├───────────────┼─────────┼──────────────┼─────────┤\n",
            "│ specificity   │  1.0000 │       0.8261 │  0.8723 │\n",
            "├───────────────┼─────────┼──────────────┼─────────┤\n",
            "│ combined_loss │  0.0000 │      15.2810 │ 13.1589 │\n",
            "╘═══════════════╧═════════╧══════════════╧═════════╛\n",
            "INFO:ludwig.trainers.trainer:Last improvement of CATEGORIA validation roc_auc happened 2088 step(s) ago.\n",
            "\n"
          ]
        },
        {
          "output_type": "stream",
          "name": "stdout",
          "text": [
            "\n",
            "Training:  94%|█████████▍| 4370/4640 [38:25<00:26, 10.28it/s, loss=2.64e-22]"
          ]
        },
        {
          "output_type": "stream",
          "name": "stderr",
          "text": [
            "INFO:ludwig.data.batcher.random_access:Last batch in epoch only has 1 sample and will be dropped.\n",
            "INFO:ludwig.data.batcher.random_access:Last batch in epoch only has 1 sample and will be dropped.\n",
            "INFO:ludwig.data.batcher.random_access:Last batch in epoch only has 1 sample and will be dropped.\n"
          ]
        },
        {
          "output_type": "stream",
          "name": "stdout",
          "text": [
            "Training:  95%|█████████▍| 4407/4640 [38:42<00:23, 10.01it/s, loss=61.1]"
          ]
        },
        {
          "output_type": "stream",
          "name": "stderr",
          "text": [
            "INFO:ludwig.trainers.trainer:\n",
            "Running evaluation for step: 4408, epoch: 38\n"
          ]
        },
        {
          "output_type": "stream",
          "name": "stdout",
          "text": [
            "Evaluation valid: 100%|██████████| 3/3 [00:00<00:00, 12.76it/s]\n",
            "Evaluation test : 100%|██████████| 5/5 [00:00<00:00, 10.80it/s]"
          ]
        },
        {
          "output_type": "stream",
          "name": "stderr",
          "text": [
            "INFO:ludwig.trainers.trainer:Evaluation took 0.7367s\n",
            "\n",
            "INFO:ludwig.utils.metrics_printed_table:╒═══════════════╤═════════╤══════════════╤═════════╕\n",
            "│               │   train │   validation │    test │\n",
            "╞═══════════════╪═════════╪══════════════╪═════════╡\n",
            "│ accuracy      │  0.9737 │       0.8182 │  0.8788 │\n",
            "├───────────────┼─────────┼──────────────┼─────────┤\n",
            "│ loss          │  2.2486 │      13.2060 │ 10.9739 │\n",
            "├───────────────┼─────────┼──────────────┼─────────┤\n",
            "│ precision     │  0.9459 │       0.6667 │  0.7391 │\n",
            "├───────────────┼─────────┼──────────────┼─────────┤\n",
            "│ recall        │  1.0000 │       0.8000 │  0.8947 │\n",
            "├───────────────┼─────────┼──────────────┼─────────┤\n",
            "│ roc_auc       │  0.9735 │       0.8348 │  0.9261 │\n",
            "├───────────────┼─────────┼──────────────┼─────────┤\n",
            "│ specificity   │  0.9512 │       0.8261 │  0.8723 │\n",
            "├───────────────┼─────────┼──────────────┼─────────┤\n",
            "│ combined_loss │  2.2486 │      13.2060 │ 10.9739 │\n",
            "╘═══════════════╧═════════╧══════════════╧═════════╛\n",
            "INFO:ludwig.trainers.trainer:Last improvement of CATEGORIA validation roc_auc happened 2204 step(s) ago.\n",
            "\n"
          ]
        },
        {
          "output_type": "stream",
          "name": "stdout",
          "text": [
            "\n",
            "Training:  97%|█████████▋| 4484/4640 [39:14<00:15, 10.14it/s, loss=0]      "
          ]
        },
        {
          "output_type": "stream",
          "name": "stderr",
          "text": [
            "INFO:ludwig.data.batcher.random_access:Last batch in epoch only has 1 sample and will be dropped.\n",
            "INFO:ludwig.data.batcher.random_access:Last batch in epoch only has 1 sample and will be dropped.\n",
            "INFO:ludwig.data.batcher.random_access:Last batch in epoch only has 1 sample and will be dropped.\n"
          ]
        },
        {
          "output_type": "stream",
          "name": "stdout",
          "text": [
            "Training:  97%|█████████▋| 4523/4640 [39:45<00:11,  9.96it/s, loss=0]"
          ]
        },
        {
          "output_type": "stream",
          "name": "stderr",
          "text": [
            "INFO:ludwig.trainers.trainer:\n",
            "Running evaluation for step: 4524, epoch: 39\n"
          ]
        },
        {
          "output_type": "stream",
          "name": "stdout",
          "text": [
            "Evaluation valid: 100%|██████████| 3/3 [00:00<00:00, 12.75it/s]\n",
            "Evaluation test : 100%|██████████| 5/5 [00:00<00:00, 10.67it/s]"
          ]
        },
        {
          "output_type": "stream",
          "name": "stderr",
          "text": [
            "INFO:ludwig.trainers.trainer:Evaluation took 0.7432s\n",
            "\n",
            "INFO:ludwig.utils.metrics_printed_table:╒═══════════════╤═════════╤══════════════╤════════╕\n",
            "│               │   train │   validation │   test │\n",
            "╞═══════════════╪═════════╪══════════════╪════════╡\n",
            "│ accuracy      │  1.0000 │       0.8182 │ 0.8636 │\n",
            "├───────────────┼─────────┼──────────────┼────────┤\n",
            "│ loss          │  0.0000 │       9.8326 │ 8.5205 │\n",
            "├───────────────┼─────────┼──────────────┼────────┤\n",
            "│ precision     │  1.0000 │       0.6667 │ 0.7273 │\n",
            "├───────────────┼─────────┼──────────────┼────────┤\n",
            "│ recall        │  1.0000 │       0.8000 │ 0.8421 │\n",
            "├───────────────┼─────────┼──────────────┼────────┤\n",
            "│ roc_auc       │  1.0000 │       0.8130 │ 0.8572 │\n",
            "├───────────────┼─────────┼──────────────┼────────┤\n",
            "│ specificity   │  1.0000 │       0.8261 │ 0.8723 │\n",
            "├───────────────┼─────────┼──────────────┼────────┤\n",
            "│ combined_loss │  0.0000 │       9.8326 │ 8.5205 │\n",
            "╘═══════════════╧═════════╧══════════════╧════════╛\n",
            "INFO:ludwig.trainers.trainer:Last improvement of CATEGORIA validation roc_auc happened 2320 step(s) ago.\n",
            "\n"
          ]
        },
        {
          "output_type": "stream",
          "name": "stdout",
          "text": [
            "\n",
            "Training:  99%|█████████▉| 4600/4640 [40:04<00:04,  9.73it/s, loss=9.46e-33]"
          ]
        },
        {
          "output_type": "stream",
          "name": "stderr",
          "text": [
            "INFO:ludwig.data.batcher.random_access:Last batch in epoch only has 1 sample and will be dropped.\n",
            "INFO:ludwig.data.batcher.random_access:Last batch in epoch only has 1 sample and will be dropped.\n",
            "INFO:ludwig.data.batcher.random_access:Last batch in epoch only has 1 sample and will be dropped.\n"
          ]
        },
        {
          "output_type": "stream",
          "name": "stdout",
          "text": [
            "Training: 100%|██████████| 4640/4640 [40:28<00:00, 10.01it/s, loss=0]"
          ]
        },
        {
          "output_type": "stream",
          "name": "stderr",
          "text": [
            "INFO:ludwig.trainers.trainer:\n",
            "Running evaluation for step: 4640, epoch: 40\n"
          ]
        },
        {
          "output_type": "stream",
          "name": "stdout",
          "text": [
            "Evaluation valid: 100%|██████████| 3/3 [00:00<00:00, 12.80it/s]\n",
            "Evaluation test : 100%|██████████| 5/5 [00:00<00:00, 10.74it/s]"
          ]
        },
        {
          "output_type": "stream",
          "name": "stderr",
          "text": [
            "INFO:ludwig.trainers.trainer:Evaluation took 0.7371s\n",
            "\n",
            "INFO:ludwig.utils.metrics_printed_table:╒═══════════════╤═════════╤══════════════╤════════╕\n",
            "│               │   train │   validation │   test │\n",
            "╞═══════════════╪═════════╪══════════════╪════════╡\n",
            "│ accuracy      │  1.0000 │       0.8182 │ 0.8636 │\n",
            "├───────────────┼─────────┼──────────────┼────────┤\n",
            "│ loss          │  0.0000 │      10.9145 │ 9.4950 │\n",
            "├───────────────┼─────────┼──────────────┼────────┤\n",
            "│ precision     │  1.0000 │       0.6667 │ 0.7273 │\n",
            "├───────────────┼─────────┼──────────────┼────────┤\n",
            "│ recall        │  1.0000 │       0.8000 │ 0.8421 │\n",
            "├───────────────┼─────────┼──────────────┼────────┤\n",
            "│ roc_auc       │  1.0000 │       0.8130 │ 0.8802 │\n",
            "├───────────────┼─────────┼──────────────┼────────┤\n",
            "│ specificity   │  1.0000 │       0.8261 │ 0.8723 │\n",
            "├───────────────┼─────────┼──────────────┼────────┤\n",
            "│ combined_loss │  0.0000 │      10.9145 │ 9.4950 │\n",
            "╘═══════════════╧═════════╧══════════════╧════════╛\n",
            "INFO:ludwig.trainers.trainer:Last improvement of CATEGORIA validation roc_auc happened 2436 step(s) ago.\n",
            "\n"
          ]
        },
        {
          "output_type": "stream",
          "name": "stdout",
          "text": [
            "\n",
            "Training: 100%|██████████| 4640/4640 [41:17<00:00,  1.87it/s, loss=0]\n",
            "Evaluation valid: 100%|██████████| 3/3 [00:00<00:00, 10.44it/s]\n"
          ]
        },
        {
          "output_type": "stream",
          "name": "stderr",
          "text": [
            "INFO:ludwig.utils.calibration:Before temperature scaling:\n",
            "    Negative log-likelihood: 11.601\n",
            "    Expected Calibration Error: 0.181\n",
            "INFO:ludwig.utils.calibration:Optimal temperature: 16.183\n",
            "INFO:ludwig.utils.calibration:After temperature scaling:\n",
            "    Negative log-likelihood: 0.978\n",
            "    Expected Calibration Error: 0.261\n",
            "WARNING:ludwig.utils.calibration:Expected calibration error higher after scaling, reverting to temperature=1.000.\n",
            "INFO:ludwig.utils.print_utils:\n",
            "INFO:ludwig.utils.print_utils:╒═════════════════╕\n",
            "INFO:ludwig.utils.print_utils:│ TRAINING REPORT │\n",
            "INFO:ludwig.utils.print_utils:╘═════════════════╛\n",
            "INFO:ludwig.utils.print_utils:\n",
            "INFO:ludwig.api:╒═════════════════════════════════╤════════════════════╕\n",
            "│ Validation feature              │ CATEGORIA          │\n",
            "├─────────────────────────────────┼────────────────────┤\n",
            "│ Validation metric               │ roc_auc            │\n",
            "├─────────────────────────────────┼────────────────────┤\n",
            "│ Best model step                 │ 2204               │\n",
            "├─────────────────────────────────┼────────────────────┤\n",
            "│ Best model epoch                │ 20                 │\n",
            "├─────────────────────────────────┼────────────────────┤\n",
            "│ Best model's validation roc_auc │ 0.9108695983886719 │\n",
            "├─────────────────────────────────┼────────────────────┤\n",
            "│ Best model's test roc_auc       │ 0.9059350490570068 │\n",
            "╘═════════════════════════════════╧════════════════════╛\n",
            "INFO:ludwig.api:\n",
            "Finished: api_experiment_run\n",
            "INFO:ludwig.api:Saved to: /content/results/api_experiment_run\n",
            "INFO:ludwig.utils.print_utils:\n",
            "INFO:ludwig.utils.print_utils:╒══════════╕\n",
            "INFO:ludwig.utils.print_utils:│ FINISHED │\n",
            "INFO:ludwig.utils.print_utils:╘══════════╛\n",
            "INFO:ludwig.utils.print_utils:\n"
          ]
        }
      ],
      "source": [
        "train_stats,pred,out = model.train(dataset=train_df)"
      ]
    },
    {
      "cell_type": "code",
      "execution_count": 45,
      "metadata": {
        "colab": {
          "base_uri": "https://localhost:8080/"
        },
        "id": "eIPLyuDAg_s3",
        "outputId": "298bb2a1-a894-4bd6-be76-b3fabe1961fd"
      },
      "outputs": [
        {
          "output_type": "stream",
          "name": "stderr",
          "text": [
            "INFO:ludwig.utils.tokenizers:Loaded TorchText implementation of distilbert/distilbert-base-multilingual-cased tokenizer\n"
          ]
        },
        {
          "output_type": "stream",
          "name": "stdout",
          "text": [
            "Evaluation: 100%|██████████| 6/6 [00:00<00:00,  9.45it/s]\n"
          ]
        },
        {
          "output_type": "stream",
          "name": "stderr",
          "text": [
            "INFO:ludwig.models.predictor:\n",
            "===== CATEGORIA =====\n",
            "INFO:ludwig.models.predictor:accuracy: 0.7710843086242676\n",
            "INFO:ludwig.models.predictor:average_precision_macro: 0.7437855995445115\n",
            "INFO:ludwig.models.predictor:average_precision_micro: 0.7437855995445115\n",
            "INFO:ludwig.models.predictor:average_precision_samples: 0.7437855995445115\n",
            "INFO:ludwig.models.predictor:loss: 11.157093048095703\n",
            "INFO:ludwig.models.predictor:overall_stats: { 'avg_f1_score_macro': 0.7705514331441874,\n",
            "  'avg_f1_score_micro': 0.7710843373493976,\n",
            "  'avg_f1_score_weighted': 0.7720169197085155,\n",
            "  'avg_precision_macro': 0.7738372093023256,\n",
            "  'avg_precision_micro': 0.7710843373493976,\n",
            "  'avg_precision_weighted': 0.7710843373493976,\n",
            "  'avg_recall_macro': 0.7783687943262412,\n",
            "  'avg_recall_micro': 0.7710843373493976,\n",
            "  'avg_recall_weighted': 0.7710843373493976,\n",
            "  'kappa_score': 0.5443513435423288,\n",
            "  'token_accuracy': 0.7710843373493976}\n",
            "INFO:ludwig.models.predictor:per_class_stats: {False: {   'accuracy': 0.7710843373493976,\n",
            "    'f1_score': 0.7816091954022989,\n",
            "    'fall_out': 0.16666666666666663,\n",
            "    'false_discovery_rate': 0.15000000000000002,\n",
            "    'false_negative_rate': 0.276595744680851,\n",
            "    'false_negatives': 13,\n",
            "    'false_omission_rate': 0.3023255813953488,\n",
            "    'false_positive_rate': 0.16666666666666663,\n",
            "    'false_positives': 6,\n",
            "    'hit_rate': 0.723404255319149,\n",
            "    'informedness': 0.5567375886524824,\n",
            "    'markedness': 0.5476744186046512,\n",
            "    'matthews_correlation_coefficient': 0.5521874094730915,\n",
            "    'miss_rate': 0.276595744680851,\n",
            "    'negative_predictive_value': 0.6976744186046512,\n",
            "    'positive_predictive_value': 0.85,\n",
            "    'precision': 0.85,\n",
            "    'recall': 0.723404255319149,\n",
            "    'sensitivity': 0.723404255319149,\n",
            "    'specificity': 0.8333333333333334,\n",
            "    'true_negative_rate': 0.8333333333333334,\n",
            "    'true_negatives': 30,\n",
            "    'true_positive_rate': 0.723404255319149,\n",
            "    'true_positives': 34},\n",
            "  True: {   'accuracy': 0.7710843373493976,\n",
            "    'f1_score': 0.759493670886076,\n",
            "    'fall_out': 0.276595744680851,\n",
            "    'false_discovery_rate': 0.3023255813953488,\n",
            "    'false_negative_rate': 0.16666666666666663,\n",
            "    'false_negatives': 6,\n",
            "    'false_omission_rate': 0.15000000000000002,\n",
            "    'false_positive_rate': 0.276595744680851,\n",
            "    'false_positives': 13,\n",
            "    'hit_rate': 0.8333333333333334,\n",
            "    'informedness': 0.5567375886524824,\n",
            "    'markedness': 0.5476744186046512,\n",
            "    'matthews_correlation_coefficient': 0.5521874094730915,\n",
            "    'miss_rate': 0.16666666666666663,\n",
            "    'negative_predictive_value': 0.85,\n",
            "    'positive_predictive_value': 0.6976744186046512,\n",
            "    'precision': 0.6976744186046512,\n",
            "    'recall': 0.8333333333333334,\n",
            "    'sensitivity': 0.8333333333333334,\n",
            "    'specificity': 0.723404255319149,\n",
            "    'true_negative_rate': 0.723404255319149,\n",
            "    'true_negatives': 34,\n",
            "    'true_positive_rate': 0.8333333333333334,\n",
            "    'true_positives': 30}}\n",
            "INFO:ludwig.models.predictor:precision: 0.6976743936538696\n",
            "INFO:ludwig.models.predictor:precision_recall_curve: { 'precisions': [ 0.43373493975903615,\n",
            "                  0.43902439024390244,\n",
            "                  0.4444444444444444,\n",
            "                  0.45,\n",
            "                  0.45569620253164556,\n",
            "                  0.46153846153846156,\n",
            "                  0.4675324675324675,\n",
            "                  0.47368421052631576,\n",
            "                  0.4666666666666667,\n",
            "                  0.47297297297297297,\n",
            "                  0.4794520547945205,\n",
            "                  0.4861111111111111,\n",
            "                  0.4788732394366197,\n",
            "                  0.4857142857142857,\n",
            "                  0.4927536231884058,\n",
            "                  0.5,\n",
            "                  0.5074626865671642,\n",
            "                  0.5151515151515151,\n",
            "                  0.5230769230769231,\n",
            "                  0.53125,\n",
            "                  0.5396825396825397,\n",
            "                  0.5483870967741935,\n",
            "                  0.5573770491803278,\n",
            "                  0.5666666666666667,\n",
            "                  0.576271186440678,\n",
            "                  0.5862068965517241,\n",
            "                  0.5964912280701754,\n",
            "                  0.6071428571428571,\n",
            "                  0.6181818181818182,\n",
            "                  0.6296296296296297,\n",
            "                  0.6415094339622641,\n",
            "                  0.6538461538461539,\n",
            "                  0.6666666666666666,\n",
            "                  0.66,\n",
            "                  0.673469387755102,\n",
            "                  0.6875,\n",
            "                  0.6808510638297872,\n",
            "                  0.6739130434782609,\n",
            "                  0.6888888888888889,\n",
            "                  0.7045454545454546,\n",
            "                  0.6976744186046512,\n",
            "                  0.7142857142857143,\n",
            "                  0.7317073170731707,\n",
            "                  0.75,\n",
            "                  0.7692307692307693,\n",
            "                  1.0],\n",
            "  'recalls': [ 1.0,\n",
            "               1.0,\n",
            "               1.0,\n",
            "               1.0,\n",
            "               1.0,\n",
            "               1.0,\n",
            "               1.0,\n",
            "               1.0,\n",
            "               0.9722222222222222,\n",
            "               0.9722222222222222,\n",
            "               0.9722222222222222,\n",
            "               0.9722222222222222,\n",
            "               0.9444444444444444,\n",
            "               0.9444444444444444,\n",
            "               0.9444444444444444,\n",
            "               0.9444444444444444,\n",
            "               0.9444444444444444,\n",
            "               0.9444444444444444,\n",
            "               0.9444444444444444,\n",
            "               0.9444444444444444,\n",
            "               0.9444444444444444,\n",
            "               0.9444444444444444,\n",
            "               0.9444444444444444,\n",
            "               0.9444444444444444,\n",
            "               0.9444444444444444,\n",
            "               0.9444444444444444,\n",
            "               0.9444444444444444,\n",
            "               0.9444444444444444,\n",
            "               0.9444444444444444,\n",
            "               0.9444444444444444,\n",
            "               0.9444444444444444,\n",
            "               0.9444444444444444,\n",
            "               0.9444444444444444,\n",
            "               0.9166666666666666,\n",
            "               0.9166666666666666,\n",
            "               0.9166666666666666,\n",
            "               0.8888888888888888,\n",
            "               0.8611111111111112,\n",
            "               0.8611111111111112,\n",
            "               0.8611111111111112,\n",
            "               0.8333333333333334,\n",
            "               0.8333333333333334,\n",
            "               0.8333333333333334,\n",
            "               0.8333333333333334,\n",
            "               0.8333333333333334,\n",
            "               0.0]}\n",
            "INFO:ludwig.models.predictor:recall: 0.8333333134651184\n",
            "INFO:ludwig.models.predictor:roc_auc: 0.839243471622467\n",
            "INFO:ludwig.models.predictor:roc_auc_macro: 0.8392434988179669\n",
            "INFO:ludwig.models.predictor:roc_auc_micro: 0.8392434988179669\n",
            "INFO:ludwig.models.predictor:specificity: 0.7234042286872864\n"
          ]
        }
      ],
      "source": [
        "test_stats, predictions, output_directory = model.evaluate(\n",
        "  test_df,\n",
        "  collect_predictions=True,\n",
        "  collect_overall_stats=True\n",
        ")"
      ]
    },
    {
      "cell_type": "code",
      "execution_count": 46,
      "metadata": {
        "colab": {
          "base_uri": "https://localhost:8080/",
          "height": 1000
        },
        "id": "Ao2LWcx1hCFw",
        "outputId": "1816afe6-beb6-476b-beb8-733b538453f7"
      },
      "outputs": [
        {
          "output_type": "stream",
          "name": "stderr",
          "text": [
            "/usr/local/lib/python3.10/dist-packages/ludwig/utils/visualization_utils.py:1179: UserWarning: FixedFormatter should only be used together with FixedLocator\n",
            "  ax.set_xticklabels([\"\"] + labels, rotation=45, ha=\"left\")\n",
            "/usr/local/lib/python3.10/dist-packages/ludwig/utils/visualization_utils.py:1180: UserWarning: FixedFormatter should only be used together with FixedLocator\n",
            "  ax.set_yticklabels([\"\"] + labels, rotation=45, ha=\"right\")\n"
          ]
        },
        {
          "output_type": "display_data",
          "data": {
            "text/plain": [
              "<Figure size 640x480 with 2 Axes>"
            ],
            "image/png": "[encoded data removed]"
          },
          "metadata": {}
        },
        {
          "output_type": "display_data",
          "data": {
            "text/plain": [
              "<Figure size 640x480 with 1 Axes>"
            ],
            "image/png": "[encoded data removed]"
          },
          "metadata": {}
        }
      ],
      "source": [
        "# Visualizes confusion matrix, which gives an overview of classifier performance\n",
        "# for each class.\n",
        "from ludwig.visualize import confusion_matrix\n",
        "\n",
        "confusion_matrix(\n",
        "  [test_stats],\n",
        "  model.training_set_metadata,\n",
        "  'class',\n",
        "  top_n_classes=[5],\n",
        "  model_names=[''],\n",
        "  normalize=True,\n",
        ")"
      ]
    },
    {
      "cell_type": "code",
      "execution_count": 47,
      "metadata": {
        "colab": {
          "base_uri": "https://localhost:8080/",
          "height": 1000
        },
        "id": "jinSMq03hC1P",
        "outputId": "3d0a8e47-e068-430d-8489-441ca0277171"
      },
      "outputs": [
        {
          "output_type": "display_data",
          "data": {
            "text/plain": [
              "<Figure size 640x480 with 1 Axes>"
            ],
            "image/png": "[encoded data removed]"
          },
          "metadata": {}
        },
        {
          "output_type": "display_data",
          "data": {
            "text/plain": [
              "<Figure size 640x480 with 1 Axes>"
            ],
            "image/png": "[encoded data removed]"
          },
          "metadata": {}
        },
        {
          "output_type": "display_data",
          "data": {
            "text/plain": [
              "<Figure size 640x480 with 1 Axes>"
            ],
            "image/png": "[encoded data removed]"
          },
          "metadata": {}
        }
      ],
      "source": [
        "# Visualizes learning curves, which show how performance metrics changed over\n",
        "# time during training.\n",
        "from ludwig.visualize import learning_curves\n",
        "\n",
        "learning_curves(train_stats, output_feature_name='class')"
      ]
    },
    {
      "cell_type": "code",
      "execution_count": 48,
      "metadata": {
        "id": "o0YQcj2bHim2"
      },
      "outputs": [],
      "source": [
        "train, valid, test, metadata = pred"
      ]
    },
    {
      "cell_type": "code",
      "execution_count": 49,
      "metadata": {
        "colab": {
          "base_uri": "https://localhost:8080/"
        },
        "id": "mTI0V4CKHlYu",
        "outputId": "93261a73-2b7f-47be-8922-3a7ed1164deb"
      },
      "outputs": [
        {
          "output_type": "stream",
          "name": "stdout",
          "text": [
            "Evaluation: 100%|██████████| 5/5 [00:00<00:00,  9.22it/s]"
          ]
        },
        {
          "output_type": "stream",
          "name": "stderr",
          "text": [
            "INFO:ludwig.models.predictor:\n",
            "===== CATEGORIA =====\n",
            "INFO:ludwig.models.predictor:accuracy: 0.8484848737716675\n"
          ]
        },
        {
          "output_type": "stream",
          "name": "stdout",
          "text": [
            "\n"
          ]
        },
        {
          "output_type": "stream",
          "name": "stderr",
          "text": [
            "INFO:ludwig.models.predictor:average_precision_macro: 0.7175285284091661\n",
            "INFO:ludwig.models.predictor:average_precision_micro: 0.7175285284091661\n",
            "INFO:ludwig.models.predictor:average_precision_samples: 0.7175285284091661\n",
            "INFO:ludwig.models.predictor:loss: 8.043233871459961\n",
            "INFO:ludwig.models.predictor:overall_stats: { 'avg_f1_score_macro': 0.8295454545454546,\n",
            "  'avg_f1_score_micro': 0.8484848484848486,\n",
            "  'avg_f1_score_weighted': 0.8536501377410468,\n",
            "  'avg_precision_macro': 0.815609756097561,\n",
            "  'avg_precision_micro': 0.8484848484848485,\n",
            "  'avg_precision_weighted': 0.8484848484848485,\n",
            "  'avg_recall_macro': 0.8622620380739081,\n",
            "  'avg_recall_micro': 0.8484848484848485,\n",
            "  'avg_recall_weighted': 0.8484848484848485,\n",
            "  'kappa_score': 0.662231320368475,\n",
            "  'token_accuracy': 0.8484848484848485}\n",
            "INFO:ludwig.models.predictor:per_class_stats: {False: {   'accuracy': 0.8484848484848485,\n",
            "    'f1_score': 0.8863636363636364,\n",
            "    'fall_out': 0.10526315789473684,\n",
            "    'false_discovery_rate': 0.04878048780487809,\n",
            "    'false_negative_rate': 0.17021276595744683,\n",
            "    'false_negatives': 8,\n",
            "    'false_omission_rate': 0.31999999999999995,\n",
            "    'false_positive_rate': 0.10526315789473684,\n",
            "    'false_positives': 2,\n",
            "    'hit_rate': 0.8297872340425532,\n",
            "    'informedness': 0.7245240761478162,\n",
            "    'markedness': 0.6312195121951221,\n",
            "    'matthews_correlation_coefficient': 0.6762645443313187,\n",
            "    'miss_rate': 0.17021276595744683,\n",
            "    'negative_predictive_value': 0.68,\n",
            "    'positive_predictive_value': 0.9512195121951219,\n",
            "    'precision': 0.9512195121951219,\n",
            "    'recall': 0.8297872340425532,\n",
            "    'sensitivity': 0.8297872340425532,\n",
            "    'specificity': 0.8947368421052632,\n",
            "    'true_negative_rate': 0.8947368421052632,\n",
            "    'true_negatives': 17,\n",
            "    'true_positive_rate': 0.8297872340425532,\n",
            "    'true_positives': 39},\n",
            "  True: {   'accuracy': 0.8484848484848485,\n",
            "    'f1_score': 0.7727272727272727,\n",
            "    'fall_out': 0.17021276595744683,\n",
            "    'false_discovery_rate': 0.31999999999999995,\n",
            "    'false_negative_rate': 0.10526315789473684,\n",
            "    'false_negatives': 2,\n",
            "    'false_omission_rate': 0.04878048780487809,\n",
            "    'false_positive_rate': 0.17021276595744683,\n",
            "    'false_positives': 8,\n",
            "    'hit_rate': 0.8947368421052632,\n",
            "    'informedness': 0.7245240761478162,\n",
            "    'markedness': 0.6312195121951221,\n",
            "    'matthews_correlation_coefficient': 0.6762645443313187,\n",
            "    'miss_rate': 0.10526315789473684,\n",
            "    'negative_predictive_value': 0.9512195121951219,\n",
            "    'positive_predictive_value': 0.68,\n",
            "    'precision': 0.68,\n",
            "    'recall': 0.8947368421052632,\n",
            "    'sensitivity': 0.8947368421052632,\n",
            "    'specificity': 0.8297872340425532,\n",
            "    'true_negative_rate': 0.8297872340425532,\n",
            "    'true_negatives': 39,\n",
            "    'true_positive_rate': 0.8947368421052632,\n",
            "    'true_positives': 17}}\n",
            "INFO:ludwig.models.predictor:precision: 0.6800000071525574\n",
            "INFO:ludwig.models.predictor:precision_recall_curve: { 'precisions': [ 0.2878787878787879,\n",
            "                  0.2923076923076923,\n",
            "                  0.296875,\n",
            "                  0.30158730158730157,\n",
            "                  0.3064516129032258,\n",
            "                  0.3114754098360656,\n",
            "                  0.31666666666666665,\n",
            "                  0.3220338983050847,\n",
            "                  0.3275862068965517,\n",
            "                  0.3333333333333333,\n",
            "                  0.3392857142857143,\n",
            "                  0.34545454545454546,\n",
            "                  0.35185185185185186,\n",
            "                  0.3584905660377358,\n",
            "                  0.36538461538461536,\n",
            "                  0.37254901960784315,\n",
            "                  0.38,\n",
            "                  0.3877551020408163,\n",
            "                  0.3958333333333333,\n",
            "                  0.40425531914893614,\n",
            "                  0.41304347826086957,\n",
            "                  0.4222222222222222,\n",
            "                  0.4318181818181818,\n",
            "                  0.4418604651162791,\n",
            "                  0.4523809523809524,\n",
            "                  0.4634146341463415,\n",
            "                  0.475,\n",
            "                  0.48717948717948717,\n",
            "                  0.47368421052631576,\n",
            "                  0.4864864864864865,\n",
            "                  0.5,\n",
            "                  0.5142857142857142,\n",
            "                  0.5294117647058824,\n",
            "                  0.5454545454545454,\n",
            "                  0.5625,\n",
            "                  0.5806451612903226,\n",
            "                  0.5666666666666667,\n",
            "                  0.5862068965517241,\n",
            "                  0.6071428571428571,\n",
            "                  0.6296296296296297,\n",
            "                  0.6538461538461539,\n",
            "                  0.68,\n",
            "                  0.7083333333333334,\n",
            "                  0.7391304347826086,\n",
            "                  1.0],\n",
            "  'recalls': [ 1.0,\n",
            "               1.0,\n",
            "               1.0,\n",
            "               1.0,\n",
            "               1.0,\n",
            "               1.0,\n",
            "               1.0,\n",
            "               1.0,\n",
            "               1.0,\n",
            "               1.0,\n",
            "               1.0,\n",
            "               1.0,\n",
            "               1.0,\n",
            "               1.0,\n",
            "               1.0,\n",
            "               1.0,\n",
            "               1.0,\n",
            "               1.0,\n",
            "               1.0,\n",
            "               1.0,\n",
            "               1.0,\n",
            "               1.0,\n",
            "               1.0,\n",
            "               1.0,\n",
            "               1.0,\n",
            "               1.0,\n",
            "               1.0,\n",
            "               1.0,\n",
            "               0.9473684210526315,\n",
            "               0.9473684210526315,\n",
            "               0.9473684210526315,\n",
            "               0.9473684210526315,\n",
            "               0.9473684210526315,\n",
            "               0.9473684210526315,\n",
            "               0.9473684210526315,\n",
            "               0.9473684210526315,\n",
            "               0.8947368421052632,\n",
            "               0.8947368421052632,\n",
            "               0.8947368421052632,\n",
            "               0.8947368421052632,\n",
            "               0.8947368421052632,\n",
            "               0.8947368421052632,\n",
            "               0.8947368421052632,\n",
            "               0.8947368421052632,\n",
            "               0.0]}\n",
            "INFO:ludwig.models.predictor:recall: 0.8947368264198303\n",
            "INFO:ludwig.models.predictor:roc_auc: 0.9059350490570068\n",
            "INFO:ludwig.models.predictor:roc_auc_macro: 0.9059350503919373\n",
            "INFO:ludwig.models.predictor:roc_auc_micro: 0.9059350503919373\n",
            "INFO:ludwig.models.predictor:specificity: 0.8297872543334961\n"
          ]
        }
      ],
      "source": [
        "# Evaluación del modelo\n",
        "evaluation_statistics, predictions, output_directory = model.evaluate(test, collect_overall_stats=True)"
      ]
    },
    {
      "cell_type": "code",
      "execution_count": 50,
      "metadata": {
        "id": "i_x3cqsPOpev"
      },
      "outputs": [],
      "source": [
        "from ludwig import visualize"
      ]
    },
    {
      "cell_type": "code",
      "execution_count": 51,
      "metadata": {
        "colab": {
          "base_uri": "https://localhost:8080/",
          "height": 487
        },
        "id": "BilcbVihHwOa",
        "outputId": "526531d3-9d0d-4f6b-fada-6c473ded0ad1"
      },
      "outputs": [
        {
          "output_type": "display_data",
          "data": {
            "text/plain": [
              "<Figure size 640x480 with 1 Axes>"
            ],
            "image/png": "[encoded data removed]"
          },
          "metadata": {}
        }
      ],
      "source": [
        "visualize.roc_curves(\n",
        "    [predictions['CATEGORIA_probabilities']],\n",
        "    test.to_df()['CATEGORIA_2Xl8CP'],\n",
        "    test.to_df(),\n",
        "    'CATEGORIA_2Xl8CP',\n",
        "    '1',  # 1 positiva\n",
        "    model_names=[\"Turismo_Finelora\"],\n",
        "    output_directory='visualization',\n",
        "    file_format='png'\n",
        ")"
      ]
    },
    {
      "cell_type": "code",
      "execution_count": 52,
      "metadata": {
        "id": "R9QFea8OHqPf"
      },
      "outputs": [],
      "source": [
        "from ludwig import visualize"
      ]
    },
    {
      "cell_type": "code",
      "execution_count": 53,
      "metadata": {
        "colab": {
          "base_uri": "https://localhost:8080/",
          "height": 487
        },
        "id": "kg3TZJwoHtPR",
        "outputId": "012b9120-1267-441b-e815-21251b7ceb56"
      },
      "outputs": [
        {
          "output_type": "display_data",
          "data": {
            "text/plain": [
              "<Figure size 640x480 with 1 Axes>"
            ],
            "image/png": "[encoded data removed]"
          },
          "metadata": {}
        }
      ],
      "source": [
        "visualize.roc_curves(\n",
        "    [predictions['CATEGORIA_probabilities']],\n",
        "    test.to_df()['CATEGORIA_2Xl8CP'],\n",
        "    test.to_df(),\n",
        "    'CATEGORIA_2Xl8CP',\n",
        "    '-1',  # 1 positiva\n",
        "    model_names=[\"Turismo_Finelora\"],\n",
        "    output_directory='visualization',\n",
        "    file_format='png'\n",
        ")"
      ]
    },
    {
      "cell_type": "code",
      "execution_count": 54,
      "metadata": {
        "colab": {
          "base_uri": "https://localhost:8080/",
          "height": 504
        },
        "id": "CoOuYyvtH02N",
        "outputId": "40f23fb4-422d-4c96-be2a-cd86fef1368f"
      },
      "outputs": [
        {
          "output_type": "stream",
          "name": "stderr",
          "text": [
            "WARNING:matplotlib.legend:No artists with labels found to put in legend.  Note that artists whose label start with an underscore are ignored when legend() is called with no argument.\n"
          ]
        },
        {
          "output_type": "display_data",
          "data": {
            "text/plain": [
              "<Figure size 640x480 with 1 Axes>"
            ],
            "image/png": "[encoded data removed]"
          },
          "metadata": {}
        }
      ],
      "source": [
        "visualize.binary_threshold_vs_metric(\n",
        "    [predictions['CATEGORIA_probabilities']],\n",
        "    test.to_df()['CATEGORIA_2Xl8CP'],\n",
        "    test.to_df(),\n",
        "    'CATEGORIA_2Xl8CP',\n",
        "  ['f1'],# solo hacerlo con F1 para la calibracion\n",
        "  -1\n",
        ")"
      ]
    },
    {
      "cell_type": "code",
      "execution_count": 55,
      "metadata": {
        "colab": {
          "base_uri": "https://localhost:8080/",
          "height": 504
        },
        "id": "TTu_s730H1dT",
        "outputId": "a1d266e6-9343-40b0-aace-fb3f328fa4be"
      },
      "outputs": [
        {
          "output_type": "stream",
          "name": "stderr",
          "text": [
            "WARNING:matplotlib.legend:No artists with labels found to put in legend.  Note that artists whose label start with an underscore are ignored when legend() is called with no argument.\n"
          ]
        },
        {
          "output_type": "display_data",
          "data": {
            "text/plain": [
              "<Figure size 640x480 with 1 Axes>"
            ],
            "image/png": "[encoded data removed]"
          },
          "metadata": {}
        }
      ],
      "source": [
        "visualize.binary_threshold_vs_metric(\n",
        "    [predictions['CATEGORIA_probabilities']],\n",
        "    test.to_df()['CATEGORIA_2Xl8CP'],\n",
        "    test.to_df(),\n",
        "    'CATEGORIA_2Xl8CP',\n",
        "  ['f1'],# solo hacerlo con F1 para la calibracion\n",
        "  1\n",
        ")"
      ]
    },
    {
      "cell_type": "code",
      "execution_count": 59,
      "metadata": {
        "colab": {
          "base_uri": "https://localhost:8080/"
        },
        "id": "Ki-bIFnBH4cu",
        "outputId": "f232a797-82eb-4f6c-8982-a36ffc751e8d"
      },
      "outputs": [
        {
          "output_type": "stream",
          "name": "stderr",
          "text": [
            "INFO:ludwig.utils.tokenizers:Loaded TorchText implementation of distilbert/distilbert-base-multilingual-cased tokenizer\n"
          ]
        },
        {
          "output_type": "stream",
          "name": "stdout",
          "text": [
            "Prediction: 100%|██████████| 1/1 [00:00<00:00, 11.16it/s]"
          ]
        },
        {
          "output_type": "stream",
          "name": "stderr",
          "text": [
            "INFO:ludwig.api:Finished predicting in: 1.72s.\n"
          ]
        },
        {
          "output_type": "stream",
          "name": "stdout",
          "text": [
            "\n",
            "                       CATEGORIA_probabilities CATEGORIA_predictions  \\\n",
            "0  [0.9995595719665289, 0.0004404280334711075]              POSITIVA   \n",
            "1  [0.9999995295574422, 4.704425577983784e-07]              POSITIVA   \n",
            "2  [0.9999224627026706, 7.753729732939973e-05]              POSITIVA   \n",
            "3                                   [0.0, 1.0]              NEGATIVA   \n",
            "4                                   [0.0, 1.0]              NEGATIVA   \n",
            "5                                   [0.0, 1.0]              NEGATIVA   \n",
            "6                                   [0.0, 1.0]              NEGATIVA   \n",
            "7                                   [0.0, 1.0]              NEGATIVA   \n",
            "8  [0.0006096363067626953, 0.9993903636932373]              NEGATIVA   \n",
            "\n",
            "   CATEGORIA_probabilities_POSITIVA  CATEGORIA_probabilities_NEGATIVA  \\\n",
            "0                          0.999560                      4.404280e-04   \n",
            "1                          1.000000                      4.704426e-07   \n",
            "2                          0.999922                      7.753730e-05   \n",
            "3                          0.000000                      1.000000e+00   \n",
            "4                          0.000000                      1.000000e+00   \n",
            "5                          0.000000                      1.000000e+00   \n",
            "6                          0.000000                      1.000000e+00   \n",
            "7                          0.000000                      1.000000e+00   \n",
            "8                          0.000610                      9.993904e-01   \n",
            "\n",
            "   CATEGORIA_probability  \n",
            "0               0.999560  \n",
            "1               1.000000  \n",
            "2               0.999922  \n",
            "3               1.000000  \n",
            "4               1.000000  \n",
            "5               1.000000  \n",
            "6               1.000000  \n",
            "7               1.000000  \n",
            "8               0.999390  \n"
          ]
        }
      ],
      "source": [
        "import pandas as pd\n",
        "\n",
        "# Crear un DataFrame con las descripciones de noticias de turismo\n",
        "text_to_predict = pd.DataFrame({\n",
        "    \"DESCRIPCION \": [\n",
        "        \"Cartagena celebra un incremento del 20% en turismo gracias a sus festivales de música y arte, impulsando la economía local.\",\n",
        "        \"El Gobierno nacional, a través del Ministerio de Comercio, Industria y Turismo, lanzó Empretur, un programa para entregar estímulos e incentivos al sector turístico del país\",\n",
        "        \"Colombia es nombrada el mejor destino turístico de Sudamérica por su rica cultura y hospitalidad.\",\n",
        "        \"El festival de la flores en Medellín se supera en asistencia, con un aumento del 30% en turistas internacionales.\",\n",
        "        \"Escándalo por malas prácticas en hoteles de lujo en Bogotá daña gravemente la imagen turística de la ciudad.\",\n",
        "        \"Protestas en varias ciudades importantes afectan negativamente la temporada turística, causando una caída en las reservas.\",\n",
        "        \"Informes de inseguridad en Cartagena disuaden a los turistas de visitar, afectando la industria hotelera local.\",\n",
        "        \"Desastres naturales en la costa caribeña golpean la industria del turismo, con hoteles y playas cerradas durante meses.\",\n",
        "        \"Controversia por la construcción de un nuevo aeropuerto en Barranquilla amenaza zonas ecológicas y despierta críticas de grupos ambientalistas.\"\n",
        "    ]\n",
        "})\n",
        "\n",
        "# Utilizar el DataFrame para hacer predicciones\n",
        "predictions, output_directory = model.predict(text_to_predict)\n",
        "\n",
        "# Ver las predicciones\n",
        "print(predictions)"
      ]
    },
    {
      "cell_type": "code",
      "execution_count": null,
      "metadata": {
        "id": "oSomAMW1UQq_"
      },
      "outputs": [],
      "source": [
        "model.save('/content/drive/MyDrive/Tesis/Collabs_finales_Experimentos_nuevo/model')"
      ]
    },
    {
      "cell_type": "code",
      "execution_count": null,
      "metadata": {
        "colab": {
          "base_uri": "https://localhost:8080/"
        },
        "id": "dbzf4QxCT5Jt",
        "outputId": "973b903e-3e3c-4b5c-b8c2-286c706198b3"
      },
      "outputs": [
        {
          "output_type": "stream",
          "name": "stderr",
          "text": [
            "INFO:ludwig.utils.tokenizers:Loaded TorchText implementation of distilbert/distilbert-base-multilingual-cased tokenizer\n",
            "/usr/local/lib/python3.10/dist-packages/transformers/modeling_utils.py:4481: FutureWarning: `_is_quantized_training_enabled` is going to be deprecated in transformers 4.39.0. Please use `model.hf_quantizer.is_trainable` instead\n",
            "  warnings.warn(\n",
            "/usr/local/lib/python3.10/dist-packages/transformers/models/distilbert/modeling_distilbert.py:231: TracerWarning: torch.tensor results are registered as constants in the trace. You can safely ignore this warning if you use this function to create tensors out of constant variables that would be the same every time you call this function. In any other case, this might cause the trace to be incorrect.\n",
            "  mask, torch.tensor(torch.finfo(scores.dtype).min)\n",
            "INFO:ludwig.models.inference:Saved torchscript module for preprocessor to inference_preprocessor.pt.\n",
            "INFO:ludwig.models.inference:Saved torchscript module for predictor to inference_predictor-cuda.pt.\n",
            "INFO:ludwig.models.inference:Saved torchscript module for postprocessor to inference_postprocessor.pt.\n"
          ]
        }
      ],
      "source": [
        "model.save_torchscript(\n",
        "  '/content/drive/MyDrive/Tesis/Collabs_finales_Experimentos_nuevo/model',device=\"cuda\")"
      ]
    },
    {
      "cell_type": "code",
      "execution_count": 4,
      "metadata": {
        "colab": {
          "base_uri": "https://localhost:8080/"
        },
        "id": "LQ5rtvCspHvF",
        "outputId": "ca6e5495-89b5-4d29-db2b-d025e3d71356"
      },
      "outputs": [
        {
          "output_type": "stream",
          "name": "stdout",
          "text": [
            "Loaded torchscript module for preprocessor from inference_preprocessor.pt.\n",
            "Loaded torchscript module for predictor from inference_predictor-cuda.pt.\n",
            "Loaded torchscript module for postprocessor from inference_postprocessor.pt.\n"
          ]
        }
      ],
      "source": [
        "from ludwig.models.inference import InferenceModule\n",
        "inference_module=InferenceModule.from_directory('/content/drive/MyDrive/Tesis/Collabs_finales_Experimentos_nuevo/model/')"
      ]
    },
    {
      "cell_type": "code",
      "execution_count": 60,
      "metadata": {
        "id": "dFUer5V0ug7t"
      },
      "outputs": [],
      "source": [
        "raw={\"DESCRIPCION \":[\n",
        "    \"El Gobierno nacional, a través del Ministerio de Comercio, Industria y Turismo, lanzó Empretur, un programa para entregar estímulos e incentivos al sector turístico del país\",\n",
        "\n",
        "    ]\n",
        "}"
      ]
    },
    {
      "cell_type": "code",
      "execution_count": 6,
      "metadata": {
        "id": "5SGE-rzkv8h9"
      },
      "outputs": [],
      "source": [
        "preprocessed_data=inference_module.preprocessor_forward(raw)"
      ]
    },
    {
      "cell_type": "code",
      "execution_count": 7,
      "metadata": {
        "id": "hTpU28bgwQv-"
      },
      "outputs": [],
      "source": [
        "predictions=inference_module.predictor_forward(preprocessed_data)\n"
      ]
    },
    {
      "cell_type": "code",
      "execution_count": 8,
      "metadata": {
        "id": "nHvr_5lawvvU"
      },
      "outputs": [],
      "source": [
        "postprocessed_data=inference_module.postprocessor_forward(predictions)"
      ]
    },
    {
      "cell_type": "code",
      "execution_count": 9,
      "metadata": {
        "colab": {
          "base_uri": "https://localhost:8080/"
        },
        "id": "V1hfzq8KFmQH",
        "outputId": "5c23b030-8354-4573-811c-d1ec379506d8"
      },
      "outputs": [
        {
          "output_type": "execute_result",
          "data": {
            "text/plain": [
              "{'CATEGORIA': {'predictions': ['NEGATIVA'],\n",
              "  'probabilities': tensor([[0., 1.]], device='cuda:0')}}"
            ]
          },
          "metadata": {},
          "execution_count": 9
        }
      ],
      "source": [
        "postprocessed_data"
      ]
    },
    {
      "cell_type": "code",
      "execution_count": 10,
      "metadata": {
        "colab": {
          "base_uri": "https://localhost:8080/"
        },
        "id": "Vo_KckOMVSKe",
        "outputId": "91042026-0a3c-4f87-a0b4-347584535287"
      },
      "outputs": [
        {
          "output_type": "stream",
          "name": "stdout",
          "text": [
            "Collecting gradio\n",
            "  Downloading gradio-4.32.2-py3-none-any.whl (12.3 MB)\n",
            "\u001b[2K     \u001b[90m━━━━━━━━━━━━━━━━━━━━━━━━━━━━━━━━━━━━━━━━\u001b[0m \u001b[32m12.3/12.3 MB\u001b[0m \u001b[31m34.8 MB/s\u001b[0m eta \u001b[36m0:00:00\u001b[0m\n",
            "\u001b[?25hCollecting aiofiles<24.0,>=22.0 (from gradio)\n",
            "  Downloading aiofiles-23.2.1-py3-none-any.whl (15 kB)\n",
            "Requirement already satisfied: altair<6.0,>=4.2.0 in /usr/local/lib/python3.10/dist-packages (from gradio) (4.2.2)\n",
            "Collecting fastapi (from gradio)\n",
            "  Downloading fastapi-0.111.0-py3-none-any.whl (91 kB)\n",
            "\u001b[2K     \u001b[90m━━━━━━━━━━━━━━━━━━━━━━━━━━━━━━━━━━━━━━━━\u001b[0m \u001b[32m92.0/92.0 kB\u001b[0m \u001b[31m14.7 MB/s\u001b[0m eta \u001b[36m0:00:00\u001b[0m\n",
            "\u001b[?25hCollecting ffmpy (from gradio)\n",
            "  Downloading ffmpy-0.3.2.tar.gz (5.5 kB)\n",
            "  Preparing metadata (setup.py) ... \u001b[?25l\u001b[?25hdone\n",
            "Collecting gradio-client==0.17.0 (from gradio)\n",
            "  Downloading gradio_client-0.17.0-py3-none-any.whl (316 kB)\n",
            "\u001b[2K     \u001b[90m━━━━━━━━━━━━━━━━━━━━━━━━━━━━━━━━━━━━━━━━\u001b[0m \u001b[32m316.3/316.3 kB\u001b[0m \u001b[31m41.7 MB/s\u001b[0m eta \u001b[36m0:00:00\u001b[0m\n",
            "\u001b[?25hCollecting httpx>=0.24.1 (from gradio)\n",
            "  Downloading httpx-0.27.0-py3-none-any.whl (75 kB)\n",
            "\u001b[2K     \u001b[90m━━━━━━━━━━━━━━━━━━━━━━━━━━━━━━━━━━━━━━━━\u001b[0m \u001b[32m75.6/75.6 kB\u001b[0m \u001b[31m12.7 MB/s\u001b[0m eta \u001b[36m0:00:00\u001b[0m\n",
            "\u001b[?25hRequirement already satisfied: huggingface-hub>=0.19.3 in /usr/local/lib/python3.10/dist-packages (from gradio) (0.23.1)\n",
            "Requirement already satisfied: importlib-resources<7.0,>=1.3 in /usr/local/lib/python3.10/dist-packages (from gradio) (6.4.0)\n",
            "Requirement already satisfied: jinja2<4.0 in /usr/local/lib/python3.10/dist-packages (from gradio) (3.1.4)\n",
            "Requirement already satisfied: markupsafe~=2.0 in /usr/local/lib/python3.10/dist-packages (from gradio) (2.1.5)\n",
            "Requirement already satisfied: matplotlib~=3.0 in /usr/local/lib/python3.10/dist-packages (from gradio) (3.7.1)\n",
            "Requirement already satisfied: numpy~=1.0 in /usr/local/lib/python3.10/dist-packages (from gradio) (1.25.2)\n",
            "Collecting orjson~=3.0 (from gradio)\n",
            "  Downloading orjson-3.10.3-cp310-cp310-manylinux_2_17_x86_64.manylinux2014_x86_64.whl (142 kB)\n",
            "\u001b[2K     \u001b[90m━━━━━━━━━━━━━━━━━━━━━━━━━━━━━━━━━━━━━━━━\u001b[0m \u001b[32m142.5/142.5 kB\u001b[0m \u001b[31m22.5 MB/s\u001b[0m eta \u001b[36m0:00:00\u001b[0m\n",
            "\u001b[?25hRequirement already satisfied: packaging in /usr/local/lib/python3.10/dist-packages (from gradio) (24.0)\n",
            "Requirement already satisfied: pandas<3.0,>=1.0 in /usr/local/lib/python3.10/dist-packages (from gradio) (2.0.3)\n",
            "Requirement already satisfied: pillow<11.0,>=8.0 in /usr/local/lib/python3.10/dist-packages (from gradio) (9.4.0)\n",
            "Collecting pydantic>=2.0 (from gradio)\n",
            "  Downloading pydantic-2.7.2-py3-none-any.whl (409 kB)\n",
            "\u001b[2K     \u001b[90m━━━━━━━━━━━━━━━━━━━━━━━━━━━━━━━━━━━━━━━━\u001b[0m \u001b[32m409.5/409.5 kB\u001b[0m \u001b[31m48.1 MB/s\u001b[0m eta \u001b[36m0:00:00\u001b[0m\n",
            "\u001b[?25hCollecting pydub (from gradio)\n",
            "  Downloading pydub-0.25.1-py2.py3-none-any.whl (32 kB)\n",
            "Collecting python-multipart>=0.0.9 (from gradio)\n",
            "  Downloading python_multipart-0.0.9-py3-none-any.whl (22 kB)\n",
            "Requirement already satisfied: pyyaml<7.0,>=5.0 in /usr/local/lib/python3.10/dist-packages (from gradio) (6.0)\n",
            "Collecting ruff>=0.2.2 (from gradio)\n",
            "  Downloading ruff-0.4.7-py3-none-manylinux_2_17_x86_64.manylinux2014_x86_64.whl (8.8 MB)\n",
            "\u001b[2K     \u001b[90m━━━━━━━━━━━━━━━━━━━━━━━━━━━━━━━━━━━━━━━━\u001b[0m \u001b[32m8.8/8.8 MB\u001b[0m \u001b[31m71.0 MB/s\u001b[0m eta \u001b[36m0:00:00\u001b[0m\n",
            "\u001b[?25hCollecting semantic-version~=2.0 (from gradio)\n",
            "  Downloading semantic_version-2.10.0-py2.py3-none-any.whl (15 kB)\n",
            "Collecting tomlkit==0.12.0 (from gradio)\n",
            "  Downloading tomlkit-0.12.0-py3-none-any.whl (37 kB)\n",
            "Collecting typer<1.0,>=0.12 (from gradio)\n",
            "  Downloading typer-0.12.3-py3-none-any.whl (47 kB)\n",
            "\u001b[2K     \u001b[90m━━━━━━━━━━━━━━━━━━━━━━━━━━━━━━━━━━━━━━━━\u001b[0m \u001b[32m47.2/47.2 kB\u001b[0m \u001b[31m7.9 MB/s\u001b[0m eta \u001b[36m0:00:00\u001b[0m\n",
            "\u001b[?25hRequirement already satisfied: typing-extensions~=4.0 in /usr/local/lib/python3.10/dist-packages (from gradio) (4.11.0)\n",
            "Collecting urllib3~=2.0 (from gradio)\n",
            "  Downloading urllib3-2.2.1-py3-none-any.whl (121 kB)\n",
            "\u001b[2K     \u001b[90m━━━━━━━━━━━━━━━━━━━━━━━━━━━━━━━━━━━━━━━━\u001b[0m \u001b[32m121.1/121.1 kB\u001b[0m \u001b[31m19.9 MB/s\u001b[0m eta \u001b[36m0:00:00\u001b[0m\n",
            "\u001b[?25hCollecting uvicorn>=0.14.0 (from gradio)\n",
            "  Downloading uvicorn-0.30.0-py3-none-any.whl (62 kB)\n",
            "\u001b[2K     \u001b[90m━━━━━━━━━━━━━━━━━━━━━━━━━━━━━━━━━━━━━━━━\u001b[0m \u001b[32m62.4/62.4 kB\u001b[0m \u001b[31m11.2 MB/s\u001b[0m eta \u001b[36m0:00:00\u001b[0m\n",
            "\u001b[?25hRequirement already satisfied: fsspec in /usr/local/lib/python3.10/dist-packages (from gradio-client==0.17.0->gradio) (2023.6.0)\n",
            "Collecting websockets<12.0,>=10.0 (from gradio-client==0.17.0->gradio)\n",
            "  Downloading websockets-11.0.3-cp310-cp310-manylinux_2_5_x86_64.manylinux1_x86_64.manylinux_2_17_x86_64.manylinux2014_x86_64.whl (129 kB)\n",
            "\u001b[2K     \u001b[90m━━━━━━━━━━━━━━━━━━━━━━━━━━━━━━━━━━━━━━━━\u001b[0m \u001b[32m129.9/129.9 kB\u001b[0m \u001b[31m20.7 MB/s\u001b[0m eta \u001b[36m0:00:00\u001b[0m\n",
            "\u001b[?25hRequirement already satisfied: entrypoints in /usr/local/lib/python3.10/dist-packages (from altair<6.0,>=4.2.0->gradio) (0.4)\n",
            "Requirement already satisfied: jsonschema>=3.0 in /usr/local/lib/python3.10/dist-packages (from altair<6.0,>=4.2.0->gradio) (4.6.2)\n",
            "Requirement already satisfied: toolz in /usr/local/lib/python3.10/dist-packages (from altair<6.0,>=4.2.0->gradio) (0.12.1)\n",
            "Requirement already satisfied: anyio in /usr/local/lib/python3.10/dist-packages (from httpx>=0.24.1->gradio) (3.7.1)\n",
            "Requirement already satisfied: certifi in /usr/local/lib/python3.10/dist-packages (from httpx>=0.24.1->gradio) (2024.2.2)\n",
            "Collecting httpcore==1.* (from httpx>=0.24.1->gradio)\n",
            "  Downloading httpcore-1.0.5-py3-none-any.whl (77 kB)\n",
            "\u001b[2K     \u001b[90m━━━━━━━━━━━━━━━━━━━━━━━━━━━━━━━━━━━━━━━━\u001b[0m \u001b[32m77.9/77.9 kB\u001b[0m \u001b[31m14.0 MB/s\u001b[0m eta \u001b[36m0:00:00\u001b[0m\n",
            "\u001b[?25hRequirement already satisfied: idna in /usr/local/lib/python3.10/dist-packages (from httpx>=0.24.1->gradio) (3.7)\n",
            "Requirement already satisfied: sniffio in /usr/local/lib/python3.10/dist-packages (from httpx>=0.24.1->gradio) (1.3.1)\n",
            "Collecting h11<0.15,>=0.13 (from httpcore==1.*->httpx>=0.24.1->gradio)\n",
            "  Downloading h11-0.14.0-py3-none-any.whl (58 kB)\n",
            "\u001b[2K     \u001b[90m━━━━━━━━━━━━━━━━━━━━━━━━━━━━━━━━━━━━━━━━\u001b[0m \u001b[32m58.3/58.3 kB\u001b[0m \u001b[31m10.8 MB/s\u001b[0m eta \u001b[36m0:00:00\u001b[0m\n",
            "\u001b[?25hRequirement already satisfied: filelock in /usr/local/lib/python3.10/dist-packages (from huggingface-hub>=0.19.3->gradio) (3.14.0)\n",
            "Requirement already satisfied: requests in /usr/local/lib/python3.10/dist-packages (from huggingface-hub>=0.19.3->gradio) (2.31.0)\n",
            "Requirement already satisfied: tqdm>=4.42.1 in /usr/local/lib/python3.10/dist-packages (from huggingface-hub>=0.19.3->gradio) (4.66.4)\n",
            "Requirement already satisfied: contourpy>=1.0.1 in /usr/local/lib/python3.10/dist-packages (from matplotlib~=3.0->gradio) (1.2.1)\n",
            "Requirement already satisfied: cycler>=0.10 in /usr/local/lib/python3.10/dist-packages (from matplotlib~=3.0->gradio) (0.12.1)\n",
            "Requirement already satisfied: fonttools>=4.22.0 in /usr/local/lib/python3.10/dist-packages (from matplotlib~=3.0->gradio) (4.51.0)\n",
            "Requirement already satisfied: kiwisolver>=1.0.1 in /usr/local/lib/python3.10/dist-packages (from matplotlib~=3.0->gradio) (1.4.5)\n",
            "Requirement already satisfied: pyparsing>=2.3.1 in /usr/local/lib/python3.10/dist-packages (from matplotlib~=3.0->gradio) (3.1.2)\n",
            "Requirement already satisfied: python-dateutil>=2.7 in /usr/local/lib/python3.10/dist-packages (from matplotlib~=3.0->gradio) (2.8.2)\n",
            "Requirement already satisfied: pytz>=2020.1 in /usr/local/lib/python3.10/dist-packages (from pandas<3.0,>=1.0->gradio) (2023.4)\n",
            "Requirement already satisfied: tzdata>=2022.1 in /usr/local/lib/python3.10/dist-packages (from pandas<3.0,>=1.0->gradio) (2024.1)\n",
            "Requirement already satisfied: annotated-types>=0.4.0 in /usr/local/lib/python3.10/dist-packages (from pydantic>=2.0->gradio) (0.7.0)\n",
            "Collecting pydantic-core==2.18.3 (from pydantic>=2.0->gradio)\n",
            "  Downloading pydantic_core-2.18.3-cp310-cp310-manylinux_2_17_x86_64.manylinux2014_x86_64.whl (2.0 MB)\n",
            "\u001b[2K     \u001b[90m━━━━━━━━━━━━━━━━━━━━━━━━━━━━━━━━━━━━━━━━\u001b[0m \u001b[32m2.0/2.0 MB\u001b[0m \u001b[31m14.1 MB/s\u001b[0m eta \u001b[36m0:00:00\u001b[0m\n",
            "\u001b[?25hRequirement already satisfied: click>=8.0.0 in /usr/local/lib/python3.10/dist-packages (from typer<1.0,>=0.12->gradio) (8.1.7)\n",
            "Collecting shellingham>=1.3.0 (from typer<1.0,>=0.12->gradio)\n",
            "  Downloading shellingham-1.5.4-py2.py3-none-any.whl (9.8 kB)\n",
            "Requirement already satisfied: rich>=10.11.0 in /usr/local/lib/python3.10/dist-packages (from typer<1.0,>=0.12->gradio) (12.4.4)\n",
            "Collecting starlette<0.38.0,>=0.37.2 (from fastapi->gradio)\n",
            "  Downloading starlette-0.37.2-py3-none-any.whl (71 kB)\n",
            "\u001b[2K     \u001b[90m━━━━━━━━━━━━━━━━━━━━━━━━━━━━━━━━━━━━━━━━\u001b[0m \u001b[32m71.9/71.9 kB\u001b[0m \u001b[31m10.4 MB/s\u001b[0m eta \u001b[36m0:00:00\u001b[0m\n",
            "\u001b[?25hCollecting fastapi-cli>=0.0.2 (from fastapi->gradio)\n",
            "  Downloading fastapi_cli-0.0.4-py3-none-any.whl (9.5 kB)\n",
            "Collecting ujson!=4.0.2,!=4.1.0,!=4.2.0,!=4.3.0,!=5.0.0,!=5.1.0,>=4.0.1 (from fastapi->gradio)\n",
            "  Downloading ujson-5.10.0-cp310-cp310-manylinux_2_17_x86_64.manylinux2014_x86_64.whl (53 kB)\n",
            "\u001b[2K     \u001b[90m━━━━━━━━━━━━━━━━━━━━━━━━━━━━━━━━━━━━━━━━\u001b[0m \u001b[32m53.6/53.6 kB\u001b[0m \u001b[31m8.4 MB/s\u001b[0m eta \u001b[36m0:00:00\u001b[0m\n",
            "\u001b[?25hCollecting email_validator>=2.0.0 (from fastapi->gradio)\n",
            "  Downloading email_validator-2.1.1-py3-none-any.whl (30 kB)\n",
            "Collecting dnspython>=2.0.0 (from email_validator>=2.0.0->fastapi->gradio)\n",
            "  Downloading dnspython-2.6.1-py3-none-any.whl (307 kB)\n",
            "\u001b[2K     \u001b[90m━━━━━━━━━━━━━━━━━━━━━━━━━━━━━━━━━━━━━━━━\u001b[0m \u001b[32m307.7/307.7 kB\u001b[0m \u001b[31m26.9 MB/s\u001b[0m eta \u001b[36m0:00:00\u001b[0m\n",
            "\u001b[?25hRequirement already satisfied: attrs>=17.4.0 in /usr/local/lib/python3.10/dist-packages (from jsonschema>=3.0->altair<6.0,>=4.2.0->gradio) (23.2.0)\n",
            "Requirement already satisfied: pyrsistent!=0.17.0,!=0.17.1,!=0.17.2,>=0.14.0 in /usr/local/lib/python3.10/dist-packages (from jsonschema>=3.0->altair<6.0,>=4.2.0->gradio) (0.20.0)\n",
            "Requirement already satisfied: six>=1.5 in /usr/local/lib/python3.10/dist-packages (from python-dateutil>=2.7->matplotlib~=3.0->gradio) (1.16.0)\n",
            "Requirement already satisfied: commonmark<0.10.0,>=0.9.0 in /usr/local/lib/python3.10/dist-packages (from rich>=10.11.0->typer<1.0,>=0.12->gradio) (0.9.1)\n",
            "Requirement already satisfied: pygments<3.0.0,>=2.6.0 in /usr/local/lib/python3.10/dist-packages (from rich>=10.11.0->typer<1.0,>=0.12->gradio) (2.16.1)\n",
            "Requirement already satisfied: exceptiongroup in /usr/local/lib/python3.10/dist-packages (from anyio->httpx>=0.24.1->gradio) (1.2.1)\n",
            "Collecting httptools>=0.5.0 (from uvicorn>=0.14.0->gradio)\n",
            "  Downloading httptools-0.6.1-cp310-cp310-manylinux_2_5_x86_64.manylinux1_x86_64.manylinux_2_17_x86_64.manylinux2014_x86_64.whl (341 kB)\n",
            "\u001b[2K     \u001b[90m━━━━━━━━━━━━━━━━━━━━━━━━━━━━━━━━━━━━━━━━\u001b[0m \u001b[32m341.4/341.4 kB\u001b[0m \u001b[31m37.3 MB/s\u001b[0m eta \u001b[36m0:00:00\u001b[0m\n",
            "\u001b[?25hCollecting python-dotenv>=0.13 (from uvicorn>=0.14.0->gradio)\n",
            "  Downloading python_dotenv-1.0.1-py3-none-any.whl (19 kB)\n",
            "Collecting uvloop!=0.15.0,!=0.15.1,>=0.14.0 (from uvicorn>=0.14.0->gradio)\n",
            "  Downloading uvloop-0.19.0-cp310-cp310-manylinux_2_17_x86_64.manylinux2014_x86_64.whl (3.4 MB)\n",
            "\u001b[2K     \u001b[90m━━━━━━━━━━━━━━━━━━━━━━━━━━━━━━━━━━━━━━━━\u001b[0m \u001b[32m3.4/3.4 MB\u001b[0m \u001b[31m70.9 MB/s\u001b[0m eta \u001b[36m0:00:00\u001b[0m\n",
            "\u001b[?25hCollecting watchfiles>=0.13 (from uvicorn>=0.14.0->gradio)\n",
            "  Downloading watchfiles-0.22.0-cp310-cp310-manylinux_2_17_x86_64.manylinux2014_x86_64.whl (1.2 MB)\n",
            "\u001b[2K     \u001b[90m━━━━━━━━━━━━━━━━━━━━━━━━━━━━━━━━━━━━━━━━\u001b[0m \u001b[32m1.2/1.2 MB\u001b[0m \u001b[31m63.1 MB/s\u001b[0m eta \u001b[36m0:00:00\u001b[0m\n",
            "\u001b[?25hRequirement already satisfied: charset-normalizer<4,>=2 in /usr/local/lib/python3.10/dist-packages (from requests->huggingface-hub>=0.19.3->gradio) (3.3.2)\n",
            "Building wheels for collected packages: ffmpy\n",
            "  Building wheel for ffmpy (setup.py) ... \u001b[?25l\u001b[?25hdone\n",
            "  Created wheel for ffmpy: filename=ffmpy-0.3.2-py3-none-any.whl size=5584 sha256=484b9274c6016d1b0c068470083c5fd01e81d21571e2d4f8fc906f235d5c8206\n",
            "  Stored in directory: /root/.cache/pip/wheels/bd/65/9a/671fc6dcde07d4418df0c592f8df512b26d7a0029c2a23dd81\n",
            "Successfully built ffmpy\n",
            "Installing collected packages: pydub, ffmpy, websockets, uvloop, urllib3, ujson, tomlkit, shellingham, semantic-version, ruff, python-multipart, python-dotenv, pydantic-core, orjson, httptools, h11, dnspython, aiofiles, watchfiles, uvicorn, typer, starlette, pydantic, httpcore, email_validator, httpx, fastapi-cli, gradio-client, fastapi, gradio\n",
            "  Attempting uninstall: urllib3\n",
            "    Found existing installation: urllib3 1.26.18\n",
            "    Uninstalling urllib3-1.26.18:\n",
            "      Successfully uninstalled urllib3-1.26.18\n",
            "  Attempting uninstall: pydantic-core\n",
            "    Found existing installation: pydantic_core 2.18.2\n",
            "    Uninstalling pydantic_core-2.18.2:\n",
            "      Successfully uninstalled pydantic_core-2.18.2\n",
            "  Attempting uninstall: typer\n",
            "    Found existing installation: typer 0.9.4\n",
            "    Uninstalling typer-0.9.4:\n",
            "      Successfully uninstalled typer-0.9.4\n",
            "  Attempting uninstall: pydantic\n",
            "    Found existing installation: pydantic 1.10.15\n",
            "    Uninstalling pydantic-1.10.15:\n",
            "      Successfully uninstalled pydantic-1.10.15\n",
            "\u001b[31mERROR: pip's dependency resolver does not currently take into account all the packages that are installed. This behaviour is the source of the following dependency conflicts.\n",
            "ludwig 0.10.3 requires pydantic<2.0, but you have pydantic 2.7.2 which is incompatible.\n",
            "ludwig 0.10.3 requires urllib3<2, but you have urllib3 2.2.1 which is incompatible.\n",
            "spacy 3.7.4 requires typer<0.10.0,>=0.3.0, but you have typer 0.12.3 which is incompatible.\n",
            "weasel 0.3.4 requires typer<0.10.0,>=0.3.0, but you have typer 0.12.3 which is incompatible.\u001b[0m\u001b[31m\n",
            "\u001b[0mSuccessfully installed aiofiles-23.2.1 dnspython-2.6.1 email_validator-2.1.1 fastapi-0.111.0 fastapi-cli-0.0.4 ffmpy-0.3.2 gradio-4.32.2 gradio-client-0.17.0 h11-0.14.0 httpcore-1.0.5 httptools-0.6.1 httpx-0.27.0 orjson-3.10.3 pydantic-2.7.2 pydantic-core-2.18.3 pydub-0.25.1 python-dotenv-1.0.1 python-multipart-0.0.9 ruff-0.4.7 semantic-version-2.10.0 shellingham-1.5.4 starlette-0.37.2 tomlkit-0.12.0 typer-0.12.3 ujson-5.10.0 urllib3-2.2.1 uvicorn-0.30.0 uvloop-0.19.0 watchfiles-0.22.0 websockets-11.0.3\n"
          ]
        }
      ],
      "source": [
        "!pip install gradio"
      ]
    },
    {
      "cell_type": "code",
      "execution_count": 15,
      "metadata": {
        "colab": {
          "base_uri": "https://localhost:8080/",
          "height": 36
        },
        "id": "NrdoQmWaWzgO",
        "outputId": "a3cea9c7-91a5-4b93-fa08-f6418596286e"
      },
      "outputs": [
        {
          "output_type": "execute_result",
          "data": {
            "text/plain": [
              "'la noticia es: NEGATIVA'"
            ],
            "application/vnd.google.colaboratory.intrinsic+json": {
              "type": "string"
            }
          },
          "metadata": {},
          "execution_count": 15
        }
      ],
      "source": [
        "'la noticia es: '+ postprocessed_data['CATEGORIA']['predictions'][0]"
      ]
    },
    {
      "cell_type": "code",
      "execution_count": 11,
      "metadata": {
        "id": "WkYv-zuYW7mr"
      },
      "outputs": [],
      "source": [
        "import gradio as gr"
      ]
    },
    {
      "cell_type": "code",
      "source": [
        "\n",
        "#import gradio as gr\n",
        "\n",
        "\n",
        "\n",
        "#demo = gr.Interface(fn=greet, inputs=\"textbox\", outputs=[gr.Textbox(label=\"Clasificación\")], css=\"\"\"\n",
        "  # body {background-color : red}\n",
        "   # \"\"\",)\n",
        "\n",
        "\n",
        "\n",
        "#if __name__ == \"__main__\":\n",
        "    #demo.launch()"
      ],
      "metadata": {
        "id": "0POgbGCaYRjd"
      },
      "execution_count": null,
      "outputs": []
    },
    {
      "cell_type": "code",
      "source": [
        "def greet(Noticia):\n",
        "  raw={\"DESCRIPCION \":[Noticia]}\n",
        "  preprocessed_data=inference_module.preprocessor_forward(raw)\n",
        "  predictions=inference_module.predictor_forward(preprocessed_data)\n",
        "  postprocessed_data=inference_module.postprocessor_forward(predictions)\n",
        "  return 'la noticia es: '+ postprocessed_data['CATEGORIA']['predictions'][0]\n",
        "\n",
        "\n",
        "\n"
      ],
      "metadata": {
        "id": "0OJDrfdsFkNf"
      },
      "execution_count": 33,
      "outputs": []
    },
    {
      "cell_type": "code",
      "execution_count": 34,
      "metadata": {
        "colab": {
          "base_uri": "https://localhost:8080/",
          "height": 626
        },
        "id": "wdFkc865GVHT",
        "outputId": "abae45f1-5e22-43bd-acd7-8d8f3a716830"
      },
      "outputs": [
        {
          "output_type": "stream",
          "name": "stdout",
          "text": [
            "Setting queue=True in a Colab notebook requires sharing enabled. Setting `share=True` (you can turn this off by setting `share=False` in `launch()` explicitly).\n",
            "\n",
            "Colab notebook detected. To show errors in colab notebook, set debug=True in launch()\n",
            "Running on public URL: https://585e8a8d1feb0c83f4.gradio.live\n",
            "\n",
            "This share link expires in 72 hours. For free permanent hosting and GPU upgrades, run `gradio deploy` from Terminal to deploy to Spaces (https://huggingface.co/spaces)\n"
          ]
        },
        {
          "output_type": "display_data",
          "data": {
            "text/plain": [
              "<IPython.core.display.HTML object>"
            ],
            "text/html": [
              "<div><iframe src=\"https://585e8a8d1feb0c83f4.gradio.live\" width=\"100%\" height=\"500\" allow=\"autoplay; camera; microphone; clipboard-read; clipboard-write;\" frameborder=\"0\" allowfullscreen></iframe></div>"
            ]
          },
          "metadata": {}
        }
      ],
      "source": [
        "from __future__ import annotations\n",
        "from typing import Iterable\n",
        "import gradio as gr\n",
        "from gradio.themes.base import Base\n",
        "from gradio.themes.utils import colors, fonts, sizes\n",
        "import time\n",
        "\n",
        "\n",
        "class Seafoam(Base):\n",
        "    def __init__(\n",
        "        self,\n",
        "        *,\n",
        "        primary_hue: colors.Color | str = colors.blue,\n",
        "        secondary_hue: colors.Color | str = colors.red,\n",
        "        neutral_hue: colors.Color | str = colors.gray,\n",
        "        spacing_size: sizes.Size | str = sizes.spacing_md,\n",
        "        radius_size: sizes.Size | str = sizes.radius_md,\n",
        "        text_size: sizes.Size | str = sizes.text_lg,\n",
        "        font: fonts.Font\n",
        "        | str\n",
        "        | Iterable[fonts.Font | str] = (\n",
        "            fonts.GoogleFont(\"Quicksand\"),\n",
        "            \"ui-sans-serif\",\n",
        "            \"sans-serif\",\n",
        "        ),\n",
        "\n",
        "    ):\n",
        "        super().__init__(\n",
        "            primary_hue=primary_hue,\n",
        "            secondary_hue=secondary_hue,\n",
        "            neutral_hue=neutral_hue,\n",
        "            spacing_size=spacing_size,\n",
        "            radius_size=radius_size,\n",
        "            text_size=text_size,\n",
        "\n",
        "        )\n",
        "        super().set(\n",
        "            body_background_fill=\"repeating-linear-gradient(45deg, *primary_200, *primary_200 10px, *primary_50 10px, *primary_50 20px)\",\n",
        "            body_background_fill_dark=\"repeating-linear-gradient(45deg, *primary_800, *primary_800 10px, *primary_900 10px, *primary_900 20px)\",\n",
        "            button_primary_background_fill=\"linear-gradient(90deg, *primary_300, *secondary_400)\",\n",
        "            button_primary_background_fill_hover=\"linear-gradient(90deg, *primary_200, *secondary_300)\",\n",
        "            button_primary_text_color=\"white\",\n",
        "            button_primary_background_fill_dark=\"linear-gradient(90deg, *primary_600, *secondary_800)\",\n",
        "            slider_color=\"*secondary_300\",\n",
        "            slider_color_dark=\"*secondary_600\",\n",
        "            block_title_text_weight=\"600\",\n",
        "            block_border_width=\"3px\",\n",
        "            block_shadow=\"*shadow_drop_lg\",\n",
        "            button_shadow=\"*shadow_drop_lg\",\n",
        "            button_large_padding=\"32px\",\n",
        "        )\n",
        "\n",
        "\n",
        "\n",
        "seafoam = Seafoam()\n",
        "\n",
        "with gr.Blocks(theme=seafoam) as demo:\n",
        "    gr.Interface(fn=greet, inputs=\"textbox\",\n",
        "                    outputs=[gr.Textbox(label=\"Clasificación\")],\n",
        "\n",
        "                   )\n",
        "\n",
        "\n",
        "    with gr.Row():\n",
        "        button = gr.Button(\"Clacificador\", variant=\"primary\")\n",
        "        clear = gr.Button(\"Resultado\")\n",
        "\n",
        "\n",
        "\n",
        "\n",
        "if __name__ == \"__main__\":\n",
        "    demo.launch()\n",
        "\n"
      ]
    },
    {
      "cell_type": "code",
      "execution_count": null,
      "metadata": {
        "id": "KrUn5QC0WSVp"
      },
      "outputs": [],
      "source": []
    },
    {
      "cell_type": "code",
      "execution_count": null,
      "metadata": {
        "id": "BG_o1WALWSF1"
      },
      "outputs": [],
      "source": []
    }
  ],
  "metadata": {
    "accelerator": "GPU",
    "colab": {
      "gpuType": "T4",
      "machine_shape": "hm",
      "provenance": []
    },
    "kernelspec": {
      "display_name": "Python 3",
      "name": "python3"
    },
    "language_info": {
      "codemirror_mode": {
        "name": "ipython",
        "version": 3
      },
      "file_extension": ".py",
      "mimetype": "text/x-python",
      "name": "python",
      "nbconvert_exporter": "python",
      "pygments_lexer": "ipython3",
      "version": "3.11.9"
    },
    "widgets": {
      "application/vnd.jupyter.widget-state+json": {
        "2f99f3af29cb4bfc9eb14722cb232362": {
          "model_module": "@jupyter-widgets/controls",
          "model_name": "HBoxModel",
          "model_module_version": "1.5.0",
          "state": {
            "_dom_classes": [],
            "_model_module": "@jupyter-widgets/controls",
            "_model_module_version": "1.5.0",
            "_model_name": "HBoxModel",
            "_view_count": null,
            "_view_module": "@jupyter-widgets/controls",
            "_view_module_version": "1.5.0",
            "_view_name": "HBoxView",
            "box_style": "",
            "children": [
              "IPY_MODEL_cf6845f3c0be45b0b59033cbd2a61fa0",
              "IPY_MODEL_a7bce36526ce45ea99e02efd0b56c998",
              "IPY_MODEL_1db95647a51640489e438c9173185fd4"
            ],
            "layout": "IPY_MODEL_3f0d025936d74b2ab1cf11b28b199543"
          }
        },
        "cf6845f3c0be45b0b59033cbd2a61fa0": {
          "model_module": "@jupyter-widgets/controls",
          "model_name": "HTMLModel",
          "model_module_version": "1.5.0",
          "state": {
            "_dom_classes": [],
            "_model_module": "@jupyter-widgets/controls",
            "_model_module_version": "1.5.0",
            "_model_name": "HTMLModel",
            "_view_count": null,
            "_view_module": "@jupyter-widgets/controls",
            "_view_module_version": "1.5.0",
            "_view_name": "HTMLView",
            "description": "",
            "description_tooltip": null,
            "layout": "IPY_MODEL_6f58ae16f30541768357dd25abb15977",
            "placeholder": "​",
            "style": "IPY_MODEL_aa42c1aa411d419ea1c62fd168d307f2",
            "value": "tokenizer_config.json: 100%"
          }
        },
        "a7bce36526ce45ea99e02efd0b56c998": {
          "model_module": "@jupyter-widgets/controls",
          "model_name": "FloatProgressModel",
          "model_module_version": "1.5.0",
          "state": {
            "_dom_classes": [],
            "_model_module": "@jupyter-widgets/controls",
            "_model_module_version": "1.5.0",
            "_model_name": "FloatProgressModel",
            "_view_count": null,
            "_view_module": "@jupyter-widgets/controls",
            "_view_module_version": "1.5.0",
            "_view_name": "ProgressView",
            "bar_style": "success",
            "description": "",
            "description_tooltip": null,
            "layout": "IPY_MODEL_ff6e582e59d0437b8137fe6995140a91",
            "max": 49,
            "min": 0,
            "orientation": "horizontal",
            "style": "IPY_MODEL_a69acd36a7f3412ba13da1ed403cf460",
            "value": 49
          }
        },
        "1db95647a51640489e438c9173185fd4": {
          "model_module": "@jupyter-widgets/controls",
          "model_name": "HTMLModel",
          "model_module_version": "1.5.0",
          "state": {
            "_dom_classes": [],
            "_model_module": "@jupyter-widgets/controls",
            "_model_module_version": "1.5.0",
            "_model_name": "HTMLModel",
            "_view_count": null,
            "_view_module": "@jupyter-widgets/controls",
            "_view_module_version": "1.5.0",
            "_view_name": "HTMLView",
            "description": "",
            "description_tooltip": null,
            "layout": "IPY_MODEL_e60877c9e56e4abe9b50fab03b342696",
            "placeholder": "​",
            "style": "IPY_MODEL_d5386491dd0545fb9446fc0b69b4f061",
            "value": " 49.0/49.0 [00:00&lt;00:00, 2.57kB/s]"
          }
        },
        "3f0d025936d74b2ab1cf11b28b199543": {
          "model_module": "@jupyter-widgets/base",
          "model_name": "LayoutModel",
          "model_module_version": "1.2.0",
          "state": {
            "_model_module": "@jupyter-widgets/base",
            "_model_module_version": "1.2.0",
            "_model_name": "LayoutModel",
            "_view_count": null,
            "_view_module": "@jupyter-widgets/base",
            "_view_module_version": "1.2.0",
            "_view_name": "LayoutView",
            "align_content": null,
            "align_items": null,
            "align_self": null,
            "border": null,
            "bottom": null,
            "display": null,
            "flex": null,
            "flex_flow": null,
            "grid_area": null,
            "grid_auto_columns": null,
            "grid_auto_flow": null,
            "grid_auto_rows": null,
            "grid_column": null,
            "grid_gap": null,
            "grid_row": null,
            "grid_template_areas": null,
            "grid_template_columns": null,
            "grid_template_rows": null,
            "height": null,
            "justify_content": null,
            "justify_items": null,
            "left": null,
            "margin": null,
            "max_height": null,
            "max_width": null,
            "min_height": null,
            "min_width": null,
            "object_fit": null,
            "object_position": null,
            "order": null,
            "overflow": null,
            "overflow_x": null,
            "overflow_y": null,
            "padding": null,
            "right": null,
            "top": null,
            "visibility": null,
            "width": null
          }
        },
        "6f58ae16f30541768357dd25abb15977": {
          "model_module": "@jupyter-widgets/base",
          "model_name": "LayoutModel",
          "model_module_version": "1.2.0",
          "state": {
            "_model_module": "@jupyter-widgets/base",
            "_model_module_version": "1.2.0",
            "_model_name": "LayoutModel",
            "_view_count": null,
            "_view_module": "@jupyter-widgets/base",
            "_view_module_version": "1.2.0",
            "_view_name": "LayoutView",
            "align_content": null,
            "align_items": null,
            "align_self": null,
            "border": null,
            "bottom": null,
            "display": null,
            "flex": null,
            "flex_flow": null,
            "grid_area": null,
            "grid_auto_columns": null,
            "grid_auto_flow": null,
            "grid_auto_rows": null,
            "grid_column": null,
            "grid_gap": null,
            "grid_row": null,
            "grid_template_areas": null,
            "grid_template_columns": null,
            "grid_template_rows": null,
            "height": null,
            "justify_content": null,
            "justify_items": null,
            "left": null,
            "margin": null,
            "max_height": null,
            "max_width": null,
            "min_height": null,
            "min_width": null,
            "object_fit": null,
            "object_position": null,
            "order": null,
            "overflow": null,
            "overflow_x": null,
            "overflow_y": null,
            "padding": null,
            "right": null,
            "top": null,
            "visibility": null,
            "width": null
          }
        },
        "aa42c1aa411d419ea1c62fd168d307f2": {
          "model_module": "@jupyter-widgets/controls",
          "model_name": "DescriptionStyleModel",
          "model_module_version": "1.5.0",
          "state": {
            "_model_module": "@jupyter-widgets/controls",
            "_model_module_version": "1.5.0",
            "_model_name": "DescriptionStyleModel",
            "_view_count": null,
            "_view_module": "@jupyter-widgets/base",
            "_view_module_version": "1.2.0",
            "_view_name": "StyleView",
            "description_width": ""
          }
        },
        "ff6e582e59d0437b8137fe6995140a91": {
          "model_module": "@jupyter-widgets/base",
          "model_name": "LayoutModel",
          "model_module_version": "1.2.0",
          "state": {
            "_model_module": "@jupyter-widgets/base",
            "_model_module_version": "1.2.0",
            "_model_name": "LayoutModel",
            "_view_count": null,
            "_view_module": "@jupyter-widgets/base",
            "_view_module_version": "1.2.0",
            "_view_name": "LayoutView",
            "align_content": null,
            "align_items": null,
            "align_self": null,
            "border": null,
            "bottom": null,
            "display": null,
            "flex": null,
            "flex_flow": null,
            "grid_area": null,
            "grid_auto_columns": null,
            "grid_auto_flow": null,
            "grid_auto_rows": null,
            "grid_column": null,
            "grid_gap": null,
            "grid_row": null,
            "grid_template_areas": null,
            "grid_template_columns": null,
            "grid_template_rows": null,
            "height": null,
            "justify_content": null,
            "justify_items": null,
            "left": null,
            "margin": null,
            "max_height": null,
            "max_width": null,
            "min_height": null,
            "min_width": null,
            "object_fit": null,
            "object_position": null,
            "order": null,
            "overflow": null,
            "overflow_x": null,
            "overflow_y": null,
            "padding": null,
            "right": null,
            "top": null,
            "visibility": null,
            "width": null
          }
        },
        "a69acd36a7f3412ba13da1ed403cf460": {
          "model_module": "@jupyter-widgets/controls",
          "model_name": "ProgressStyleModel",
          "model_module_version": "1.5.0",
          "state": {
            "_model_module": "@jupyter-widgets/controls",
            "_model_module_version": "1.5.0",
            "_model_name": "ProgressStyleModel",
            "_view_count": null,
            "_view_module": "@jupyter-widgets/base",
            "_view_module_version": "1.2.0",
            "_view_name": "StyleView",
            "bar_color": null,
            "description_width": ""
          }
        },
        "e60877c9e56e4abe9b50fab03b342696": {
          "model_module": "@jupyter-widgets/base",
          "model_name": "LayoutModel",
          "model_module_version": "1.2.0",
          "state": {
            "_model_module": "@jupyter-widgets/base",
            "_model_module_version": "1.2.0",
            "_model_name": "LayoutModel",
            "_view_count": null,
            "_view_module": "@jupyter-widgets/base",
            "_view_module_version": "1.2.0",
            "_view_name": "LayoutView",
            "align_content": null,
            "align_items": null,
            "align_self": null,
            "border": null,
            "bottom": null,
            "display": null,
            "flex": null,
            "flex_flow": null,
            "grid_area": null,
            "grid_auto_columns": null,
            "grid_auto_flow": null,
            "grid_auto_rows": null,
            "grid_column": null,
            "grid_gap": null,
            "grid_row": null,
            "grid_template_areas": null,
            "grid_template_columns": null,
            "grid_template_rows": null,
            "height": null,
            "justify_content": null,
            "justify_items": null,
            "left": null,
            "margin": null,
            "max_height": null,
            "max_width": null,
            "min_height": null,
            "min_width": null,
            "object_fit": null,
            "object_position": null,
            "order": null,
            "overflow": null,
            "overflow_x": null,
            "overflow_y": null,
            "padding": null,
            "right": null,
            "top": null,
            "visibility": null,
            "width": null
          }
        },
        "d5386491dd0545fb9446fc0b69b4f061": {
          "model_module": "@jupyter-widgets/controls",
          "model_name": "DescriptionStyleModel",
          "model_module_version": "1.5.0",
          "state": {
            "_model_module": "@jupyter-widgets/controls",
            "_model_module_version": "1.5.0",
            "_model_name": "DescriptionStyleModel",
            "_view_count": null,
            "_view_module": "@jupyter-widgets/base",
            "_view_module_version": "1.2.0",
            "_view_name": "StyleView",
            "description_width": ""
          }
        },
        "ded7f890c376425bbd2ece23389542a2": {
          "model_module": "@jupyter-widgets/controls",
          "model_name": "HBoxModel",
          "model_module_version": "1.5.0",
          "state": {
            "_dom_classes": [],
            "_model_module": "@jupyter-widgets/controls",
            "_model_module_version": "1.5.0",
            "_model_name": "HBoxModel",
            "_view_count": null,
            "_view_module": "@jupyter-widgets/controls",
            "_view_module_version": "1.5.0",
            "_view_name": "HBoxView",
            "box_style": "",
            "children": [
              "IPY_MODEL_9929a3950b4244838a5101313790777d",
              "IPY_MODEL_3a8204f6a1214cd18fbc1b95d99990a5",
              "IPY_MODEL_d87b8a0133634ff9be6557d87c1adce3"
            ],
            "layout": "IPY_MODEL_2dfaf2bce02c4c2fb5eaa40588f65581"
          }
        },
        "9929a3950b4244838a5101313790777d": {
          "model_module": "@jupyter-widgets/controls",
          "model_name": "HTMLModel",
          "model_module_version": "1.5.0",
          "state": {
            "_dom_classes": [],
            "_model_module": "@jupyter-widgets/controls",
            "_model_module_version": "1.5.0",
            "_model_name": "HTMLModel",
            "_view_count": null,
            "_view_module": "@jupyter-widgets/controls",
            "_view_module_version": "1.5.0",
            "_view_name": "HTMLView",
            "description": "",
            "description_tooltip": null,
            "layout": "IPY_MODEL_5d9195be5fee4695b2545c63529b8738",
            "placeholder": "​",
            "style": "IPY_MODEL_34166c45ea32418b987f9cd6e24db4e8",
            "value": "config.json: 100%"
          }
        },
        "3a8204f6a1214cd18fbc1b95d99990a5": {
          "model_module": "@jupyter-widgets/controls",
          "model_name": "FloatProgressModel",
          "model_module_version": "1.5.0",
          "state": {
            "_dom_classes": [],
            "_model_module": "@jupyter-widgets/controls",
            "_model_module_version": "1.5.0",
            "_model_name": "FloatProgressModel",
            "_view_count": null,
            "_view_module": "@jupyter-widgets/controls",
            "_view_module_version": "1.5.0",
            "_view_name": "ProgressView",
            "bar_style": "success",
            "description": "",
            "description_tooltip": null,
            "layout": "IPY_MODEL_a4095d60ec2349229584a186172ff923",
            "max": 466,
            "min": 0,
            "orientation": "horizontal",
            "style": "IPY_MODEL_10c1be313d3240849bcad4b4bfb594da",
            "value": 466
          }
        },
        "d87b8a0133634ff9be6557d87c1adce3": {
          "model_module": "@jupyter-widgets/controls",
          "model_name": "HTMLModel",
          "model_module_version": "1.5.0",
          "state": {
            "_dom_classes": [],
            "_model_module": "@jupyter-widgets/controls",
            "_model_module_version": "1.5.0",
            "_model_name": "HTMLModel",
            "_view_count": null,
            "_view_module": "@jupyter-widgets/controls",
            "_view_module_version": "1.5.0",
            "_view_name": "HTMLView",
            "description": "",
            "description_tooltip": null,
            "layout": "IPY_MODEL_b2b7417c919c45f08353263b456df727",
            "placeholder": "​",
            "style": "IPY_MODEL_0fff7a09ac0e430583d037378e551cdc",
            "value": " 466/466 [00:00&lt;00:00, 35.1kB/s]"
          }
        },
        "2dfaf2bce02c4c2fb5eaa40588f65581": {
          "model_module": "@jupyter-widgets/base",
          "model_name": "LayoutModel",
          "model_module_version": "1.2.0",
          "state": {
            "_model_module": "@jupyter-widgets/base",
            "_model_module_version": "1.2.0",
            "_model_name": "LayoutModel",
            "_view_count": null,
            "_view_module": "@jupyter-widgets/base",
            "_view_module_version": "1.2.0",
            "_view_name": "LayoutView",
            "align_content": null,
            "align_items": null,
            "align_self": null,
            "border": null,
            "bottom": null,
            "display": null,
            "flex": null,
            "flex_flow": null,
            "grid_area": null,
            "grid_auto_columns": null,
            "grid_auto_flow": null,
            "grid_auto_rows": null,
            "grid_column": null,
            "grid_gap": null,
            "grid_row": null,
            "grid_template_areas": null,
            "grid_template_columns": null,
            "grid_template_rows": null,
            "height": null,
            "justify_content": null,
            "justify_items": null,
            "left": null,
            "margin": null,
            "max_height": null,
            "max_width": null,
            "min_height": null,
            "min_width": null,
            "object_fit": null,
            "object_position": null,
            "order": null,
            "overflow": null,
            "overflow_x": null,
            "overflow_y": null,
            "padding": null,
            "right": null,
            "top": null,
            "visibility": null,
            "width": null
          }
        },
        "5d9195be5fee4695b2545c63529b8738": {
          "model_module": "@jupyter-widgets/base",
          "model_name": "LayoutModel",
          "model_module_version": "1.2.0",
          "state": {
            "_model_module": "@jupyter-widgets/base",
            "_model_module_version": "1.2.0",
            "_model_name": "LayoutModel",
            "_view_count": null,
            "_view_module": "@jupyter-widgets/base",
            "_view_module_version": "1.2.0",
            "_view_name": "LayoutView",
            "align_content": null,
            "align_items": null,
            "align_self": null,
            "border": null,
            "bottom": null,
            "display": null,
            "flex": null,
            "flex_flow": null,
            "grid_area": null,
            "grid_auto_columns": null,
            "grid_auto_flow": null,
            "grid_auto_rows": null,
            "grid_column": null,
            "grid_gap": null,
            "grid_row": null,
            "grid_template_areas": null,
            "grid_template_columns": null,
            "grid_template_rows": null,
            "height": null,
            "justify_content": null,
            "justify_items": null,
            "left": null,
            "margin": null,
            "max_height": null,
            "max_width": null,
            "min_height": null,
            "min_width": null,
            "object_fit": null,
            "object_position": null,
            "order": null,
            "overflow": null,
            "overflow_x": null,
            "overflow_y": null,
            "padding": null,
            "right": null,
            "top": null,
            "visibility": null,
            "width": null
          }
        },
        "34166c45ea32418b987f9cd6e24db4e8": {
          "model_module": "@jupyter-widgets/controls",
          "model_name": "DescriptionStyleModel",
          "model_module_version": "1.5.0",
          "state": {
            "_model_module": "@jupyter-widgets/controls",
            "_model_module_version": "1.5.0",
            "_model_name": "DescriptionStyleModel",
            "_view_count": null,
            "_view_module": "@jupyter-widgets/base",
            "_view_module_version": "1.2.0",
            "_view_name": "StyleView",
            "description_width": ""
          }
        },
        "a4095d60ec2349229584a186172ff923": {
          "model_module": "@jupyter-widgets/base",
          "model_name": "LayoutModel",
          "model_module_version": "1.2.0",
          "state": {
            "_model_module": "@jupyter-widgets/base",
            "_model_module_version": "1.2.0",
            "_model_name": "LayoutModel",
            "_view_count": null,
            "_view_module": "@jupyter-widgets/base",
            "_view_module_version": "1.2.0",
            "_view_name": "LayoutView",
            "align_content": null,
            "align_items": null,
            "align_self": null,
            "border": null,
            "bottom": null,
            "display": null,
            "flex": null,
            "flex_flow": null,
            "grid_area": null,
            "grid_auto_columns": null,
            "grid_auto_flow": null,
            "grid_auto_rows": null,
            "grid_column": null,
            "grid_gap": null,
            "grid_row": null,
            "grid_template_areas": null,
            "grid_template_columns": null,
            "grid_template_rows": null,
            "height": null,
            "justify_content": null,
            "justify_items": null,
            "left": null,
            "margin": null,
            "max_height": null,
            "max_width": null,
            "min_height": null,
            "min_width": null,
            "object_fit": null,
            "object_position": null,
            "order": null,
            "overflow": null,
            "overflow_x": null,
            "overflow_y": null,
            "padding": null,
            "right": null,
            "top": null,
            "visibility": null,
            "width": null
          }
        },
        "10c1be313d3240849bcad4b4bfb594da": {
          "model_module": "@jupyter-widgets/controls",
          "model_name": "ProgressStyleModel",
          "model_module_version": "1.5.0",
          "state": {
            "_model_module": "@jupyter-widgets/controls",
            "_model_module_version": "1.5.0",
            "_model_name": "ProgressStyleModel",
            "_view_count": null,
            "_view_module": "@jupyter-widgets/base",
            "_view_module_version": "1.2.0",
            "_view_name": "StyleView",
            "bar_color": null,
            "description_width": ""
          }
        },
        "b2b7417c919c45f08353263b456df727": {
          "model_module": "@jupyter-widgets/base",
          "model_name": "LayoutModel",
          "model_module_version": "1.2.0",
          "state": {
            "_model_module": "@jupyter-widgets/base",
            "_model_module_version": "1.2.0",
            "_model_name": "LayoutModel",
            "_view_count": null,
            "_view_module": "@jupyter-widgets/base",
            "_view_module_version": "1.2.0",
            "_view_name": "LayoutView",
            "align_content": null,
            "align_items": null,
            "align_self": null,
            "border": null,
            "bottom": null,
            "display": null,
            "flex": null,
            "flex_flow": null,
            "grid_area": null,
            "grid_auto_columns": null,
            "grid_auto_flow": null,
            "grid_auto_rows": null,
            "grid_column": null,
            "grid_gap": null,
            "grid_row": null,
            "grid_template_areas": null,
            "grid_template_columns": null,
            "grid_template_rows": null,
            "height": null,
            "justify_content": null,
            "justify_items": null,
            "left": null,
            "margin": null,
            "max_height": null,
            "max_width": null,
            "min_height": null,
            "min_width": null,
            "object_fit": null,
            "object_position": null,
            "order": null,
            "overflow": null,
            "overflow_x": null,
            "overflow_y": null,
            "padding": null,
            "right": null,
            "top": null,
            "visibility": null,
            "width": null
          }
        },
        "0fff7a09ac0e430583d037378e551cdc": {
          "model_module": "@jupyter-widgets/controls",
          "model_name": "DescriptionStyleModel",
          "model_module_version": "1.5.0",
          "state": {
            "_model_module": "@jupyter-widgets/controls",
            "_model_module_version": "1.5.0",
            "_model_name": "DescriptionStyleModel",
            "_view_count": null,
            "_view_module": "@jupyter-widgets/base",
            "_view_module_version": "1.2.0",
            "_view_name": "StyleView",
            "description_width": ""
          }
        },
        "487e8ed2a990458f95debbafee11d705": {
          "model_module": "@jupyter-widgets/controls",
          "model_name": "HBoxModel",
          "model_module_version": "1.5.0",
          "state": {
            "_dom_classes": [],
            "_model_module": "@jupyter-widgets/controls",
            "_model_module_version": "1.5.0",
            "_model_name": "HBoxModel",
            "_view_count": null,
            "_view_module": "@jupyter-widgets/controls",
            "_view_module_version": "1.5.0",
            "_view_name": "HBoxView",
            "box_style": "",
            "children": [
              "IPY_MODEL_59f004e77528491bac168aa41a0f4dbd",
              "IPY_MODEL_26b8e4ac5a944844bd57a2e380c655bb",
              "IPY_MODEL_f280df79be6c483e8257ddae17601c45"
            ],
            "layout": "IPY_MODEL_d711f7c5354248bf8bdb896b7a7b3a04"
          }
        },
        "59f004e77528491bac168aa41a0f4dbd": {
          "model_module": "@jupyter-widgets/controls",
          "model_name": "HTMLModel",
          "model_module_version": "1.5.0",
          "state": {
            "_dom_classes": [],
            "_model_module": "@jupyter-widgets/controls",
            "_model_module_version": "1.5.0",
            "_model_name": "HTMLModel",
            "_view_count": null,
            "_view_module": "@jupyter-widgets/controls",
            "_view_module_version": "1.5.0",
            "_view_name": "HTMLView",
            "description": "",
            "description_tooltip": null,
            "layout": "IPY_MODEL_e547422bee4e4b4fba812880c626a369",
            "placeholder": "​",
            "style": "IPY_MODEL_555bb9f1628d42c186543eedef29e2c9",
            "value": "vocab.txt: 100%"
          }
        },
        "26b8e4ac5a944844bd57a2e380c655bb": {
          "model_module": "@jupyter-widgets/controls",
          "model_name": "FloatProgressModel",
          "model_module_version": "1.5.0",
          "state": {
            "_dom_classes": [],
            "_model_module": "@jupyter-widgets/controls",
            "_model_module_version": "1.5.0",
            "_model_name": "FloatProgressModel",
            "_view_count": null,
            "_view_module": "@jupyter-widgets/controls",
            "_view_module_version": "1.5.0",
            "_view_name": "ProgressView",
            "bar_style": "success",
            "description": "",
            "description_tooltip": null,
            "layout": "IPY_MODEL_3375ae4049a94a7ea9701252fa558778",
            "max": 995526,
            "min": 0,
            "orientation": "horizontal",
            "style": "IPY_MODEL_e4e9ffaaaa8245c1aa1f2ac596076c0f",
            "value": 995526
          }
        },
        "f280df79be6c483e8257ddae17601c45": {
          "model_module": "@jupyter-widgets/controls",
          "model_name": "HTMLModel",
          "model_module_version": "1.5.0",
          "state": {
            "_dom_classes": [],
            "_model_module": "@jupyter-widgets/controls",
            "_model_module_version": "1.5.0",
            "_model_name": "HTMLModel",
            "_view_count": null,
            "_view_module": "@jupyter-widgets/controls",
            "_view_module_version": "1.5.0",
            "_view_name": "HTMLView",
            "description": "",
            "description_tooltip": null,
            "layout": "IPY_MODEL_50897a57192e448e86aafed73a6401b0",
            "placeholder": "​",
            "style": "IPY_MODEL_17eb5d0e0cca4b73ba136f6e38ef0321",
            "value": " 996k/996k [00:00&lt;00:00, 7.06MB/s]"
          }
        },
        "d711f7c5354248bf8bdb896b7a7b3a04": {
          "model_module": "@jupyter-widgets/base",
          "model_name": "LayoutModel",
          "model_module_version": "1.2.0",
          "state": {
            "_model_module": "@jupyter-widgets/base",
            "_model_module_version": "1.2.0",
            "_model_name": "LayoutModel",
            "_view_count": null,
            "_view_module": "@jupyter-widgets/base",
            "_view_module_version": "1.2.0",
            "_view_name": "LayoutView",
            "align_content": null,
            "align_items": null,
            "align_self": null,
            "border": null,
            "bottom": null,
            "display": null,
            "flex": null,
            "flex_flow": null,
            "grid_area": null,
            "grid_auto_columns": null,
            "grid_auto_flow": null,
            "grid_auto_rows": null,
            "grid_column": null,
            "grid_gap": null,
            "grid_row": null,
            "grid_template_areas": null,
            "grid_template_columns": null,
            "grid_template_rows": null,
            "height": null,
            "justify_content": null,
            "justify_items": null,
            "left": null,
            "margin": null,
            "max_height": null,
            "max_width": null,
            "min_height": null,
            "min_width": null,
            "object_fit": null,
            "object_position": null,
            "order": null,
            "overflow": null,
            "overflow_x": null,
            "overflow_y": null,
            "padding": null,
            "right": null,
            "top": null,
            "visibility": null,
            "width": null
          }
        },
        "e547422bee4e4b4fba812880c626a369": {
          "model_module": "@jupyter-widgets/base",
          "model_name": "LayoutModel",
          "model_module_version": "1.2.0",
          "state": {
            "_model_module": "@jupyter-widgets/base",
            "_model_module_version": "1.2.0",
            "_model_name": "LayoutModel",
            "_view_count": null,
            "_view_module": "@jupyter-widgets/base",
            "_view_module_version": "1.2.0",
            "_view_name": "LayoutView",
            "align_content": null,
            "align_items": null,
            "align_self": null,
            "border": null,
            "bottom": null,
            "display": null,
            "flex": null,
            "flex_flow": null,
            "grid_area": null,
            "grid_auto_columns": null,
            "grid_auto_flow": null,
            "grid_auto_rows": null,
            "grid_column": null,
            "grid_gap": null,
            "grid_row": null,
            "grid_template_areas": null,
            "grid_template_columns": null,
            "grid_template_rows": null,
            "height": null,
            "justify_content": null,
            "justify_items": null,
            "left": null,
            "margin": null,
            "max_height": null,
            "max_width": null,
            "min_height": null,
            "min_width": null,
            "object_fit": null,
            "object_position": null,
            "order": null,
            "overflow": null,
            "overflow_x": null,
            "overflow_y": null,
            "padding": null,
            "right": null,
            "top": null,
            "visibility": null,
            "width": null
          }
        },
        "555bb9f1628d42c186543eedef29e2c9": {
          "model_module": "@jupyter-widgets/controls",
          "model_name": "DescriptionStyleModel",
          "model_module_version": "1.5.0",
          "state": {
            "_model_module": "@jupyter-widgets/controls",
            "_model_module_version": "1.5.0",
            "_model_name": "DescriptionStyleModel",
            "_view_count": null,
            "_view_module": "@jupyter-widgets/base",
            "_view_module_version": "1.2.0",
            "_view_name": "StyleView",
            "description_width": ""
          }
        },
        "3375ae4049a94a7ea9701252fa558778": {
          "model_module": "@jupyter-widgets/base",
          "model_name": "LayoutModel",
          "model_module_version": "1.2.0",
          "state": {
            "_model_module": "@jupyter-widgets/base",
            "_model_module_version": "1.2.0",
            "_model_name": "LayoutModel",
            "_view_count": null,
            "_view_module": "@jupyter-widgets/base",
            "_view_module_version": "1.2.0",
            "_view_name": "LayoutView",
            "align_content": null,
            "align_items": null,
            "align_self": null,
            "border": null,
            "bottom": null,
            "display": null,
            "flex": null,
            "flex_flow": null,
            "grid_area": null,
            "grid_auto_columns": null,
            "grid_auto_flow": null,
            "grid_auto_rows": null,
            "grid_column": null,
            "grid_gap": null,
            "grid_row": null,
            "grid_template_areas": null,
            "grid_template_columns": null,
            "grid_template_rows": null,
            "height": null,
            "justify_content": null,
            "justify_items": null,
            "left": null,
            "margin": null,
            "max_height": null,
            "max_width": null,
            "min_height": null,
            "min_width": null,
            "object_fit": null,
            "object_position": null,
            "order": null,
            "overflow": null,
            "overflow_x": null,
            "overflow_y": null,
            "padding": null,
            "right": null,
            "top": null,
            "visibility": null,
            "width": null
          }
        },
        "e4e9ffaaaa8245c1aa1f2ac596076c0f": {
          "model_module": "@jupyter-widgets/controls",
          "model_name": "ProgressStyleModel",
          "model_module_version": "1.5.0",
          "state": {
            "_model_module": "@jupyter-widgets/controls",
            "_model_module_version": "1.5.0",
            "_model_name": "ProgressStyleModel",
            "_view_count": null,
            "_view_module": "@jupyter-widgets/base",
            "_view_module_version": "1.2.0",
            "_view_name": "StyleView",
            "bar_color": null,
            "description_width": ""
          }
        },
        "50897a57192e448e86aafed73a6401b0": {
          "model_module": "@jupyter-widgets/base",
          "model_name": "LayoutModel",
          "model_module_version": "1.2.0",
          "state": {
            "_model_module": "@jupyter-widgets/base",
            "_model_module_version": "1.2.0",
            "_model_name": "LayoutModel",
            "_view_count": null,
            "_view_module": "@jupyter-widgets/base",
            "_view_module_version": "1.2.0",
            "_view_name": "LayoutView",
            "align_content": null,
            "align_items": null,
            "align_self": null,
            "border": null,
            "bottom": null,
            "display": null,
            "flex": null,
            "flex_flow": null,
            "grid_area": null,
            "grid_auto_columns": null,
            "grid_auto_flow": null,
            "grid_auto_rows": null,
            "grid_column": null,
            "grid_gap": null,
            "grid_row": null,
            "grid_template_areas": null,
            "grid_template_columns": null,
            "grid_template_rows": null,
            "height": null,
            "justify_content": null,
            "justify_items": null,
            "left": null,
            "margin": null,
            "max_height": null,
            "max_width": null,
            "min_height": null,
            "min_width": null,
            "object_fit": null,
            "object_position": null,
            "order": null,
            "overflow": null,
            "overflow_x": null,
            "overflow_y": null,
            "padding": null,
            "right": null,
            "top": null,
            "visibility": null,
            "width": null
          }
        },
        "17eb5d0e0cca4b73ba136f6e38ef0321": {
          "model_module": "@jupyter-widgets/controls",
          "model_name": "DescriptionStyleModel",
          "model_module_version": "1.5.0",
          "state": {
            "_model_module": "@jupyter-widgets/controls",
            "_model_module_version": "1.5.0",
            "_model_name": "DescriptionStyleModel",
            "_view_count": null,
            "_view_module": "@jupyter-widgets/base",
            "_view_module_version": "1.2.0",
            "_view_name": "StyleView",
            "description_width": ""
          }
        },
        "ac48062e737345aca4c8a7e331e32d1a": {
          "model_module": "@jupyter-widgets/controls",
          "model_name": "HBoxModel",
          "model_module_version": "1.5.0",
          "state": {
            "_dom_classes": [],
            "_model_module": "@jupyter-widgets/controls",
            "_model_module_version": "1.5.0",
            "_model_name": "HBoxModel",
            "_view_count": null,
            "_view_module": "@jupyter-widgets/controls",
            "_view_module_version": "1.5.0",
            "_view_name": "HBoxView",
            "box_style": "",
            "children": [
              "IPY_MODEL_d0963dd05900422ab399afffbb13a18c",
              "IPY_MODEL_3f0323f9f5be42c6ac9d85ad5218e1bb",
              "IPY_MODEL_86eb985cf2b74a6e817494cd1bb2af74"
            ],
            "layout": "IPY_MODEL_93d4b386cd4546d595ad584bb67ab015"
          }
        },
        "d0963dd05900422ab399afffbb13a18c": {
          "model_module": "@jupyter-widgets/controls",
          "model_name": "HTMLModel",
          "model_module_version": "1.5.0",
          "state": {
            "_dom_classes": [],
            "_model_module": "@jupyter-widgets/controls",
            "_model_module_version": "1.5.0",
            "_model_name": "HTMLModel",
            "_view_count": null,
            "_view_module": "@jupyter-widgets/controls",
            "_view_module_version": "1.5.0",
            "_view_name": "HTMLView",
            "description": "",
            "description_tooltip": null,
            "layout": "IPY_MODEL_37a8a70e400d4da8b132cb4585804645",
            "placeholder": "​",
            "style": "IPY_MODEL_9c8625eb58f84a16a8d5fab10fbeff37",
            "value": "tokenizer.json: 100%"
          }
        },
        "3f0323f9f5be42c6ac9d85ad5218e1bb": {
          "model_module": "@jupyter-widgets/controls",
          "model_name": "FloatProgressModel",
          "model_module_version": "1.5.0",
          "state": {
            "_dom_classes": [],
            "_model_module": "@jupyter-widgets/controls",
            "_model_module_version": "1.5.0",
            "_model_name": "FloatProgressModel",
            "_view_count": null,
            "_view_module": "@jupyter-widgets/controls",
            "_view_module_version": "1.5.0",
            "_view_name": "ProgressView",
            "bar_style": "success",
            "description": "",
            "description_tooltip": null,
            "layout": "IPY_MODEL_59ace9114c8c4caf9a616546ff9c88bf",
            "max": 1961828,
            "min": 0,
            "orientation": "horizontal",
            "style": "IPY_MODEL_7458a543fc954790a3a47d178dcf7a13",
            "value": 1961828
          }
        },
        "86eb985cf2b74a6e817494cd1bb2af74": {
          "model_module": "@jupyter-widgets/controls",
          "model_name": "HTMLModel",
          "model_module_version": "1.5.0",
          "state": {
            "_dom_classes": [],
            "_model_module": "@jupyter-widgets/controls",
            "_model_module_version": "1.5.0",
            "_model_name": "HTMLModel",
            "_view_count": null,
            "_view_module": "@jupyter-widgets/controls",
            "_view_module_version": "1.5.0",
            "_view_name": "HTMLView",
            "description": "",
            "description_tooltip": null,
            "layout": "IPY_MODEL_0910c073956945a881786454e8b688cb",
            "placeholder": "​",
            "style": "IPY_MODEL_3cf1fac5fc074ace82a4c3c37e5e2833",
            "value": " 1.96M/1.96M [00:00&lt;00:00, 7.63MB/s]"
          }
        },
        "93d4b386cd4546d595ad584bb67ab015": {
          "model_module": "@jupyter-widgets/base",
          "model_name": "LayoutModel",
          "model_module_version": "1.2.0",
          "state": {
            "_model_module": "@jupyter-widgets/base",
            "_model_module_version": "1.2.0",
            "_model_name": "LayoutModel",
            "_view_count": null,
            "_view_module": "@jupyter-widgets/base",
            "_view_module_version": "1.2.0",
            "_view_name": "LayoutView",
            "align_content": null,
            "align_items": null,
            "align_self": null,
            "border": null,
            "bottom": null,
            "display": null,
            "flex": null,
            "flex_flow": null,
            "grid_area": null,
            "grid_auto_columns": null,
            "grid_auto_flow": null,
            "grid_auto_rows": null,
            "grid_column": null,
            "grid_gap": null,
            "grid_row": null,
            "grid_template_areas": null,
            "grid_template_columns": null,
            "grid_template_rows": null,
            "height": null,
            "justify_content": null,
            "justify_items": null,
            "left": null,
            "margin": null,
            "max_height": null,
            "max_width": null,
            "min_height": null,
            "min_width": null,
            "object_fit": null,
            "object_position": null,
            "order": null,
            "overflow": null,
            "overflow_x": null,
            "overflow_y": null,
            "padding": null,
            "right": null,
            "top": null,
            "visibility": null,
            "width": null
          }
        },
        "37a8a70e400d4da8b132cb4585804645": {
          "model_module": "@jupyter-widgets/base",
          "model_name": "LayoutModel",
          "model_module_version": "1.2.0",
          "state": {
            "_model_module": "@jupyter-widgets/base",
            "_model_module_version": "1.2.0",
            "_model_name": "LayoutModel",
            "_view_count": null,
            "_view_module": "@jupyter-widgets/base",
            "_view_module_version": "1.2.0",
            "_view_name": "LayoutView",
            "align_content": null,
            "align_items": null,
            "align_self": null,
            "border": null,
            "bottom": null,
            "display": null,
            "flex": null,
            "flex_flow": null,
            "grid_area": null,
            "grid_auto_columns": null,
            "grid_auto_flow": null,
            "grid_auto_rows": null,
            "grid_column": null,
            "grid_gap": null,
            "grid_row": null,
            "grid_template_areas": null,
            "grid_template_columns": null,
            "grid_template_rows": null,
            "height": null,
            "justify_content": null,
            "justify_items": null,
            "left": null,
            "margin": null,
            "max_height": null,
            "max_width": null,
            "min_height": null,
            "min_width": null,
            "object_fit": null,
            "object_position": null,
            "order": null,
            "overflow": null,
            "overflow_x": null,
            "overflow_y": null,
            "padding": null,
            "right": null,
            "top": null,
            "visibility": null,
            "width": null
          }
        },
        "9c8625eb58f84a16a8d5fab10fbeff37": {
          "model_module": "@jupyter-widgets/controls",
          "model_name": "DescriptionStyleModel",
          "model_module_version": "1.5.0",
          "state": {
            "_model_module": "@jupyter-widgets/controls",
            "_model_module_version": "1.5.0",
            "_model_name": "DescriptionStyleModel",
            "_view_count": null,
            "_view_module": "@jupyter-widgets/base",
            "_view_module_version": "1.2.0",
            "_view_name": "StyleView",
            "description_width": ""
          }
        },
        "59ace9114c8c4caf9a616546ff9c88bf": {
          "model_module": "@jupyter-widgets/base",
          "model_name": "LayoutModel",
          "model_module_version": "1.2.0",
          "state": {
            "_model_module": "@jupyter-widgets/base",
            "_model_module_version": "1.2.0",
            "_model_name": "LayoutModel",
            "_view_count": null,
            "_view_module": "@jupyter-widgets/base",
            "_view_module_version": "1.2.0",
            "_view_name": "LayoutView",
            "align_content": null,
            "align_items": null,
            "align_self": null,
            "border": null,
            "bottom": null,
            "display": null,
            "flex": null,
            "flex_flow": null,
            "grid_area": null,
            "grid_auto_columns": null,
            "grid_auto_flow": null,
            "grid_auto_rows": null,
            "grid_column": null,
            "grid_gap": null,
            "grid_row": null,
            "grid_template_areas": null,
            "grid_template_columns": null,
            "grid_template_rows": null,
            "height": null,
            "justify_content": null,
            "justify_items": null,
            "left": null,
            "margin": null,
            "max_height": null,
            "max_width": null,
            "min_height": null,
            "min_width": null,
            "object_fit": null,
            "object_position": null,
            "order": null,
            "overflow": null,
            "overflow_x": null,
            "overflow_y": null,
            "padding": null,
            "right": null,
            "top": null,
            "visibility": null,
            "width": null
          }
        },
        "7458a543fc954790a3a47d178dcf7a13": {
          "model_module": "@jupyter-widgets/controls",
          "model_name": "ProgressStyleModel",
          "model_module_version": "1.5.0",
          "state": {
            "_model_module": "@jupyter-widgets/controls",
            "_model_module_version": "1.5.0",
            "_model_name": "ProgressStyleModel",
            "_view_count": null,
            "_view_module": "@jupyter-widgets/base",
            "_view_module_version": "1.2.0",
            "_view_name": "StyleView",
            "bar_color": null,
            "description_width": ""
          }
        },
        "0910c073956945a881786454e8b688cb": {
          "model_module": "@jupyter-widgets/base",
          "model_name": "LayoutModel",
          "model_module_version": "1.2.0",
          "state": {
            "_model_module": "@jupyter-widgets/base",
            "_model_module_version": "1.2.0",
            "_model_name": "LayoutModel",
            "_view_count": null,
            "_view_module": "@jupyter-widgets/base",
            "_view_module_version": "1.2.0",
            "_view_name": "LayoutView",
            "align_content": null,
            "align_items": null,
            "align_self": null,
            "border": null,
            "bottom": null,
            "display": null,
            "flex": null,
            "flex_flow": null,
            "grid_area": null,
            "grid_auto_columns": null,
            "grid_auto_flow": null,
            "grid_auto_rows": null,
            "grid_column": null,
            "grid_gap": null,
            "grid_row": null,
            "grid_template_areas": null,
            "grid_template_columns": null,
            "grid_template_rows": null,
            "height": null,
            "justify_content": null,
            "justify_items": null,
            "left": null,
            "margin": null,
            "max_height": null,
            "max_width": null,
            "min_height": null,
            "min_width": null,
            "object_fit": null,
            "object_position": null,
            "order": null,
            "overflow": null,
            "overflow_x": null,
            "overflow_y": null,
            "padding": null,
            "right": null,
            "top": null,
            "visibility": null,
            "width": null
          }
        },
        "3cf1fac5fc074ace82a4c3c37e5e2833": {
          "model_module": "@jupyter-widgets/controls",
          "model_name": "DescriptionStyleModel",
          "model_module_version": "1.5.0",
          "state": {
            "_model_module": "@jupyter-widgets/controls",
            "_model_module_version": "1.5.0",
            "_model_name": "DescriptionStyleModel",
            "_view_count": null,
            "_view_module": "@jupyter-widgets/base",
            "_view_module_version": "1.2.0",
            "_view_name": "StyleView",
            "description_width": ""
          }
        },
        "ffcd8e13c17b48b5970c645c341167c5": {
          "model_module": "@jupyter-widgets/controls",
          "model_name": "HBoxModel",
          "model_module_version": "1.5.0",
          "state": {
            "_dom_classes": [],
            "_model_module": "@jupyter-widgets/controls",
            "_model_module_version": "1.5.0",
            "_model_name": "HBoxModel",
            "_view_count": null,
            "_view_module": "@jupyter-widgets/controls",
            "_view_module_version": "1.5.0",
            "_view_name": "HBoxView",
            "box_style": "",
            "children": [
              "IPY_MODEL_1c173f15d9a24ecc886aa47ae58b2b2e",
              "IPY_MODEL_85024726e380423cbe91f9984aca64ec",
              "IPY_MODEL_7c19a15b22f046e79a995c3159119c34"
            ],
            "layout": "IPY_MODEL_3ada0bc367294d4d92e58c62cb834a1d"
          }
        },
        "1c173f15d9a24ecc886aa47ae58b2b2e": {
          "model_module": "@jupyter-widgets/controls",
          "model_name": "HTMLModel",
          "model_module_version": "1.5.0",
          "state": {
            "_dom_classes": [],
            "_model_module": "@jupyter-widgets/controls",
            "_model_module_version": "1.5.0",
            "_model_name": "HTMLModel",
            "_view_count": null,
            "_view_module": "@jupyter-widgets/controls",
            "_view_module_version": "1.5.0",
            "_view_name": "HTMLView",
            "description": "",
            "description_tooltip": null,
            "layout": "IPY_MODEL_ab675100360147d58084b823b37e0423",
            "placeholder": "​",
            "style": "IPY_MODEL_f71bdea4eb9a4a5cb32477d63d80bf7b",
            "value": "model.safetensors: 100%"
          }
        },
        "85024726e380423cbe91f9984aca64ec": {
          "model_module": "@jupyter-widgets/controls",
          "model_name": "FloatProgressModel",
          "model_module_version": "1.5.0",
          "state": {
            "_dom_classes": [],
            "_model_module": "@jupyter-widgets/controls",
            "_model_module_version": "1.5.0",
            "_model_name": "FloatProgressModel",
            "_view_count": null,
            "_view_module": "@jupyter-widgets/controls",
            "_view_module_version": "1.5.0",
            "_view_name": "ProgressView",
            "bar_style": "success",
            "description": "",
            "description_tooltip": null,
            "layout": "IPY_MODEL_bc86407b093e4939a9fb4ea84ce2dec6",
            "max": 541795680,
            "min": 0,
            "orientation": "horizontal",
            "style": "IPY_MODEL_43455302292d452ca5767930e3a71f8c",
            "value": 541795680
          }
        },
        "7c19a15b22f046e79a995c3159119c34": {
          "model_module": "@jupyter-widgets/controls",
          "model_name": "HTMLModel",
          "model_module_version": "1.5.0",
          "state": {
            "_dom_classes": [],
            "_model_module": "@jupyter-widgets/controls",
            "_model_module_version": "1.5.0",
            "_model_name": "HTMLModel",
            "_view_count": null,
            "_view_module": "@jupyter-widgets/controls",
            "_view_module_version": "1.5.0",
            "_view_name": "HTMLView",
            "description": "",
            "description_tooltip": null,
            "layout": "IPY_MODEL_89c46e3195724e3ca16f9493d15866ab",
            "placeholder": "​",
            "style": "IPY_MODEL_03dd6af65eda44c8af2de2d0be347c8d",
            "value": " 542M/542M [00:02&lt;00:00, 194MB/s]"
          }
        },
        "3ada0bc367294d4d92e58c62cb834a1d": {
          "model_module": "@jupyter-widgets/base",
          "model_name": "LayoutModel",
          "model_module_version": "1.2.0",
          "state": {
            "_model_module": "@jupyter-widgets/base",
            "_model_module_version": "1.2.0",
            "_model_name": "LayoutModel",
            "_view_count": null,
            "_view_module": "@jupyter-widgets/base",
            "_view_module_version": "1.2.0",
            "_view_name": "LayoutView",
            "align_content": null,
            "align_items": null,
            "align_self": null,
            "border": null,
            "bottom": null,
            "display": null,
            "flex": null,
            "flex_flow": null,
            "grid_area": null,
            "grid_auto_columns": null,
            "grid_auto_flow": null,
            "grid_auto_rows": null,
            "grid_column": null,
            "grid_gap": null,
            "grid_row": null,
            "grid_template_areas": null,
            "grid_template_columns": null,
            "grid_template_rows": null,
            "height": null,
            "justify_content": null,
            "justify_items": null,
            "left": null,
            "margin": null,
            "max_height": null,
            "max_width": null,
            "min_height": null,
            "min_width": null,
            "object_fit": null,
            "object_position": null,
            "order": null,
            "overflow": null,
            "overflow_x": null,
            "overflow_y": null,
            "padding": null,
            "right": null,
            "top": null,
            "visibility": null,
            "width": null
          }
        },
        "ab675100360147d58084b823b37e0423": {
          "model_module": "@jupyter-widgets/base",
          "model_name": "LayoutModel",
          "model_module_version": "1.2.0",
          "state": {
            "_model_module": "@jupyter-widgets/base",
            "_model_module_version": "1.2.0",
            "_model_name": "LayoutModel",
            "_view_count": null,
            "_view_module": "@jupyter-widgets/base",
            "_view_module_version": "1.2.0",
            "_view_name": "LayoutView",
            "align_content": null,
            "align_items": null,
            "align_self": null,
            "border": null,
            "bottom": null,
            "display": null,
            "flex": null,
            "flex_flow": null,
            "grid_area": null,
            "grid_auto_columns": null,
            "grid_auto_flow": null,
            "grid_auto_rows": null,
            "grid_column": null,
            "grid_gap": null,
            "grid_row": null,
            "grid_template_areas": null,
            "grid_template_columns": null,
            "grid_template_rows": null,
            "height": null,
            "justify_content": null,
            "justify_items": null,
            "left": null,
            "margin": null,
            "max_height": null,
            "max_width": null,
            "min_height": null,
            "min_width": null,
            "object_fit": null,
            "object_position": null,
            "order": null,
            "overflow": null,
            "overflow_x": null,
            "overflow_y": null,
            "padding": null,
            "right": null,
            "top": null,
            "visibility": null,
            "width": null
          }
        },
        "f71bdea4eb9a4a5cb32477d63d80bf7b": {
          "model_module": "@jupyter-widgets/controls",
          "model_name": "DescriptionStyleModel",
          "model_module_version": "1.5.0",
          "state": {
            "_model_module": "@jupyter-widgets/controls",
            "_model_module_version": "1.5.0",
            "_model_name": "DescriptionStyleModel",
            "_view_count": null,
            "_view_module": "@jupyter-widgets/base",
            "_view_module_version": "1.2.0",
            "_view_name": "StyleView",
            "description_width": ""
          }
        },
        "bc86407b093e4939a9fb4ea84ce2dec6": {
          "model_module": "@jupyter-widgets/base",
          "model_name": "LayoutModel",
          "model_module_version": "1.2.0",
          "state": {
            "_model_module": "@jupyter-widgets/base",
            "_model_module_version": "1.2.0",
            "_model_name": "LayoutModel",
            "_view_count": null,
            "_view_module": "@jupyter-widgets/base",
            "_view_module_version": "1.2.0",
            "_view_name": "LayoutView",
            "align_content": null,
            "align_items": null,
            "align_self": null,
            "border": null,
            "bottom": null,
            "display": null,
            "flex": null,
            "flex_flow": null,
            "grid_area": null,
            "grid_auto_columns": null,
            "grid_auto_flow": null,
            "grid_auto_rows": null,
            "grid_column": null,
            "grid_gap": null,
            "grid_row": null,
            "grid_template_areas": null,
            "grid_template_columns": null,
            "grid_template_rows": null,
            "height": null,
            "justify_content": null,
            "justify_items": null,
            "left": null,
            "margin": null,
            "max_height": null,
            "max_width": null,
            "min_height": null,
            "min_width": null,
            "object_fit": null,
            "object_position": null,
            "order": null,
            "overflow": null,
            "overflow_x": null,
            "overflow_y": null,
            "padding": null,
            "right": null,
            "top": null,
            "visibility": null,
            "width": null
          }
        },
        "43455302292d452ca5767930e3a71f8c": {
          "model_module": "@jupyter-widgets/controls",
          "model_name": "ProgressStyleModel",
          "model_module_version": "1.5.0",
          "state": {
            "_model_module": "@jupyter-widgets/controls",
            "_model_module_version": "1.5.0",
            "_model_name": "ProgressStyleModel",
            "_view_count": null,
            "_view_module": "@jupyter-widgets/base",
            "_view_module_version": "1.2.0",
            "_view_name": "StyleView",
            "bar_color": null,
            "description_width": ""
          }
        },
        "89c46e3195724e3ca16f9493d15866ab": {
          "model_module": "@jupyter-widgets/base",
          "model_name": "LayoutModel",
          "model_module_version": "1.2.0",
          "state": {
            "_model_module": "@jupyter-widgets/base",
            "_model_module_version": "1.2.0",
            "_model_name": "LayoutModel",
            "_view_count": null,
            "_view_module": "@jupyter-widgets/base",
            "_view_module_version": "1.2.0",
            "_view_name": "LayoutView",
            "align_content": null,
            "align_items": null,
            "align_self": null,
            "border": null,
            "bottom": null,
            "display": null,
            "flex": null,
            "flex_flow": null,
            "grid_area": null,
            "grid_auto_columns": null,
            "grid_auto_flow": null,
            "grid_auto_rows": null,
            "grid_column": null,
            "grid_gap": null,
            "grid_row": null,
            "grid_template_areas": null,
            "grid_template_columns": null,
            "grid_template_rows": null,
            "height": null,
            "justify_content": null,
            "justify_items": null,
            "left": null,
            "margin": null,
            "max_height": null,
            "max_width": null,
            "min_height": null,
            "min_width": null,
            "object_fit": null,
            "object_position": null,
            "order": null,
            "overflow": null,
            "overflow_x": null,
            "overflow_y": null,
            "padding": null,
            "right": null,
            "top": null,
            "visibility": null,
            "width": null
          }
        },
        "03dd6af65eda44c8af2de2d0be347c8d": {
          "model_module": "@jupyter-widgets/controls",
          "model_name": "DescriptionStyleModel",
          "model_module_version": "1.5.0",
          "state": {
            "_model_module": "@jupyter-widgets/controls",
            "_model_module_version": "1.5.0",
            "_model_name": "DescriptionStyleModel",
            "_view_count": null,
            "_view_module": "@jupyter-widgets/base",
            "_view_module_version": "1.2.0",
            "_view_name": "StyleView",
            "description_width": ""
          }
        }
      }
    }
  },
  "nbformat": 4,
  "nbformat_minor": 0
}